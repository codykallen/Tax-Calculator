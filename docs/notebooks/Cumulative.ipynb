{
 "cells": [
  {
   "cell_type": "markdown",
   "metadata": {},
   "source": [
    "## WARNING!\n",
    "Do not run this entire notebook at once. The calculator objects created are very large. This notebook has a total of thirteen calculator objects, with an additional two temporarily created while running the revenue estimates for 2017-2026. Having that many calculator objects at once can max out your computer's physical memory. "
   ]
  },
  {
   "cell_type": "code",
   "execution_count": 1,
   "metadata": {
    "collapsed": true
   },
   "outputs": [],
   "source": [
    "import sys\n",
    "sys.path.append(\"../../\")\n",
    "from taxcalc import *\n",
    "import pandas as pd\n",
    "import numpy as np\n",
    "import copy"
   ]
  },
  {
   "cell_type": "code",
   "execution_count": 2,
   "metadata": {
    "collapsed": true
   },
   "outputs": [],
   "source": [
    "CBO_growth = {2013: {'_factor_target': [0.022, \n",
    "                                        0.024,\n",
    "                                        0.024,\n",
    "                                        0.025,\n",
    "                                        0.026,\n",
    "                                        0.023,\n",
    "                                        0.018,\n",
    "                                        0.019,\n",
    "                                        0.021,\n",
    "                                        0.021,\n",
    "                                        0.021,\n",
    "                                        0.02,\n",
    "                                        0.02,\n",
    "                                        0.02]\n",
    "                     }\n",
    "              }\n",
    "behavior_traits = {2017: {'_BE_inc': [0.0], '_BE_sub': [0.4], '_BE_cg': [-3.487]}}"
   ]
  },
  {
   "cell_type": "markdown",
   "metadata": {},
   "source": [
    "# Cumulative construction of reform plan aspects"
   ]
  },
  {
   "cell_type": "code",
   "execution_count": 3,
   "metadata": {
    "collapsed": false
   },
   "outputs": [
    {
     "name": "stdout",
     "output_type": "stream",
     "text": [
      "You loaded data for 2009.\n",
      "Your data have been extrapolated to 2013.\n",
      "Done\n"
     ]
    }
   ],
   "source": [
    "# Current law baseline\n",
    "policy_cl = Policy()\n",
    "behavior_cl = Behavior()\n",
    "records_cl = Records(\"../../puf.csv\")\n",
    "calc_cl = Calculator(policy_cl, records_cl, behavior_traits)\n",
    "calc_cl.growth.update_economic_growth(CBO_growth)\n",
    "for i in range(4):\n",
    "    calc_cl.increment_year()\n",
    "assert calc_cl.current_year == 2017\n",
    "calc_cl.calc_all()\n",
    "print \"Done\""
   ]
  },
  {
   "cell_type": "code",
   "execution_count": 4,
   "metadata": {
    "collapsed": false
   },
   "outputs": [
    {
     "name": "stdout",
     "output_type": "stream",
     "text": [
      "You loaded data for 2009.\n",
      "Your data have been extrapolated to 2013.\n",
      "Done\n"
     ]
    }
   ],
   "source": [
    "# Repeal the AMT\n",
    "policy_amt = Policy()\n",
    "behavior_amt = Behavior()\n",
    "records_amt = Records(\"../../puf.csv\")\n",
    "reform_amt = {\n",
    "    2017: {\n",
    "        '_AMT_trt1': [0.0],\n",
    "        '_AMT_trt2': [0.0]\n",
    "    }\n",
    "}\n",
    "policy_amt.implement_reform(reform_amt)\n",
    "calc_amt = Calculator(policy_amt, records_amt, behavior_amt)\n",
    "calc_amt.growth.update_economic_growth(CBO_growth)\n",
    "for i in range(4):\n",
    "    calc_amt.increment_year()\n",
    "assert calc_amt.current_year == 2017\n",
    "calc_amt.calc_all()\n",
    "calc_amt.behavior.update_behavior(behavior_traits)\n",
    "calc_amt_beh = Behavior.response(calc_cl, calc_amt)\n",
    "print \"Done\""
   ]
  },
  {
   "cell_type": "code",
   "execution_count": 4,
   "metadata": {
    "collapsed": false
   },
   "outputs": [
    {
     "name": "stdout",
     "output_type": "stream",
     "text": [
      "You loaded data for 2009.\n",
      "Your data have been extrapolated to 2013.\n",
      "Done\n"
     ]
    }
   ],
   "source": [
    "# Reform income tax rates\n",
    "policy_inc = Policy()\n",
    "behavior_inc = Behavior()\n",
    "records_inc = Records(\"../../puf.csv\")\n",
    "reform_inc = {\n",
    "    2017: {\n",
    "        '_AMT_trt1': [0.0],\n",
    "        '_AMT_trt2': [0.0],\n",
    "        '_II_rt1': [0.12],\n",
    "        '_II_rt2': [0.12],\n",
    "        '_II_rt3': [0.25],\n",
    "        '_II_rt4': [0.25],\n",
    "        '_II_rt5': [0.33],\n",
    "        '_II_rt6': [0.33],\n",
    "        '_II_rt7': [0.33]\n",
    "    }\n",
    "}\n",
    "policy_inc.implement_reform(reform_inc)\n",
    "calc_inc = Calculator(policy_inc, records_inc, behavior_inc)\n",
    "calc_inc.growth.update_economic_growth(CBO_growth)\n",
    "for i in range(4):\n",
    "    calc_inc.increment_year()\n",
    "assert calc_inc.current_year == 2017\n",
    "calc_inc.calc_all()\n",
    "calc_inc.behavior.update_behavior(behavior_traits)\n",
    "calc_inc_beh = Behavior.response(calc_cl, calc_inc)\n",
    "print \"Done\""
   ]
  },
  {
   "cell_type": "code",
   "execution_count": 5,
   "metadata": {
    "collapsed": false
   },
   "outputs": [
    {
     "name": "stdout",
     "output_type": "stream",
     "text": [
      "You loaded data for 2009.\n",
      "Your data have been extrapolated to 2013.\n",
      "Done\n"
     ]
    }
   ],
   "source": [
    "# Reform pass-through tax rates\n",
    "policy_pt = Policy()\n",
    "behavior_pt = Behavior()\n",
    "records_pt = Records(\"../../puf.csv\")\n",
    "reform_pt = {\n",
    "    2017: {\n",
    "        '_AMT_trt1': [0.0],\n",
    "        '_AMT_trt2': [0.0],\n",
    "        '_II_rt1': [0.12],\n",
    "        '_II_rt2': [0.12],\n",
    "        '_II_rt3': [0.25],\n",
    "        '_II_rt4': [0.25],\n",
    "        '_II_rt5': [0.33],\n",
    "        '_II_rt6': [0.33],\n",
    "        '_II_rt7': [0.33],\n",
    "        '_PT_rt1': [0.12],\n",
    "        '_PT_rt2': [0.12],\n",
    "        '_PT_rt3': [0.25],\n",
    "        '_PT_rt4': [0.25],\n",
    "        '_PT_rt5': [0.25],\n",
    "        '_PT_rt6': [0.25],\n",
    "        '_PT_rt7': [0.25]\n",
    "    }\n",
    "}\n",
    "policy_pt.implement_reform(reform_pt)\n",
    "calc_pt = Calculator(policy_pt, records_pt, behavior_pt)\n",
    "calc_pt.growth.update_economic_growth(CBO_growth)\n",
    "for i in range(4):\n",
    "    calc_pt.increment_year()\n",
    "assert calc_pt.current_year == 2017\n",
    "calc_pt.calc_all()\n",
    "calc_pt.behavior.update_behavior(behavior_traits)\n",
    "calc_pt_beh = Behavior.response(calc_cl, calc_pt)\n",
    "print \"Done\""
   ]
  },
  {
   "cell_type": "code",
   "execution_count": 4,
   "metadata": {
    "collapsed": false
   },
   "outputs": [
    {
     "name": "stdout",
     "output_type": "stream",
     "text": [
      "You loaded data for 2009.\n",
      "Your data have been extrapolated to 2013.\n",
      "Done\n"
     ]
    }
   ],
   "source": [
    "# Exclude half of ltcg, qdivs and interest from taxation\n",
    "policy_inv = Policy()\n",
    "behavior_inv = Behavior()\n",
    "records_inv = Records(\"../../puf.csv\")\n",
    "reform_inv = {\n",
    "    2017: {\n",
    "        '_AMT_trt1': [0.0],\n",
    "        '_AMT_trt2': [0.0],\n",
    "        '_II_rt1': [0.12],\n",
    "        '_II_rt2': [0.12],\n",
    "        '_II_rt3': [0.25],\n",
    "        '_II_rt4': [0.25],\n",
    "        '_II_rt5': [0.33],\n",
    "        '_II_rt6': [0.33],\n",
    "        '_II_rt7': [0.33],\n",
    "        '_PT_rt1': [0.12],\n",
    "        '_PT_rt2': [0.12],\n",
    "        '_PT_rt3': [0.25],\n",
    "        '_PT_rt4': [0.25],\n",
    "        '_PT_rt5': [0.25],\n",
    "        '_PT_rt6': [0.25],\n",
    "        '_PT_rt7': [0.25],\n",
    "        '_ALD_Investment_ec': [0.5],        \n",
    "        '_CG_as_II': [1],\n",
    "        '_NIIT_trt': [0.0]\n",
    "    }\n",
    "}\n",
    "policy_inv.implement_reform(reform_inv)\n",
    "calc_inv = Calculator(policy_inv, records_inv, behavior_inv)\n",
    "calc_inv.growth.update_economic_growth(CBO_growth)\n",
    "for i in range(4):\n",
    "    calc_inv.increment_year()\n",
    "assert calc_inv.current_year == 2017\n",
    "calc_inv.calc_all()\n",
    "calc_inv.behavior.update_behavior(behavior_traits)\n",
    "calc_inv_beh = Behavior.response(calc_cl, calc_inv)\n",
    "print \"Done\""
   ]
  },
  {
   "cell_type": "code",
   "execution_count": 5,
   "metadata": {
    "collapsed": false
   },
   "outputs": [
    {
     "name": "stdout",
     "output_type": "stream",
     "text": [
      "You loaded data for 2009.\n",
      "Your data have been extrapolated to 2013.\n",
      "Done\n"
     ]
    }
   ],
   "source": [
    "# Expand the standard deduction, repeal the personal exemption, repeal the add'l standard deduction for the aged and blind,\n",
    "# increase CTC phase-out threshold for married filers, add $500 non-refundable credit for dependents\n",
    "policy_sd = Policy()\n",
    "behavior_sd = Behavior()\n",
    "records_sd = Records(\"../../puf.csv\")\n",
    "reform_sd = {\n",
    "    2017: {\n",
    "        '_AMT_trt1': [0.0],\n",
    "        '_AMT_trt2': [0.0],\n",
    "        '_II_rt1': [0.12],\n",
    "        '_II_rt2': [0.12],\n",
    "        '_II_rt3': [0.25],\n",
    "        '_II_rt4': [0.25],\n",
    "        '_II_rt5': [0.33],\n",
    "        '_II_rt6': [0.33],\n",
    "        '_II_rt7': [0.33],\n",
    "        '_PT_rt1': [0.12],\n",
    "        '_PT_rt2': [0.12],\n",
    "        '_PT_rt3': [0.25],\n",
    "        '_PT_rt4': [0.25],\n",
    "        '_PT_rt5': [0.25],\n",
    "        '_PT_rt6': [0.25],\n",
    "        '_PT_rt7': [0.25],\n",
    "        '_ALD_Investment_ec': [0.5],        \n",
    "        '_CG_as_II': [1],\n",
    "        '_NIIT_trt': [0.0],\n",
    "        '_STD': [[12000, 24000, 12000, 18000, 24000, 12000, 1050]],\n",
    "        '_STD_Aged': [[0,0,0,0,0,0],\n",
    "                      [0,0,0,0,0,0],\n",
    "                      [0,0,0,0,0,0],\n",
    "                      [0,0,0,0,0,0]],\n",
    "        '_II_em': [0,0,0,0],\n",
    "        '_CTC_ps': [[75000, 150000, 75000, 75000, 75000, 75000]],\n",
    "        '_II_credit': [[500, 500, 500, 500, 500, 500]],\n",
    "        '_II_credit_ps': [[75000, 150000, 75000, 75000, 75000, 75000]],\n",
    "        '_II_credit_prt': [0.05]\n",
    "    }\n",
    "}\n",
    "policy_sd.implement_reform(reform_sd)\n",
    "calc_sd = Calculator(policy_sd, records_sd, behavior_sd)\n",
    "calc_sd.growth.update_economic_growth(CBO_growth)\n",
    "for i in range(4):\n",
    "    calc_sd.increment_year()\n",
    "assert calc_sd.current_year == 2017\n",
    "calc_sd.calc_all()\n",
    "calc_sd.behavior.update_behavior(behavior_traits)\n",
    "calc_sd_beh = Behavior.response(calc_cl, calc_sd)\n",
    "print \"Done\""
   ]
  },
  {
   "cell_type": "code",
   "execution_count": 6,
   "metadata": {
    "collapsed": false
   },
   "outputs": [
    {
     "name": "stdout",
     "output_type": "stream",
     "text": [
      "You loaded data for 2009.\n",
      "Your data have been extrapolated to 2013.\n",
      "Done\n"
     ]
    }
   ],
   "source": [
    "# Repeal all itemized deductions except for mortgage interest and charity\n",
    "policy_ided = Policy()\n",
    "behavior_ided = Behavior()\n",
    "records_ided = Records(\"../../puf.csv\")\n",
    "reform_ided = {\n",
    "    2017: {\n",
    "        '_AMT_trt1': [0.0],\n",
    "        '_AMT_trt2': [0.0],\n",
    "        '_II_rt1': [0.12],\n",
    "        '_II_rt2': [0.12],\n",
    "        '_II_rt3': [0.25],\n",
    "        '_II_rt4': [0.25],\n",
    "        '_II_rt5': [0.33],\n",
    "        '_II_rt6': [0.33],\n",
    "        '_II_rt7': [0.33],\n",
    "        '_PT_rt1': [0.12],\n",
    "        '_PT_rt2': [0.12],\n",
    "        '_PT_rt3': [0.25],\n",
    "        '_PT_rt4': [0.25],\n",
    "        '_PT_rt5': [0.25],\n",
    "        '_PT_rt6': [0.25],\n",
    "        '_PT_rt7': [0.25],\n",
    "        '_ALD_Investment_ec': [0.5],        \n",
    "        '_CG_as_II': [1],\n",
    "        '_NIIT_trt': [0.0],\n",
    "        '_STD': [[12000, 24000, 12000, 18000, 24000, 12000, 1050]],\n",
    "        '_STD_Aged': [[0,0,0,0,0,0],\n",
    "                      [0,0,0,0,0,0],\n",
    "                      [0,0,0,0,0,0],\n",
    "                      [0,0,0,0,0,0]],\n",
    "        '_II_em': [0,0,0,0],\n",
    "        '_CTC_ps': [[75000, 150000, 75000, 75000, 75000, 75000]],\n",
    "        '_II_credit': [[500, 500, 500, 500, 500, 500]],\n",
    "        '_II_credit_ps': [[75000, 150000, 75000, 75000, 75000, 75000]],\n",
    "        '_II_credit_prt': [0.05],\n",
    "        '_ID_StateLocalTax_HC': [1.0],\n",
    "        '_ID_Medical_HC': [1.0],\n",
    "        '_ID_Casualty_HC': [1.0],\n",
    "        '_ID_Miscellaneous_HC': [1.0],\n",
    "        '_ID_RealEstate_HC': [1.0],\n",
    "        '_ALD_Investment_ec': [0.5]\n",
    "    }\n",
    "}\n",
    "policy_ided.implement_reform(reform_ided)\n",
    "calc_ided = Calculator(policy_ided, records_ided, behavior_ided)\n",
    "calc_ided.growth.update_economic_growth(CBO_growth)\n",
    "for i in range(4):\n",
    "    calc_ided.increment_year()\n",
    "assert calc_ided.current_year == 2017\n",
    "calc_ided.calc_all()\n",
    "calc_ided.behavior.update_behavior(behavior_traits)\n",
    "calc_ided_beh = Behavior.response(calc_cl, calc_ided)\n",
    "print \"Done\""
   ]
  },
  {
   "cell_type": "markdown",
   "metadata": {},
   "source": [
    "# Iterator and revenue impact"
   ]
  },
  {
   "cell_type": "code",
   "execution_count": 7,
   "metadata": {
    "collapsed": true
   },
   "outputs": [],
   "source": [
    "def static_path_change(calcx, calcy):\n",
    "    static_path = [0] * 10\n",
    "    calc1 = copy.deepcopy(calcx)\n",
    "    calc2 = copy.deepcopy(calcy)\n",
    "    for i in range(10):\n",
    "        calc1.calc_all()\n",
    "        calc2.calc_all()\n",
    "        calc1_combined = (calc1.records._combined * calc1.records.s006)\n",
    "        calc2_combined = (calc2.records._combined * calc2.records.s006)\n",
    "        static_path[i] = (calc2_combined - calc1_combined).sum() / 10**9\n",
    "        if calc1.current_year < 2026:\n",
    "            calc1.increment_year()\n",
    "            calc2.increment_year()\n",
    "    return static_path"
   ]
  },
  {
   "cell_type": "markdown",
   "metadata": {},
   "source": [
    "## No behavioral response"
   ]
  },
  {
   "cell_type": "code",
   "execution_count": 8,
   "metadata": {
    "collapsed": false
   },
   "outputs": [
    {
     "name": "stdout",
     "output_type": "stream",
     "text": [
      "Revenue impact from AMT repeal ($billions)\n",
      "2017: -41.7933771274\n",
      "2018: -44.5147243405\n",
      "2019: -47.1644829242\n",
      "2020: -50.0953425904\n",
      "2021: -53.1571447875\n",
      "2022: -56.574304556\n",
      "2023: -60.0345241963\n",
      "2024: -63.5258974407\n",
      "2025: -67.1436800161\n",
      "2026: -70.8849772639\n"
     ]
    }
   ],
   "source": [
    "path1 = static_path_change(calc_cl, calc_amt)\n",
    "print \"Revenue impact from AMT repeal ($billions)\"\n",
    "for i in range(10):\n",
    "    print str(2017 + i) + ': ' + str(path1[i])"
   ]
  },
  {
   "cell_type": "code",
   "execution_count": 9,
   "metadata": {
    "collapsed": false
   },
   "outputs": [
    {
     "name": "stdout",
     "output_type": "stream",
     "text": [
      "Additional revenue impact from income tax rate reform ($billions)\n",
      "2017: -92.5128667188\n",
      "2018: -97.4086933879\n",
      "2019: -101.835705085\n",
      "2020: -106.6842237\n",
      "2021: -112.086918869\n",
      "2022: -117.850627518\n",
      "2023: -124.093889814\n",
      "2024: -130.536621695\n",
      "2025: -137.277290812\n",
      "2026: -144.389911803\n"
     ]
    }
   ],
   "source": [
    "path2 = static_path_change(calc_amt, calc_inc)\n",
    "print \"Additional revenue impact from income tax rate reform ($billions)\"\n",
    "for i in range(10):\n",
    "    print str(2017 + i) + ': ' + str(path2[i])"
   ]
  },
  {
   "cell_type": "code",
   "execution_count": 8,
   "metadata": {
    "collapsed": false
   },
   "outputs": [
    {
     "name": "stdout",
     "output_type": "stream",
     "text": [
      "Additional revenue impact from pass-through income tax rate reform ($billions)\n",
      "2017: -61.2573660048\n",
      "2018: -62.4954574061\n",
      "2019: -63.6142723741\n",
      "2020: -65.0089033519\n",
      "2021: -67.2976930245\n",
      "2022: -69.9982085807\n",
      "2023: -73.1180017593\n",
      "2024: -76.8518339395\n",
      "2025: -81.333191075\n",
      "2026: -86.7537322369\n"
     ]
    }
   ],
   "source": [
    "path3 = static_path_change(calc_inc, calc_pt)\n",
    "print \"Additional revenue impact from pass-through income tax rate reform ($billions)\"\n",
    "for i in range(10):\n",
    "    print str(2017 + i) + ': ' + str(path3[i])"
   ]
  },
  {
   "cell_type": "code",
   "execution_count": 9,
   "metadata": {
    "collapsed": false
   },
   "outputs": [
    {
     "name": "stdout",
     "output_type": "stream",
     "text": [
      "Additional revenue impact from investment income tax rate reform ($billions)\n",
      "2017: -59.4649929018\n",
      "2018: -61.3472991377\n",
      "2019: -62.6678074429\n",
      "2020: -65.0096371082\n",
      "2021: -67.793549168\n",
      "2022: -70.9811263637\n",
      "2023: -74.3753080928\n",
      "2024: -78.1360053348\n",
      "2025: -82.2593786415\n",
      "2026: -86.5668790852\n"
     ]
    }
   ],
   "source": [
    "path4 = static_path_change(calc_pt, calc_inv)\n",
    "print \"Additional revenue impact from investment income tax rate reform ($billions)\"\n",
    "for i in range(10):\n",
    "    print str(2017 + i) + ': ' + str(path4[i])"
   ]
  },
  {
   "cell_type": "code",
   "execution_count": 8,
   "metadata": {
    "collapsed": false
   },
   "outputs": [
    {
     "name": "stdout",
     "output_type": "stream",
     "text": [
      "Additional revenue impact from standard deduction changes, CTC expansion and dependent credit ($billions)\n",
      "2017: 47.8046637759\n",
      "2018: 50.5616589475\n",
      "2019: 53.2743896038\n",
      "2020: 56.0106904071\n",
      "2021: 59.0548532905\n",
      "2022: 62.1028691023\n",
      "2023: 65.2822704614\n",
      "2024: 68.4165674354\n",
      "2025: 71.681312452\n",
      "2026: 75.0055720094\n"
     ]
    }
   ],
   "source": [
    "path5 = static_path_change(calc_inv, calc_sd)\n",
    "print \"Additional revenue impact from standard deduction changes, CTC expansion and dependent credit ($billions)\"\n",
    "for i in range(10):\n",
    "    print str(2017 + i) + ': ' + str(path5[i])"
   ]
  },
  {
   "cell_type": "code",
   "execution_count": 9,
   "metadata": {
    "collapsed": false
   },
   "outputs": [
    {
     "name": "stdout",
     "output_type": "stream",
     "text": [
      "Additional revenue impact from elimination of itemized deductions except mortgage interest and charity ($billions)\n",
      "2017: 109.310144832\n",
      "2018: 117.725541811\n",
      "2019: 126.102244822\n",
      "2020: 135.060773393\n",
      "2021: 144.588601404\n",
      "2022: 154.878978588\n",
      "2023: 165.43771849\n",
      "2024: 176.30713113\n",
      "2025: 187.657162155\n",
      "2026: 199.454177137\n"
     ]
    }
   ],
   "source": [
    "path6 = static_path_change(calc_sd, calc_ided)\n",
    "print \"Additional revenue impact from elimination of itemized deductions except mortgage interest and charity ($billions)\"\n",
    "for i in range(10):\n",
    "    print str(2017 + i) + ': ' + str(path6[i])"
   ]
  },
  {
   "cell_type": "markdown",
   "metadata": {},
   "source": [
    "## With behavioral response"
   ]
  },
  {
   "cell_type": "code",
   "execution_count": 10,
   "metadata": {
    "collapsed": false
   },
   "outputs": [
    {
     "name": "stdout",
     "output_type": "stream",
     "text": [
      "Revenue impact from AMT repeal ($billions)\n",
      "2017: -40.1363242739\n",
      "2018: -42.7870135275\n",
      "2019: -45.385645778\n",
      "2020: -48.2619121326\n",
      "2021: -51.1804051762\n",
      "2022: -54.4682361949\n",
      "2023: -57.7294477319\n",
      "2024: -60.9557575748\n",
      "2025: -64.3378456869\n",
      "2026: -67.799844344\n"
     ]
    }
   ],
   "source": [
    "path1b = static_path_change(calc_cl, calc_amt_beh)\n",
    "print \"Revenue impact from AMT repeal ($billions)\"\n",
    "for i in range(10):\n",
    "    print str(2017 + i) + ': ' + str(path1b[i])"
   ]
  },
  {
   "cell_type": "code",
   "execution_count": 11,
   "metadata": {
    "collapsed": false
   },
   "outputs": [
    {
     "name": "stdout",
     "output_type": "stream",
     "text": [
      "Additional revenue impact from income tax rate reform ($billions)\n",
      "2017: -57.8747558904\n",
      "2018: -60.8672206482\n",
      "2019: -63.4721759099\n",
      "2020: -66.5227298874\n",
      "2021: -69.9244410799\n",
      "2022: -73.5984950643\n",
      "2023: -77.6288761536\n",
      "2024: -81.7988228201\n",
      "2025: -86.1572293829\n",
      "2026: -90.7827599628\n"
     ]
    }
   ],
   "source": [
    "path2b = static_path_change(calc_amt_beh, calc_inc_beh)\n",
    "print \"Additional revenue impact from income tax rate reform ($billions)\"\n",
    "for i in range(10):\n",
    "    print str(2017 + i) + ': ' + str(path2b[i])"
   ]
  },
  {
   "cell_type": "code",
   "execution_count": 10,
   "metadata": {
    "collapsed": false
   },
   "outputs": [
    {
     "name": "stdout",
     "output_type": "stream",
     "text": [
      "Additional revenue impact from pass-through income tax rate reform ($billions)\n",
      "2017: -45.5835518634\n",
      "2018: -46.0323243727\n",
      "2019: -46.3994500437\n",
      "2020: -47.0760762489\n",
      "2021: -48.4798999227\n",
      "2022: -50.197543854\n",
      "2023: -52.3582264587\n",
      "2024: -55.0949321944\n",
      "2025: -58.4736013291\n",
      "2026: -62.7840450262\n"
     ]
    }
   ],
   "source": [
    "path3b = static_path_change(calc_inc_beh, calc_pt_beh)\n",
    "print \"Additional revenue impact from pass-through income tax rate reform ($billions)\"\n",
    "for i in range(10):\n",
    "    print str(2017 + i) + ': ' + str(path3b[i])"
   ]
  },
  {
   "cell_type": "code",
   "execution_count": 12,
   "metadata": {
    "collapsed": false
   },
   "outputs": [
    {
     "name": "stdout",
     "output_type": "stream",
     "text": [
      "Additional revenue impact from investment income tax rate reform ($billions)\n",
      "2017: -47.5699292589\n",
      "2018: -49.7199584222\n",
      "2019: -51.5426133266\n",
      "2020: -53.9155865966\n",
      "2021: -56.5608679912\n",
      "2022: -59.5123338096\n",
      "2023: -62.5948968528\n",
      "2024: -65.9891913184\n",
      "2025: -69.6733180752\n",
      "2026: -73.6244471223\n"
     ]
    }
   ],
   "source": [
    "path4b = static_path_change(calc_pt_beh, calc_inv_beh)\n",
    "print \"Additional revenue impact from investment income tax rate reform ($billions)\"\n",
    "for i in range(10):\n",
    "    print str(2017 + i) + ': ' + str(path4b[i])"
   ]
  },
  {
   "cell_type": "code",
   "execution_count": 10,
   "metadata": {
    "collapsed": false
   },
   "outputs": [
    {
     "name": "stdout",
     "output_type": "stream",
     "text": [
      "Additional revenue impact from standard deduction changes, CTC expansion and dependent credit ($billions)\n",
      "2017: 47.8648762868\n",
      "2018: 50.7430978551\n",
      "2019: 53.5044552245\n",
      "2020: 56.4932265688\n",
      "2021: 59.6788986487\n",
      "2022: 62.8323506588\n",
      "2023: 66.1589170372\n",
      "2024: 69.3790743971\n",
      "2025: 72.6667619747\n",
      "2026: 75.905978118\n"
     ]
    }
   ],
   "source": [
    "path5b = static_path_change(calc_inv_beh, calc_sd_beh)\n",
    "print \"Additional revenue impact from standard deduction changes, CTC expansion and dependent credit ($billions)\"\n",
    "for i in range(10):\n",
    "    print str(2017 + i) + ': ' + str(path5b[i])"
   ]
  },
  {
   "cell_type": "code",
   "execution_count": 11,
   "metadata": {
    "collapsed": false
   },
   "outputs": [
    {
     "name": "stdout",
     "output_type": "stream",
     "text": [
      "Additional revenue impact from elimination of itemized deductions except mortgage interest and charity ($billions)\n",
      "2017: 109.51400757\n",
      "2018: 117.956055033\n",
      "2019: 126.403435125\n",
      "2020: 135.455919571\n",
      "2021: 145.112579912\n",
      "2022: 155.470199574\n",
      "2023: 166.140415042\n",
      "2024: 177.116679351\n",
      "2025: 188.610243672\n",
      "2026: 200.539787221\n"
     ]
    }
   ],
   "source": [
    "path6b = static_path_change(calc_sd_beh, calc_ided_beh)\n",
    "print \"Additional revenue impact from elimination of itemized deductions except mortgage interest and charity ($billions)\"\n",
    "for i in range(10):\n",
    "    print str(2017 + i) + ': ' + str(path6b[i])"
   ]
  },
  {
   "cell_type": "code",
   "execution_count": null,
   "metadata": {
    "collapsed": true
   },
   "outputs": [],
   "source": []
  },
  {
   "cell_type": "code",
   "execution_count": null,
   "metadata": {
    "collapsed": true
   },
   "outputs": [],
   "source": []
  }
 ],
 "metadata": {
  "kernelspec": {
   "display_name": "Python 2",
   "language": "python",
   "name": "python2"
  },
  "language_info": {
   "codemirror_mode": {
    "name": "ipython",
    "version": 2
   },
   "file_extension": ".py",
   "mimetype": "text/x-python",
   "name": "python",
   "nbconvert_exporter": "python",
   "pygments_lexer": "ipython2",
   "version": "2.7.12"
  }
 },
 "nbformat": 4,
 "nbformat_minor": 0
}
