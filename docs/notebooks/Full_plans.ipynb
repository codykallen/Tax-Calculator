{
 "cells": [
  {
   "cell_type": "code",
   "execution_count": 1,
   "metadata": {
    "collapsed": false
   },
   "outputs": [],
   "source": [
    "import sys\n",
    "sys.path.append(\"../../\")\n",
    "from taxcalc import *\n",
    "import pandas as pd\n",
    "import numpy as np\n",
    "import copy"
   ]
  },
  {
   "cell_type": "code",
   "execution_count": 2,
   "metadata": {
    "collapsed": true
   },
   "outputs": [],
   "source": [
    "CBO_growth = {2013: {'_factor_target': [0.022, \n",
    "                                        0.024,\n",
    "                                        0.024,\n",
    "                                        0.025,\n",
    "                                        0.026,\n",
    "                                        0.023,\n",
    "                                        0.018,\n",
    "                                        0.019,\n",
    "                                        0.021,\n",
    "                                        0.021,\n",
    "                                        0.021,\n",
    "                                        0.02,\n",
    "                                        0.02,\n",
    "                                        0.02]\n",
    "                     }\n",
    "              }\n",
    "behavior_traits = {2017: {'_BE_inc': [0.0], '_BE_sub': [0.4], '_BE_cg': [-3.487]}}"
   ]
  },
  {
   "cell_type": "markdown",
   "metadata": {},
   "source": [
    "# Create the policies and calculators"
   ]
  },
  {
   "cell_type": "code",
   "execution_count": 3,
   "metadata": {
    "collapsed": false
   },
   "outputs": [
    {
     "name": "stdout",
     "output_type": "stream",
     "text": [
      "You loaded data for 2009.\n",
      "Your data have been extrapolated to 2013.\n",
      "Done\n"
     ]
    }
   ],
   "source": [
    "policy_cl = Policy()\n",
    "behavior_cl = Behavior()\n",
    "records_cl = Records(\"../../puf.csv\")\n",
    "calc_cl = Calculator(policy_cl, records_cl, behavior_traits)\n",
    "calc_cl.growth.update_economic_growth(CBO_growth)\n",
    "for i in range(4):\n",
    "    calc_cl.increment_year()\n",
    "assert calc_cl.current_year == 2017\n",
    "calc_cl.calc_all()\n",
    "print \"Done\""
   ]
  },
  {
   "cell_type": "code",
   "execution_count": 4,
   "metadata": {
    "collapsed": false
   },
   "outputs": [
    {
     "name": "stdout",
     "output_type": "stream",
     "text": [
      "You loaded data for 2009.\n",
      "Your data have been extrapolated to 2013.\n",
      "Done\n"
     ]
    }
   ],
   "source": [
    "policy_amt = Policy()\n",
    "behavior_amt = Behavior()\n",
    "records_amt = Records(\"../../puf.csv\")\n",
    "reform_amt = {\n",
    "    2017: {\n",
    "        '_AMT_trt1': [0.0],\n",
    "        '_AMT_trt2': [0.0]\n",
    "    }\n",
    "}\n",
    "policy_amt.implement_reform(reform_amt)\n",
    "calc_amt = Calculator(policy_amt, records_amt, behavior_amt)\n",
    "calc_amt.growth.update_economic_growth(CBO_growth)\n",
    "for i in range(4):\n",
    "    calc_amt.increment_year()\n",
    "assert calc_amt.current_year == 2017\n",
    "calc_amt.calc_all()\n",
    "calc_amt.behavior.update_behavior(behavior_traits)\n",
    "calc_amt_beh = Behavior.response(calc_cl, calc_amt)\n",
    "print \"Done\""
   ]
  },
  {
   "cell_type": "code",
   "execution_count": 4,
   "metadata": {
    "collapsed": false
   },
   "outputs": [
    {
     "name": "stdout",
     "output_type": "stream",
     "text": [
      "You loaded data for 2009.\n",
      "Your data have been extrapolated to 2013.\n",
      "Done\n"
     ]
    }
   ],
   "source": [
    "policy_bush = Policy()\n",
    "behavior_bush = Behavior()\n",
    "records_bush = Records(\"../../puf.csv\")\n",
    "reform_bush = {\n",
    "    2017: {\n",
    "        '_II_rt7': [0.35],\n",
    "        '_CG_rt3': [0.15],\n",
    "        '_II_prt': [0.0],\n",
    "        '_ID_prt': [0.0],\n",
    "        '_AMT_CG_rt3': [0.15],\n",
    "        '_NIIT_trt': [0.0],\n",
    "        '_PT_rt7': [0.35]\n",
    "    }\n",
    "}\n",
    "policy_bush.implement_reform(reform_bush)\n",
    "calc_bush = Calculator(policy_bush, records_bush, behavior_bush)\n",
    "calc_bush.growth.update_economic_growth(CBO_growth)\n",
    "for i in range(4):\n",
    "    calc_bush.increment_year()\n",
    "assert calc_bush.current_year == 2017\n",
    "calc_bush.calc_all()\n",
    "calc_bush.behavior.update_behavior(behavior_traits)\n",
    "calc_bush_beh = Behavior.response(calc_cl, calc_bush)\n",
    "print \"Done\""
   ]
  },
  {
   "cell_type": "code",
   "execution_count": 5,
   "metadata": {
    "collapsed": false
   },
   "outputs": [
    {
     "name": "stdout",
     "output_type": "stream",
     "text": [
      "You loaded data for 2009.\n",
      "Your data have been extrapolated to 2013.\n",
      "Done\n"
     ]
    }
   ],
   "source": [
    "policy_all = Policy()\n",
    "behavior_all = Behavior()\n",
    "records_all = Records(\"../../puf.csv\")\n",
    "reform_all = {\n",
    "    2017: {\n",
    "        '_II_rt1': [0.12],\n",
    "        '_II_rt2': [0.12],\n",
    "        '_II_rt3': [0.25],\n",
    "        '_II_rt4': [0.25],\n",
    "        '_II_rt5': [0.33],\n",
    "        '_II_rt6': [0.33],\n",
    "        '_II_rt7': [0.33],\n",
    "        '_AMT_trt1': [0.0],\n",
    "        '_AMT_trt2': [0.0],\n",
    "        '_STD': [[12000, 24000, 12000, 18000, 24000, 12000, 1050]],\n",
    "        '_STD_Aged': [[0,0,0,0,0,0],\n",
    "                      [0,0,0,0,0,0],\n",
    "                      [0,0,0,0,0,0],\n",
    "                      [0,0,0,0,0,0]],\n",
    "        '_II_em': [0,0,0,0],\n",
    "        '_CTC_ps': [[75000, 150000, 75000, 75000, 75000, 75000]],\n",
    "        '_II_credit': [[500, 500, 500, 500, 500, 500]],\n",
    "        '_II_credit_ps': [[75000, 150000, 75000, 75000, 75000, 75000]],\n",
    "        '_II_credit_prt': [0.05],\n",
    "        '_ID_StateLocalTax_HC': [1.0],\n",
    "        '_ID_Medical_HC': [1.0],\n",
    "        '_ID_Casualty_HC': [1.0],\n",
    "        '_ID_Miscellaneous_HC': [1.0],\n",
    "        '_ID_RealEstate_HC': [1.0],\n",
    "        '_ALD_Investment_ec': [0.5],        \n",
    "        '_CG_as_II': [1],\n",
    "        '_NIIT_trt': [0.0],\n",
    "        '_PT_rt1': [0.12],\n",
    "        '_PT_rt2': [0.12],\n",
    "        '_PT_rt3': [0.25],\n",
    "        '_PT_rt4': [0.25],\n",
    "        '_PT_rt5': [0.25],\n",
    "        '_PT_rt6': [0.25],\n",
    "        '_PT_rt7': [0.25],\n",
    "    }\n",
    "}\n",
    "policy_all.implement_reform(reform_all)\n",
    "calc_all = Calculator(policy_all, records_all, behavior_all)\n",
    "calc_all.growth.update_economic_growth(CBO_growth)\n",
    "for i in range(4):\n",
    "    calc_all.increment_year()\n",
    "assert calc_all.current_year == 2017\n",
    "calc_all.calc_all()\n",
    "calc_all.behavior.update_behavior(behavior_traits)\n",
    "calc_all_beh = Behavior.response(calc_cl, calc_all)\n",
    "print \"Done\""
   ]
  },
  {
   "cell_type": "markdown",
   "metadata": {},
   "source": [
    "# Iterator and revenue impact"
   ]
  },
  {
   "cell_type": "code",
   "execution_count": 7,
   "metadata": {
    "collapsed": true
   },
   "outputs": [],
   "source": [
    "def static_path_change(calcx, calcy):\n",
    "    static_path = [0] * 10\n",
    "    calc1 = copy.deepcopy(calcx)\n",
    "    calc2 = copy.deepcopy(calcy)\n",
    "    for i in range(10):\n",
    "        calc1.calc_all()\n",
    "        calc2.calc_all()\n",
    "        calc1_combined = (calc1.records._combined * calc1.records.s006)\n",
    "        calc2_combined = (calc2.records._combined * calc2.records.s006)\n",
    "        static_path[i] = (calc2_combined - calc1_combined).sum() / 10**9\n",
    "        if calc1.current_year < 2026:\n",
    "            calc1.increment_year()\n",
    "            calc2.increment_year()\n",
    "    return static_path"
   ]
  },
  {
   "cell_type": "code",
   "execution_count": 8,
   "metadata": {
    "collapsed": false
   },
   "outputs": [
    {
     "name": "stdout",
     "output_type": "stream",
     "text": [
      "Path assuming no behavioral response\n",
      "-97.9137941446\n",
      "-97.4789735132\n",
      "-95.9056333998\n",
      "-95.7266429503\n",
      "-96.6918511548\n",
      "-98.4224193285\n",
      "-100.901734911\n",
      "-104.326659845\n",
      "-108.675065937\n",
      "-114.135751242\n"
     ]
    }
   ],
   "source": [
    "path1 = static_path_change(calc_cl, calc_all)\n",
    "print 'Path assuming no behavioral response'\n",
    "for x in path1:\n",
    "    print x"
   ]
  },
  {
   "cell_type": "code",
   "execution_count": 9,
   "metadata": {
    "collapsed": false
   },
   "outputs": [
    {
     "name": "stdout",
     "output_type": "stream",
     "text": [
      "Path with behavioral response\n",
      "-33.7856774295\n",
      "-30.7073640824\n",
      "-26.8919947083\n",
      "-23.8271587252\n",
      "-21.3541356098\n",
      "-19.4740586896\n",
      "-18.0121151182\n",
      "-17.3429501593\n",
      "-17.3649888279\n",
      "-18.5453311168\n"
     ]
    }
   ],
   "source": [
    "path2 = static_path_change(calc_cl, calc_all_beh)\n",
    "print 'Path with behavioral response'\n",
    "for x in path2:\n",
    "    print x"
   ]
  },
  {
   "cell_type": "code",
   "execution_count": 10,
   "metadata": {
    "collapsed": false
   },
   "outputs": [
    {
     "name": "stdout",
     "output_type": "stream",
     "text": [
      "Path assuming no behavioral response, compared against just AMT repeal\n",
      "-56.1204170172\n",
      "-52.9642491727\n",
      "-48.7411504756\n",
      "-45.6313003599\n",
      "-43.5347063674\n",
      "-41.8481147726\n",
      "-40.8672107143\n",
      "-40.8007624044\n",
      "-41.5313859206\n",
      "-43.2507739781\n"
     ]
    }
   ],
   "source": [
    "path3 = static_path_change(calc_amt, calc_all)\n",
    "print 'Path assuming no behavioral response, compared against just AMT repeal'\n",
    "for x in path3:\n",
    "    print x"
   ]
  },
  {
   "cell_type": "code",
   "execution_count": 11,
   "metadata": {
    "collapsed": false
   },
   "outputs": [
    {
     "name": "stdout",
     "output_type": "stream",
     "text": [
      "Path with behavioral response, compared against just AMT repeal\n",
      "6.35064684441\n",
      "12.0796494452\n",
      "18.4936510697\n",
      "24.4347534074\n",
      "29.8262695664\n",
      "34.9941775053\n",
      "39.7173326136\n",
      "43.6128074154\n",
      "46.9728568591\n",
      "49.2545132272\n"
     ]
    }
   ],
   "source": [
    "path4 = static_path_change(calc_amt_beh, calc_all_beh)\n",
    "print 'Path with behavioral response, compared against just AMT repeal'\n",
    "for x in path4:\n",
    "    print x"
   ]
  },
  {
   "cell_type": "code",
   "execution_count": 12,
   "metadata": {
    "collapsed": false
   },
   "outputs": [
    {
     "name": "stdout",
     "output_type": "stream",
     "text": [
      "Path assuming no behavioral response, compared against pre-2009 law\n",
      "-2.46868470222\n",
      "0.937239267559\n",
      "4.7353560907\n",
      "8.35560934396\n",
      "11.7131167702\n",
      "14.8701680779\n",
      "17.9664226125\n",
      "20.5228205109\n",
      "22.8844044817\n",
      "24.6718040024\n"
     ]
    }
   ],
   "source": [
    "path5 = static_path_change(calc_bush, calc_all)\n",
    "print 'Path assuming no behavioral response, compared against pre-2009 law'\n",
    "for x in path5:\n",
    "    print x"
   ]
  },
  {
   "cell_type": "code",
   "execution_count": 13,
   "metadata": {
    "collapsed": false
   },
   "outputs": [
    {
     "name": "stdout",
     "output_type": "stream",
     "text": [
      "Path with behavioral response, compared against pre-2009 law\n",
      "2.39478104214\n",
      "6.54697262585\n",
      "10.9481708385\n",
      "15.3375947198\n",
      "19.4994965726\n",
      "23.2869785203\n",
      "27.2401935933\n",
      "30.6202144182\n",
      "33.7535017226\n",
      "36.2034773136\n"
     ]
    }
   ],
   "source": [
    "path6 = static_path_change(calc_bush_beh, calc_all_beh)\n",
    "print 'Path with behavioral response, compared against pre-2009 law'\n",
    "for x in path6:\n",
    "    print x"
   ]
  },
  {
   "cell_type": "code",
   "execution_count": null,
   "metadata": {
    "collapsed": true
   },
   "outputs": [],
   "source": []
  },
  {
   "cell_type": "code",
   "execution_count": null,
   "metadata": {
    "collapsed": true
   },
   "outputs": [],
   "source": []
  },
  {
   "cell_type": "code",
   "execution_count": null,
   "metadata": {
    "collapsed": true
   },
   "outputs": [],
   "source": []
  },
  {
   "cell_type": "markdown",
   "metadata": {},
   "source": [
    "# Diagnostics"
   ]
  },
  {
   "cell_type": "code",
   "execution_count": 25,
   "metadata": {
    "collapsed": true
   },
   "outputs": [],
   "source": [
    "def taxableGain(calc):\n",
    "    tg = np.maximum(0., np.minimum(calc.records.c23650, calc.records.p23250)) + calc.records.e01100\n",
    "    return tg\n",
    "\n",
    "def num_ided(calc):\n",
    "    ided = calc.records.s006[(calc.records.c04470 > 0.) * (calc.records.c00100 > 0.)].sum()\n",
    "    return ided\n",
    "def num_std(calc):\n",
    "    std = calc.records.s006[(calc.records._standard > 0.) * (calc.records.c00100 > 0.)].sum()\n",
    "    return std\n",
    "def wavgMTR_wages(calc):\n",
    "    mtr = ((calc.mtr('e00200p')[1] * calc.records.e00200 * calc.records.s006).sum() / \n",
    "                   (calc.records.e00200 * calc.records.s006).sum())\n",
    "    return mtr\n",
    "def wavgMTR_cg(calc):\n",
    "    gain = taxableGain(calc)\n",
    "    mtr = ((calc.mtr('p23250')[1] * gain * calc.records.s006).sum() / \n",
    "                 (gain * calc.records.s006).sum())\n",
    "    return mtr\n",
    "def wavgMTR_int(calc):\n",
    "    mtr = ((calc.mtr('e00300')[1] * calc.records.c00300 * calc.records.s006).sum() / \n",
    "                   (calc.records.c00300 * calc.records.s006).sum())\n",
    "    return mtr\n",
    "def wavgMTR_div(calc):\n",
    "    mtr = ((calc.mtr('e00650')[1] * calc.records.c00650 * calc.records.s006).sum() / \n",
    "                   (calc.records.c00650 * calc.records.s006).sum())\n",
    "    return mtr\n",
    "def wavgMTR_stcg(calc):\n",
    "    gain = taxableGain(calc)\n",
    "    mtr = ((calc.mtr('p22250')[1] * gain * calc.records.s006).sum() / \n",
    "                 (gain * calc.records.s006).sum())\n",
    "    return mtr\n",
    "def wavgMTR_passthru(calc):\n",
    "    passthruInc = abs(calc.records.c00900) + abs(calc.records.c26270)\n",
    "    mtr_c = calc.mtr('e00900p')[1]\n",
    "    mtr_e = calc.mtr('e02000')[1]    \n",
    "    wtot = mtr_c * abs(calc.records.c00900) + mtr_e * abs(calc.records.c26270)\n",
    "    mtr = (wtot * calc.records.s006).sum() / (passthruInc * calc.records.s006).sum()\n",
    "    return mtr\n",
    "def wavgMTR_sp(calc):\n",
    "    sp_inc = abs(calc.records.c00900)\n",
    "    mtr = ((calc.mtr('e00900p')[1] * sp_inc * calc.records.s006).sum() / \n",
    "           (sp_inc * calc.records.s006).sum())\n",
    "    return mtr\n",
    "def wavgMTR_schE(calc):\n",
    "    schE_inc = abs(calc.records.c26270)\n",
    "    mtr = ((calc.mtr('e02000')[1] * schE_inc * calc.records.s006).sum() / \n",
    "                   (schE_inc * calc.records.s006).sum())\n",
    "    return mtr\n",
    "def no_inc_tax(calc):\n",
    "    count = calc.records.s006[calc.records._iitax < 0.0001].sum()\n",
    "    return count\n",
    "\n",
    "def lwrMTR_wages(calc1, calc2):\n",
    "    #calc1 is baseline, calc2 is reform\n",
    "    diff = calc2.records.s006[(calc2.mtr('e00200p')[2] < calc1.mtr('e00200p')[2])].sum()\n",
    "    return diff\n",
    "def lwrMTR_cg(calc1, calc2):\n",
    "    #calc1 is baseline, calc2 is reform\n",
    "    diff = calc2.records.s006[(calc2.mtr('p23250')[2] < calc1.mtr('p23250')[2])].sum()\n",
    "    return diff\n",
    "def hgrMTR_wages(calc1, calc2):\n",
    "    #calc1 is baseline, calc2 is reform\n",
    "    diff = calc2.records.s006[(calc2.mtr('e00200p')[2] > calc1.mtr('e00200p')[2])].sum()\n",
    "    return diff\n",
    "def hgrMTR_cg(calc1, calc2):\n",
    "    #calc1 is baseline, calc2 is reform\n",
    "    diff = calc2.records.s006[(calc2.mtr('p23250')[2] > calc1.mtr('p23250')[2])].sum()\n",
    "    return diff\n",
    "def num_taxcut(calc1, calc2):\n",
    "    #calc1 is baseline, calc2 is reform\n",
    "    diff = calc2.records.s006[calc1.records._combined > calc2.records._combined + 0.0001].sum()\n",
    "    return diff\n",
    "\n",
    "def diagnose1(calc):\n",
    "    print str(round(num_ided(calc) / 1000) / 1000.0) + \" million taxpayers using itemized deductions\"\n",
    "    print str(round(num_std(calc) / 1000) / 1000.0) + \" million taxpayers using the standard deduction\"\n",
    "    print \"Average MTR on wage income: \" + str(round(wavgMTR_wages(calc) * 10000) / 10000.0)\n",
    "    print \"Average MTR on long-term gains: \" + str(round(wavgMTR_cg(calc) * 10000) / 10000.0)\n",
    "    print \"Average MTR on short-term gains: \" + str(round(wavgMTR_stcg(calc) * 10000) / 10000.0)\n",
    "    print \"Average MTR on interest: \" + str(round(wavgMTR_int(calc) * 10000) / 10000.0)\n",
    "    print \"Average MTR on qualified dividends: \" + str(round(wavgMTR_div(calc) * 10000) / 10000.0)\n",
    "    print \"Average MTR on pass-through income: \" + str(round(wavgMTR_passthru(calc) * 10000) / 10000.0)\n",
    "    print \"Average MTR on sole proprietorships: \" + str(round(wavgMTR_sp(calc) * 10000) / 10000.0)\n",
    "    print \"Average MTR on partnership/S-corp: \" + str(round(wavgMTR_schE(calc) * 10000) / 10000.0)\n",
    "    print \"Number paying no income tax: \" + str(round(no_inc_tax(calc) / 1000) / 1000.0) + \" million\"\n",
    "    \n",
    "def diagnose2(calc1, calc2):\n",
    "    #calc1 is baseline, calc2 is reform\n",
    "    print \"Number with lower EMTR on wages: \" + str(round(lwrMTR_wages(calc1, calc2) / 1000) / 1000.0) + \" million\"\n",
    "    print \"Number with higher EMTR on wages: \" + str(round(hgrMTR_wages(calc1, calc2) / 1000) / 1000.0) + \" million\"\n",
    "    print \"Number with lower EMTR on gains: \" + str(round(lwrMTR_cg(calc1, calc2) / 1000) / 1000.0) + \" million\"\n",
    "    print \"Number with higher EMTR on gains: \" + str(round(hgrMTR_cg(calc1, calc2) / 1000) / 1000.0) + \" million\"\n",
    "    print \"Number receiving a tax cut: \" + str(round(num_taxcut(calc1, calc2) / 1000) / 1000.0) + \" million\""
   ]
  },
  {
   "cell_type": "code",
   "execution_count": 26,
   "metadata": {
    "collapsed": false,
    "scrolled": false
   },
   "outputs": [
    {
     "name": "stdout",
     "output_type": "stream",
     "text": [
      "45.42 million taxpayers using itemized deductions\n",
      "113.603 million taxpayers using the standard deduction\n",
      "Average MTR on wage income: 0.2365\n",
      "Average MTR on long-term gains: 0.222\n",
      "Average MTR on short-term gains: 0.3136\n",
      "Average MTR on interest: 0.2378\n",
      "Average MTR on qualified dividends: 0.1756\n",
      "Average MTR on pass-through income: 0.2955\n",
      "Average MTR on sole proprietorships: 0.2771\n",
      "Average MTR on partnership/S-corp: 0.3061\n",
      "Number paying no income tax: 66.972 million\n"
     ]
    }
   ],
   "source": [
    "diagnose1(calc_cl)"
   ]
  },
  {
   "cell_type": "code",
   "execution_count": 7,
   "metadata": {
    "collapsed": false
   },
   "outputs": [
    {
     "name": "stdout",
     "output_type": "stream",
     "text": [
      "8.539 million taxpayers using itemized deductions\n",
      "150.262 million taxpayers using the standard deduction\n",
      "Average MTR on wage income: 0.2189\n",
      "Average MTR on long-term gains: 0.1501\n",
      "Average MTR on short-term gains: 0.3002\n",
      "Average MTR on interest: 0.0982\n",
      "Average MTR on qualified dividends: 0.1254\n",
      "Average MTR on pass-through income: 0.2274\n",
      "Average MTR on sole proprietorships: 0.2497\n",
      "Average MTR on partnership/S-corp: 0.2147\n",
      "Number paying no income tax: 61.042 million\n"
     ]
    }
   ],
   "source": [
    "diagnose1(calc_all)"
   ]
  },
  {
   "cell_type": "code",
   "execution_count": 8,
   "metadata": {
    "collapsed": false
   },
   "outputs": [
    {
     "name": "stdout",
     "output_type": "stream",
     "text": [
      "8.432 million taxpayers using itemized deductions\n",
      "150.372 million taxpayers using the standard deduction\n",
      "Average MTR on wage income: 0.2211\n",
      "Average MTR on long-term gains: 0.1555\n",
      "Average MTR on short-term gains: 0.311\n",
      "Average MTR on interest: 0.1171\n",
      "Average MTR on qualified dividends: 0.1268\n",
      "Average MTR on pass-through income: 0.2289\n",
      "Average MTR on sole proprietorships: 0.2502\n",
      "Average MTR on partnership/S-corp: 0.2167\n",
      "Number paying no income tax: 60.757 million\n"
     ]
    }
   ],
   "source": [
    "diagnose1(calc_all_beh)"
   ]
  },
  {
   "cell_type": "code",
   "execution_count": 18,
   "metadata": {
    "collapsed": false
   },
   "outputs": [
    {
     "name": "stdout",
     "output_type": "stream",
     "text": [
      "Number with lower EMTR on wages: 70.861 million\n",
      "Number with higher EMTR on wages: 36.092 million\n",
      "Number with lower EMTR on gains: 52.959 million\n",
      "Number with higher EMTR on gains: 55.786 million\n",
      "Number receiving a tax cut: 66.983 million\n"
     ]
    }
   ],
   "source": [
    "diagnose2(calc_cl, calc_all)"
   ]
  },
  {
   "cell_type": "code",
   "execution_count": 19,
   "metadata": {
    "collapsed": false
   },
   "outputs": [
    {
     "name": "stdout",
     "output_type": "stream",
     "text": [
      "Number with lower EMTR on wages: 69.293 million\n",
      "Number with higher EMTR on wages: 34.302 million\n",
      "Number with lower EMTR on gains: 52.996 million\n",
      "Number with higher EMTR on gains: 55.865 million\n",
      "Number receiving a tax cut: 62.508 million\n"
     ]
    }
   ],
   "source": [
    "diagnose2(calc_cl, calc_all_beh)"
   ]
  },
  {
   "cell_type": "markdown",
   "metadata": {},
   "source": [
    "# Average tax rates"
   ]
  },
  {
   "cell_type": "code",
   "execution_count": 15,
   "metadata": {
    "collapsed": true
   },
   "outputs": [],
   "source": [
    "def getAGI(calc1):\n",
    "    return np.asarray(np.where(calc1.records.c00100 < 0, 0., calc1.records.c00100))\n",
    "\n",
    "def getAvgRate(calc1):\n",
    "    agi1 = getAGI(calc1) + 0.001\n",
    "    avgRate1 = np.asarray(calc1.records._combined) / agi1\n",
    "    avgRate2 = np.where(avgRate1 > 1, 1.0, avgRate1)\n",
    "    avgRate3 = np.where(avgRate2 < 0, 0., avgRate2)\n",
    "    return avgRate3\n",
    "\n",
    "def group_avgRate(calc, bins):\n",
    "    agi = getAGI(calc)\n",
    "    rate = getAvgRate(calc)\n",
    "    wgt = calc.records.s006\n",
    "    assert bins >= 1 and type(bins)==int\n",
    "    size = int(219814 / bins)\n",
    "    \n",
    "    all_together = zip(agi, rate, wgt)\n",
    "    all_together.sort()\n",
    "    all_apart = zip(*all_together)\n",
    "    agi_sorted = np.asarray(all_apart[0])\n",
    "    rate_sorted = np.asarray(all_apart[1])\n",
    "    wgt_sorted = np.asarray(all_apart[2])\n",
    "    \n",
    "    avgList = [0] * bins\n",
    "    wgtList = [0] * bins\n",
    "    \n",
    "    for i in range(bins):\n",
    "        #avgList[i] = (rate_sorted[(i*size):((i+1)*size)] * wgt_sorted[(i*size):((i+1)*size)]).sum()\n",
    "        #wgtList[i] =  wgt_sorted[(i*size):((i+1)*size)].sum()\n",
    "        #avgList[i] = np.percentile(rate_sorted[(i*size):((i+1)*size)], 75)\n",
    "        avgList[i] = np.std(rate_sorted[(i*size):((i+1)*size)])\n",
    "        wgtList[i] = 1\n",
    "    \n",
    "    avgFinal = np.asarray(avgList) / np.asarray(wgtList)\n",
    "    return avgFinal\n",
    "\n",
    "def group_avgRate_v2(calc, bins):\n",
    "    agi = getAGI(calc)\n",
    "    tax = calc.records._combined\n",
    "    wgt = calc.records.s006\n",
    "    ided_ind = np.where(calc_cl.records.s006 != 99999999999, True, False)\n",
    "    #ided_ind = (calc_cl.records.c04470 > calc_cl.records._standard)\n",
    "    assert bins >= 1 and type(bins)==int\n",
    "    size = int(len(tax) / bins)\n",
    "    \n",
    "    all_together = zip(agi, tax, wgt, ided_ind)\n",
    "    all_together.sort()\n",
    "    all_apart = zip(*all_together)\n",
    "    agi_sorted = np.asarray(all_apart[0])\n",
    "    tax_sorted = np.asarray(all_apart[1])\n",
    "    wgt_sorted = np.asarray(all_apart[2])\n",
    "    ided_ind_sorted = np.asarray(all_apart[3])\n",
    "    \n",
    "    taxList = [0] * bins\n",
    "    agiList = [0] * bins\n",
    "    \n",
    "    for i in range(bins):\n",
    "        taxList[i] = np.where(ided_ind_sorted[(i*size):((i+1)*size)], tax_sorted[(i*size):((i+1)*size)] * wgt_sorted[(i*size):((i+1)*size)], 0).sum()\n",
    "        agiList[i] = np.where(ided_ind_sorted[(i*size):((i+1)*size)], agi_sorted[(i*size):((i+1)*size)] * wgt_sorted[(i*size):((i+1)*size)], 0).sum()\n",
    "        #taxList[i] = np.where(ided_ind_sorted[(i*size):((i+1)*size)], wgt_sorted[(i*size):((i+1)*size)], 0).sum()\n",
    "        #agiList[i] = 1\n",
    "        \n",
    "    avgFinal = np.asarray(taxList) / np.asarray(agiList)\n",
    "    return avgFinal"
   ]
  },
  {
   "cell_type": "code",
   "execution_count": 25,
   "metadata": {
    "collapsed": false
   },
   "outputs": [
    {
     "name": "stdout",
     "output_type": "stream",
     "text": [
      "0.170655433777\n",
      "0.0548999661829\n",
      "0.0608864508001\n",
      "0.0744311651164\n",
      "0.0802289930955\n",
      "\n",
      "\n",
      "0.204166002523\n",
      "0.044309357578\n",
      "0.0479182629841\n",
      "0.0546505735646\n",
      "0.0527439738519\n",
      "\n",
      "\n",
      "0.170348165444\n",
      "0.0550909517804\n",
      "0.0608891658046\n",
      "0.0740903550653\n",
      "0.0765334693071\n"
     ]
    }
   ],
   "source": [
    "xx1 = group_avgRate(calc_cl, 5)\n",
    "for x in xx1:\n",
    "    print x\n",
    "print '\\n'\n",
    "yy1 = group_avgRate(calc_all_beh, 5)\n",
    "for y in yy1:\n",
    "    print y\n",
    "print '\\n'\n",
    "ww1 = group_avgRate(calc_bush_beh, 5)\n",
    "for z in ww1:\n",
    "    print z"
   ]
  },
  {
   "cell_type": "code",
   "execution_count": 14,
   "metadata": {
    "collapsed": false,
    "scrolled": false
   },
   "outputs": [
    {
     "name": "stdout",
     "output_type": "stream",
     "text": [
      "54402649.8178\n",
      "42584015.2284\n",
      "38476798.3088\n",
      "32319484.9119\n",
      "4617041.5428\n",
      "\n",
      "\n",
      "54011404.2899\n",
      "42831848.6006\n",
      "38271905.5822\n",
      "32442471.886\n",
      "4842359.45105\n",
      "\n",
      "\n"
     ]
    },
    {
     "ename": "NameError",
     "evalue": "name 'calc_bush_beh' is not defined",
     "output_type": "error",
     "traceback": [
      "\u001b[1;31m---------------------------------------------------------------------------\u001b[0m",
      "\u001b[1;31mNameError\u001b[0m                                 Traceback (most recent call last)",
      "\u001b[1;32m<ipython-input-14-ff70ca872716>\u001b[0m in \u001b[0;36m<module>\u001b[1;34m()\u001b[0m\n\u001b[0;32m      7\u001b[0m     \u001b[1;32mprint\u001b[0m \u001b[0my\u001b[0m\u001b[1;33m\u001b[0m\u001b[0m\n\u001b[0;32m      8\u001b[0m \u001b[1;32mprint\u001b[0m \u001b[1;34m'\\n'\u001b[0m\u001b[1;33m\u001b[0m\u001b[0m\n\u001b[1;32m----> 9\u001b[1;33m \u001b[0mzz2\u001b[0m \u001b[1;33m=\u001b[0m \u001b[0mgroup_avgRate_v2\u001b[0m\u001b[1;33m(\u001b[0m\u001b[0mcalc_bush_beh\u001b[0m\u001b[1;33m,\u001b[0m \u001b[1;36m5\u001b[0m\u001b[1;33m)\u001b[0m\u001b[1;33m\u001b[0m\u001b[0m\n\u001b[0m\u001b[0;32m     10\u001b[0m \u001b[1;32mfor\u001b[0m \u001b[0mz\u001b[0m \u001b[1;32min\u001b[0m \u001b[0mzz2\u001b[0m\u001b[1;33m:\u001b[0m\u001b[1;33m\u001b[0m\u001b[0m\n\u001b[0;32m     11\u001b[0m     \u001b[1;32mprint\u001b[0m \u001b[0mz\u001b[0m\u001b[1;33m\u001b[0m\u001b[0m\n",
      "\u001b[1;31mNameError\u001b[0m: name 'calc_bush_beh' is not defined"
     ]
    }
   ],
   "source": [
    "xx2 = group_avgRate_v2(calc_cl, 5)\n",
    "for x in xx2:\n",
    "    print x\n",
    "print '\\n'\n",
    "yy2 = group_avgRate_v2(calc_all_beh, 5)\n",
    "for y in yy2:\n",
    "    print y\n",
    "print '\\n'\n",
    "ww2 = group_avgRate_v2(calc_bush_beh, 5)\n",
    "for z in ww2:\n",
    "    print z"
   ]
  },
  {
   "cell_type": "markdown",
   "metadata": {},
   "source": [
    "## Advance calculators to 2026, recalculate average rates"
   ]
  },
  {
   "cell_type": "code",
   "execution_count": 11,
   "metadata": {
    "collapsed": false
   },
   "outputs": [
    {
     "name": "stdout",
     "output_type": "stream",
     "text": [
      "Done\n"
     ]
    }
   ],
   "source": [
    "calc_cl_adv = copy.deepcopy(calc_cl)\n",
    "calc_bush_adv = copy.deepcopy(calc_bush)\n",
    "calc_all_adv = copy.deepcopy(calc_all)\n",
    "for i in range(9):\n",
    "    calc_cl_adv.increment_year()\n",
    "    calc_bush_adv.increment_year()\n",
    "    calc_all_adv.increment_year()\n",
    "assert calc_cl_adv.current_year == 2026\n",
    "assert calc_bush_adv.current_year == 2026\n",
    "assert calc_all_adv.current_year == 2026\n",
    "calc_cl_adv.calc_all()\n",
    "calc_bush_adv.calc_all()\n",
    "calc_all_adv.calc_all()\n",
    "calc_bush_adv_beh = Behavior.response(calc_cl_adv, calc_bush_adv)\n",
    "calc_all_adv_beh = Behavior.response(calc_cl_adv, calc_all_adv)\n",
    "print \"Done\""
   ]
  },
  {
   "cell_type": "code",
   "execution_count": 16,
   "metadata": {
    "collapsed": false
   },
   "outputs": [
    {
     "name": "stdout",
     "output_type": "stream",
     "text": [
      "0.27527807894\n",
      "0.106997221491\n",
      "0.0890136000387\n",
      "0.0918924585287\n",
      "0.0842191643614\n",
      "\n",
      "\n",
      "0.298470793555\n",
      "0.100688460277\n",
      "0.0781618278006\n",
      "0.0753323592867\n",
      "0.0618929170907\n",
      "\n",
      "\n",
      "0.275166079786\n",
      "0.10714679842\n",
      "0.0890930545446\n",
      "0.0914609976901\n",
      "0.0886631710347\n"
     ]
    }
   ],
   "source": [
    "xx3 = group_avgRate(calc_cl_adv, 5)\n",
    "for x in xx3:\n",
    "    print x\n",
    "print '\\n'\n",
    "yy3 = group_avgRate(calc_all_adv_beh, 5)\n",
    "for y in yy3:\n",
    "    print y\n",
    "print '\\n'\n",
    "ww3 = group_avgRate(calc_bush_adv_beh, 5)\n",
    "for z in ww3:\n",
    "    print z"
   ]
  },
  {
   "cell_type": "code",
   "execution_count": 17,
   "metadata": {
    "collapsed": false
   },
   "outputs": [
    {
     "name": "stdout",
     "output_type": "stream",
     "text": [
      "0.0767977098015\n",
      "0.131503859339\n",
      "0.204552064376\n",
      "0.257377491173\n",
      "0.318178168698\n",
      "\n",
      "\n",
      "0.0729914608927\n",
      "0.131755081888\n",
      "0.205901971434\n",
      "0.269202696469\n",
      "0.310970262779\n",
      "\n",
      "\n",
      "0.0761971755516\n",
      "0.131529450363\n",
      "0.204556515907\n",
      "0.257536243003\n",
      "0.282028951461\n"
     ]
    }
   ],
   "source": [
    "xx4 = group_avgRate_v2(calc_cl_adv, 5)\n",
    "for x in xx4:\n",
    "    print x\n",
    "print '\\n'\n",
    "yy4 = group_avgRate_v2(calc_all_adv_beh, 5)\n",
    "for y in yy4:\n",
    "    print y\n",
    "print '\\n'\n",
    "ww4 = group_avgRate_v2(calc_bush_adv_beh, 5)\n",
    "for z in ww4:\n",
    "    print z"
   ]
  },
  {
   "cell_type": "code",
   "execution_count": null,
   "metadata": {
    "collapsed": true
   },
   "outputs": [],
   "source": []
  },
  {
   "cell_type": "code",
   "execution_count": null,
   "metadata": {
    "collapsed": true
   },
   "outputs": [],
   "source": []
  },
  {
   "cell_type": "code",
   "execution_count": null,
   "metadata": {
    "collapsed": true
   },
   "outputs": [],
   "source": []
  },
  {
   "cell_type": "code",
   "execution_count": null,
   "metadata": {
    "collapsed": true
   },
   "outputs": [],
   "source": []
  }
 ],
 "metadata": {
  "kernelspec": {
   "display_name": "Python 2",
   "language": "python",
   "name": "python2"
  },
  "language_info": {
   "codemirror_mode": {
    "name": "ipython",
    "version": 2
   },
   "file_extension": ".py",
   "mimetype": "text/x-python",
   "name": "python",
   "nbconvert_exporter": "python",
   "pygments_lexer": "ipython2",
   "version": "2.7.12"
  }
 },
 "nbformat": 4,
 "nbformat_minor": 0
}
