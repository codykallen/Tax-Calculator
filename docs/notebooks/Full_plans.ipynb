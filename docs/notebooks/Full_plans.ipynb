{
 "cells": [
  {
   "cell_type": "code",
   "execution_count": 1,
   "metadata": {
    "collapsed": false
   },
   "outputs": [],
   "source": [
    "import sys\n",
    "sys.path.append(\"../../\")\n",
    "from taxcalc import *\n",
    "import pandas as pd\n",
    "import numpy as np\n",
    "import copy\n",
    "import matplotlib.pyplot as plt \n",
    "from matplotlib.transforms import BlendedGenericTransform\n",
    "%matplotlib inline"
   ]
  },
  {
   "cell_type": "code",
   "execution_count": 2,
   "metadata": {
    "collapsed": true
   },
   "outputs": [],
   "source": [
    "CBO_growth = {2013: {'_factor_target': [0.022, \n",
    "                                        0.024,\n",
    "                                        0.024,\n",
    "                                        0.025,\n",
    "                                        0.026,\n",
    "                                        0.023,\n",
    "                                        0.018,\n",
    "                                        0.019,\n",
    "                                        0.021,\n",
    "                                        0.021,\n",
    "                                        0.021,\n",
    "                                        0.02,\n",
    "                                        0.02,\n",
    "                                        0.02]\n",
    "                     }\n",
    "              }\n",
    "behavior_traits = {2017: {'_BE_inc': [0.0], '_BE_sub': [0.4], '_BE_cg': [-3.487]}}"
   ]
  },
  {
   "cell_type": "markdown",
   "metadata": {},
   "source": [
    "# Create the policies and calculators"
   ]
  },
  {
   "cell_type": "code",
   "execution_count": 3,
   "metadata": {
    "collapsed": false
   },
   "outputs": [
    {
     "name": "stdout",
     "output_type": "stream",
     "text": [
      "You loaded data for 2009.\n",
      "Your data have been extrapolated to 2013.\n",
      "Done\n"
     ]
    }
   ],
   "source": [
    "policy_cl = Policy()\n",
    "behavior_cl = Behavior()\n",
    "records_cl = Records(\"../../puf.csv\")\n",
    "calc_cl = Calculator(policy_cl, records_cl, behavior_traits)\n",
    "calc_cl.growth.update_economic_growth(CBO_growth)\n",
    "for i in range(4):\n",
    "    calc_cl.increment_year()\n",
    "assert calc_cl.current_year == 2017\n",
    "calc_cl.calc_all()\n",
    "print \"Done\""
   ]
  },
  {
   "cell_type": "code",
   "execution_count": 4,
   "metadata": {
    "collapsed": false
   },
   "outputs": [
    {
     "name": "stdout",
     "output_type": "stream",
     "text": [
      "You loaded data for 2009.\n",
      "Your data have been extrapolated to 2013.\n",
      "Done\n"
     ]
    }
   ],
   "source": [
    "policy_amt = Policy()\n",
    "behavior_amt = Behavior()\n",
    "records_amt = Records(\"../../puf.csv\")\n",
    "reform_amt = {\n",
    "    2017: {\n",
    "        '_AMT_trt1': [0.0],\n",
    "        '_AMT_trt2': [0.0]\n",
    "    }\n",
    "}\n",
    "policy_amt.implement_reform(reform_amt)\n",
    "calc_amt = Calculator(policy_amt, records_amt, behavior_amt)\n",
    "calc_amt.growth.update_economic_growth(CBO_growth)\n",
    "for i in range(4):\n",
    "    calc_amt.increment_year()\n",
    "assert calc_amt.current_year == 2017\n",
    "calc_amt.calc_all()\n",
    "calc_amt.behavior.update_behavior(behavior_traits)\n",
    "calc_amt_beh = Behavior.response(calc_cl, calc_amt)\n",
    "print \"Done\""
   ]
  },
  {
   "cell_type": "code",
   "execution_count": 5,
   "metadata": {
    "collapsed": false
   },
   "outputs": [
    {
     "name": "stdout",
     "output_type": "stream",
     "text": [
      "You loaded data for 2009.\n",
      "Your data have been extrapolated to 2013.\n",
      "Done\n"
     ]
    }
   ],
   "source": [
    "policy_bush = Policy()\n",
    "behavior_bush = Behavior()\n",
    "records_bush = Records(\"../../puf.csv\")\n",
    "reform_bush = {\n",
    "    2017: {\n",
    "        '_II_rt7': [0.35],\n",
    "        '_CG_rt3': [0.15],\n",
    "        '_II_prt': [0.0],\n",
    "        '_ID_prt': [0.0],\n",
    "        '_AMT_CG_rt3': [0.15],\n",
    "        '_NIIT_trt': [0.0],\n",
    "        '_PT_rt7': [0.35]\n",
    "    }\n",
    "}\n",
    "policy_bush.implement_reform(reform_bush)\n",
    "calc_bush = Calculator(policy_bush, records_bush, behavior_bush)\n",
    "calc_bush.growth.update_economic_growth(CBO_growth)\n",
    "for i in range(4):\n",
    "    calc_bush.increment_year()\n",
    "assert calc_bush.current_year == 2017\n",
    "calc_bush.calc_all()\n",
    "calc_bush.behavior.update_behavior(behavior_traits)\n",
    "calc_bush_beh = Behavior.response(calc_cl, calc_bush)\n",
    "print \"Done\""
   ]
  },
  {
   "cell_type": "code",
   "execution_count": 6,
   "metadata": {
    "collapsed": false
   },
   "outputs": [
    {
     "name": "stdout",
     "output_type": "stream",
     "text": [
      "You loaded data for 2009.\n",
      "Your data have been extrapolated to 2013.\n",
      "Done\n"
     ]
    }
   ],
   "source": [
    "policy_all = Policy()\n",
    "behavior_all = Behavior()\n",
    "records_all = Records(\"../../puf.csv\")\n",
    "reform_all = {\n",
    "    2017: {\n",
    "        '_II_rt1': [0.12],\n",
    "        '_II_rt2': [0.12],\n",
    "        '_II_rt3': [0.25],\n",
    "        '_II_rt4': [0.25],\n",
    "        '_II_rt5': [0.33],\n",
    "        '_II_rt6': [0.33],\n",
    "        '_II_rt7': [0.33],\n",
    "        '_AMT_trt1': [0.0],\n",
    "        '_AMT_trt2': [0.0],\n",
    "        '_STD': [[12000, 24000, 12000, 18000, 24000, 12000, 1050]],\n",
    "        '_STD_Aged': [[0,0,0,0,0,0],\n",
    "                      [0,0,0,0,0,0],\n",
    "                      [0,0,0,0,0,0],\n",
    "                      [0,0,0,0,0,0]],\n",
    "        '_II_em': [0,0,0,0],\n",
    "        '_CTC_ps': [[75000, 150000, 75000, 75000, 75000, 75000]],\n",
    "        '_II_credit': [[500, 500, 500, 500, 500, 500]],\n",
    "        '_II_credit_ps': [[75000, 150000, 75000, 75000, 75000, 75000]],\n",
    "        '_II_credit_prt': [0.05],\n",
    "        '_ID_StateLocalTax_HC': [1.0],\n",
    "        '_ID_Medical_HC': [1.0],\n",
    "        '_ID_Casualty_HC': [1.0],\n",
    "        '_ID_Miscellaneous_HC': [1.0],\n",
    "        '_ID_RealEstate_HC': [1.0],\n",
    "        '_ALD_Investment_ec': [0.5],        \n",
    "        '_CG_as_II': [1],\n",
    "        '_NIIT_trt': [0.0],\n",
    "        '_PT_rt1': [0.12],\n",
    "        '_PT_rt2': [0.12],\n",
    "        '_PT_rt3': [0.25],\n",
    "        '_PT_rt4': [0.25],\n",
    "        '_PT_rt5': [0.25],\n",
    "        '_PT_rt6': [0.25],\n",
    "        '_PT_rt7': [0.25],\n",
    "    }\n",
    "}\n",
    "policy_all.implement_reform(reform_all)\n",
    "calc_all = Calculator(policy_all, records_all, behavior_all)\n",
    "calc_all.growth.update_economic_growth(CBO_growth)\n",
    "for i in range(4):\n",
    "    calc_all.increment_year()\n",
    "assert calc_all.current_year == 2017\n",
    "calc_all.calc_all()\n",
    "calc_all.behavior.update_behavior(behavior_traits)\n",
    "calc_all_beh = Behavior.response(calc_cl, calc_all)\n",
    "print \"Done\""
   ]
  },
  {
   "cell_type": "markdown",
   "metadata": {},
   "source": [
    "# Iterator and revenue impact"
   ]
  },
  {
   "cell_type": "code",
   "execution_count": 7,
   "metadata": {
    "collapsed": true
   },
   "outputs": [],
   "source": [
    "def static_path_change(calcx, calcy):\n",
    "    static_path = [0] * 10\n",
    "    calc1 = copy.deepcopy(calcx)\n",
    "    calc2 = copy.deepcopy(calcy)\n",
    "    for i in range(10):\n",
    "        calc1.calc_all()\n",
    "        calc2.calc_all()\n",
    "        calc1_combined = (calc1.records._combined * calc1.records.s006)\n",
    "        calc2_combined = (calc2.records._combined * calc2.records.s006)\n",
    "        static_path[i] = (calc2_combined - calc1_combined).sum() / 10**9\n",
    "        if calc1.current_year < 2026:\n",
    "            calc1.increment_year()\n",
    "            calc2.increment_year()\n",
    "    return static_path"
   ]
  },
  {
   "cell_type": "code",
   "execution_count": 8,
   "metadata": {
    "collapsed": false
   },
   "outputs": [
    {
     "name": "stdout",
     "output_type": "stream",
     "text": [
      "Path assuming no behavioral response\n",
      "-97.9137941446\n",
      "-97.4789735132\n",
      "-95.9056333998\n",
      "-95.7266429503\n",
      "-96.6918511548\n",
      "-98.4224193285\n",
      "-100.901734911\n",
      "-104.326659845\n",
      "-108.675065937\n",
      "-114.135751242\n"
     ]
    }
   ],
   "source": [
    "path1 = static_path_change(calc_cl, calc_all)\n",
    "print 'Path assuming no behavioral response'\n",
    "for x in path1:\n",
    "    print x"
   ]
  },
  {
   "cell_type": "code",
   "execution_count": 8,
   "metadata": {
    "collapsed": false
   },
   "outputs": [
    {
     "name": "stdout",
     "output_type": "stream",
     "text": [
      "Path with behavioral response\n",
      "-43.570697344\n",
      "-41.0124080573\n",
      "-37.7083966763\n",
      "-35.200464866\n",
      "-33.3496962875\n",
      "-32.0716641396\n",
      "-31.3302099502\n",
      "-31.3403079555\n",
      "-32.074325845\n",
      "-33.9626235332\n"
     ]
    }
   ],
   "source": [
    "path2 = static_path_change(calc_cl, calc_all_beh)\n",
    "print 'Path with behavioral response'\n",
    "for x in path2:\n",
    "    print x"
   ]
  },
  {
   "cell_type": "code",
   "execution_count": 9,
   "metadata": {
    "collapsed": false
   },
   "outputs": [
    {
     "name": "stdout",
     "output_type": "stream",
     "text": [
      "Path assuming no behavioral response, compared against just AMT repeal\n",
      "-56.1204170172\n",
      "-52.9642491727\n",
      "-48.7411504756\n",
      "-45.6313003599\n",
      "-43.5347063674\n",
      "-41.8481147726\n",
      "-40.8672107143\n",
      "-40.8007624044\n",
      "-41.5313859206\n",
      "-43.2507739781\n"
     ]
    }
   ],
   "source": [
    "path3 = static_path_change(calc_amt, calc_all)\n",
    "print 'Path assuming no behavioral response, compared against just AMT repeal'\n",
    "for x in path3:\n",
    "    print x"
   ]
  },
  {
   "cell_type": "code",
   "execution_count": 10,
   "metadata": {
    "collapsed": false
   },
   "outputs": [
    {
     "name": "stdout",
     "output_type": "stream",
     "text": [
      "Path with behavioral response, compared against just AMT repeal\n",
      "-3.32440139496\n",
      "1.89571134451\n",
      "7.82109209165\n",
      "13.21609482\n",
      "18.0131597448\n",
      "22.5987143216\n",
      "26.6414936889\n",
      "29.9086655887\n",
      "32.6028306951\n",
      "34.2226516919\n"
     ]
    }
   ],
   "source": [
    "path4 = static_path_change(calc_amt_beh, calc_all_beh)\n",
    "print 'Path with behavioral response, compared against just AMT repeal'\n",
    "for x in path4:\n",
    "    print x"
   ]
  },
  {
   "cell_type": "code",
   "execution_count": 12,
   "metadata": {
    "collapsed": false
   },
   "outputs": [
    {
     "name": "stdout",
     "output_type": "stream",
     "text": [
      "Path assuming no behavioral response, compared against pre-2009 law\n",
      "-2.46868470222\n",
      "0.937239267559\n",
      "4.7353560907\n",
      "8.35560934396\n",
      "11.7131167702\n",
      "14.8701680779\n",
      "17.9664226125\n",
      "20.5228205109\n",
      "22.8844044817\n",
      "24.6718040024\n"
     ]
    }
   ],
   "source": [
    "path5 = static_path_change(calc_bush, calc_all)\n",
    "print 'Path assuming no behavioral response, compared against pre-2009 law'\n",
    "for x in path5:\n",
    "    print x"
   ]
  },
  {
   "cell_type": "code",
   "execution_count": 11,
   "metadata": {
    "collapsed": false
   },
   "outputs": [
    {
     "name": "stdout",
     "output_type": "stream",
     "text": [
      "Path with behavioral response, compared against pre-2009 law\n",
      "1.15561780953\n",
      "5.18101785542\n",
      "9.45031758742\n",
      "13.6481578894\n",
      "17.6282164422\n",
      "21.2921928527\n",
      "25.0092432378\n",
      "28.2183841904\n",
      "31.1812109218\n",
      "33.4868186055\n"
     ]
    }
   ],
   "source": [
    "path6 = static_path_change(calc_bush_beh, calc_all_beh)\n",
    "print 'Path with behavioral response, compared against pre-2009 law'\n",
    "for x in path6:\n",
    "    print x"
   ]
  },
  {
   "cell_type": "code",
   "execution_count": null,
   "metadata": {
    "collapsed": true
   },
   "outputs": [],
   "source": []
  },
  {
   "cell_type": "code",
   "execution_count": null,
   "metadata": {
    "collapsed": true
   },
   "outputs": [],
   "source": []
  },
  {
   "cell_type": "markdown",
   "metadata": {},
   "source": [
    "# Diagnostics"
   ]
  },
  {
   "cell_type": "code",
   "execution_count": 25,
   "metadata": {
    "collapsed": true
   },
   "outputs": [],
   "source": [
    "def taxableGain(calc):\n",
    "    tg = np.maximum(0., np.minimum(calc.records.c23650, calc.records.p23250)) + calc.records.e01100\n",
    "    return tg\n",
    "\n",
    "def num_ided(calc):\n",
    "    ided = calc.records.s006[(calc.records.c04470 > 0.) * (calc.records.c00100 > 0.)].sum()\n",
    "    return ided\n",
    "def num_std(calc):\n",
    "    std = calc.records.s006[(calc.records._standard > 0.) * (calc.records.c00100 > 0.)].sum()\n",
    "    return std\n",
    "def wavgMTR_wages(calc):\n",
    "    mtr = ((calc.mtr('e00200p')[1] * calc.records.e00200 * calc.records.s006).sum() / \n",
    "                   (calc.records.e00200 * calc.records.s006).sum())\n",
    "    return mtr\n",
    "def wavgMTR_cg(calc):\n",
    "    gain = taxableGain(calc)\n",
    "    mtr = ((calc.mtr('p23250')[1] * gain * calc.records.s006).sum() / \n",
    "                 (gain * calc.records.s006).sum())\n",
    "    return mtr\n",
    "def wavgMTR_int(calc):\n",
    "    mtr = ((calc.mtr('e00300')[1] * calc.records.c00300 * calc.records.s006).sum() / \n",
    "                   (calc.records.c00300 * calc.records.s006).sum())\n",
    "    return mtr\n",
    "def wavgMTR_div(calc):\n",
    "    mtr = ((calc.mtr('e00650')[1] * calc.records.c00650 * calc.records.s006).sum() / \n",
    "                   (calc.records.c00650 * calc.records.s006).sum())\n",
    "    return mtr\n",
    "def wavgMTR_stcg(calc):\n",
    "    gain = taxableGain(calc)\n",
    "    mtr = ((calc.mtr('p22250')[1] * gain * calc.records.s006).sum() / \n",
    "                 (gain * calc.records.s006).sum())\n",
    "    return mtr\n",
    "def wavgMTR_passthru(calc):\n",
    "    passthruInc = abs(calc.records.c00900) + abs(calc.records.c26270)\n",
    "    mtr_c = calc.mtr('e00900p')[1]\n",
    "    mtr_e = calc.mtr('e02000')[1]    \n",
    "    wtot = mtr_c * abs(calc.records.c00900) + mtr_e * abs(calc.records.c26270)\n",
    "    mtr = (wtot * calc.records.s006).sum() / (passthruInc * calc.records.s006).sum()\n",
    "    return mtr\n",
    "def wavgMTR_sp(calc):\n",
    "    sp_inc = abs(calc.records.c00900)\n",
    "    mtr = ((calc.mtr('e00900p')[1] * sp_inc * calc.records.s006).sum() / \n",
    "           (sp_inc * calc.records.s006).sum())\n",
    "    return mtr\n",
    "def wavgMTR_schE(calc):\n",
    "    schE_inc = abs(calc.records.c26270)\n",
    "    mtr = ((calc.mtr('e02000')[1] * schE_inc * calc.records.s006).sum() / \n",
    "                   (schE_inc * calc.records.s006).sum())\n",
    "    return mtr\n",
    "def no_inc_tax(calc):\n",
    "    count = calc.records.s006[calc.records._iitax < 0.0001].sum()\n",
    "    return count\n",
    "\n",
    "def lwrMTR_wages(calc1, calc2):\n",
    "    #calc1 is baseline, calc2 is reform\n",
    "    diff = calc2.records.s006[(calc2.mtr('e00200p')[2] < calc1.mtr('e00200p')[2])].sum()\n",
    "    return diff\n",
    "def lwrMTR_cg(calc1, calc2):\n",
    "    #calc1 is baseline, calc2 is reform\n",
    "    diff = calc2.records.s006[(calc2.mtr('p23250')[2] < calc1.mtr('p23250')[2])].sum()\n",
    "    return diff\n",
    "def hgrMTR_wages(calc1, calc2):\n",
    "    #calc1 is baseline, calc2 is reform\n",
    "    diff = calc2.records.s006[(calc2.mtr('e00200p')[2] > calc1.mtr('e00200p')[2])].sum()\n",
    "    return diff\n",
    "def hgrMTR_cg(calc1, calc2):\n",
    "    #calc1 is baseline, calc2 is reform\n",
    "    diff = calc2.records.s006[(calc2.mtr('p23250')[2] > calc1.mtr('p23250')[2])].sum()\n",
    "    return diff\n",
    "def num_taxcut(calc1, calc2):\n",
    "    #calc1 is baseline, calc2 is reform\n",
    "    diff = calc2.records.s006[calc1.records._combined > calc2.records._combined + 0.0001].sum()\n",
    "    return diff\n",
    "\n",
    "def diagnose1(calc):\n",
    "    print str(round(num_ided(calc) / 1000) / 1000.0) + \" million taxpayers using itemized deductions\"\n",
    "    print str(round(num_std(calc) / 1000) / 1000.0) + \" million taxpayers using the standard deduction\"\n",
    "    print \"Average MTR on wage income: \" + str(round(wavgMTR_wages(calc) * 10000) / 10000.0)\n",
    "    print \"Average MTR on long-term gains: \" + str(round(wavgMTR_cg(calc) * 10000) / 10000.0)\n",
    "    print \"Average MTR on short-term gains: \" + str(round(wavgMTR_stcg(calc) * 10000) / 10000.0)\n",
    "    print \"Average MTR on interest: \" + str(round(wavgMTR_int(calc) * 10000) / 10000.0)\n",
    "    print \"Average MTR on qualified dividends: \" + str(round(wavgMTR_div(calc) * 10000) / 10000.0)\n",
    "    print \"Average MTR on pass-through income: \" + str(round(wavgMTR_passthru(calc) * 10000) / 10000.0)\n",
    "    print \"Average MTR on sole proprietorships: \" + str(round(wavgMTR_sp(calc) * 10000) / 10000.0)\n",
    "    print \"Average MTR on partnership/S-corp: \" + str(round(wavgMTR_schE(calc) * 10000) / 10000.0)\n",
    "    print \"Number paying no income tax: \" + str(round(no_inc_tax(calc) / 1000) / 1000.0) + \" million\"\n",
    "    \n",
    "def diagnose2(calc1, calc2):\n",
    "    #calc1 is baseline, calc2 is reform\n",
    "    print \"Number with lower EMTR on wages: \" + str(round(lwrMTR_wages(calc1, calc2) / 1000) / 1000.0) + \" million\"\n",
    "    print \"Number with higher EMTR on wages: \" + str(round(hgrMTR_wages(calc1, calc2) / 1000) / 1000.0) + \" million\"\n",
    "    print \"Number with lower EMTR on gains: \" + str(round(lwrMTR_cg(calc1, calc2) / 1000) / 1000.0) + \" million\"\n",
    "    print \"Number with higher EMTR on gains: \" + str(round(hgrMTR_cg(calc1, calc2) / 1000) / 1000.0) + \" million\"\n",
    "    print \"Number receiving a tax cut: \" + str(round(num_taxcut(calc1, calc2) / 1000) / 1000.0) + \" million\""
   ]
  },
  {
   "cell_type": "code",
   "execution_count": 26,
   "metadata": {
    "collapsed": false,
    "scrolled": false
   },
   "outputs": [
    {
     "name": "stdout",
     "output_type": "stream",
     "text": [
      "45.42 million taxpayers using itemized deductions\n",
      "113.603 million taxpayers using the standard deduction\n",
      "Average MTR on wage income: 0.2365\n",
      "Average MTR on long-term gains: 0.222\n",
      "Average MTR on short-term gains: 0.3136\n",
      "Average MTR on interest: 0.2378\n",
      "Average MTR on qualified dividends: 0.1756\n",
      "Average MTR on pass-through income: 0.2955\n",
      "Average MTR on sole proprietorships: 0.2771\n",
      "Average MTR on partnership/S-corp: 0.3061\n",
      "Number paying no income tax: 66.972 million\n"
     ]
    }
   ],
   "source": [
    "diagnose1(calc_cl)"
   ]
  },
  {
   "cell_type": "code",
   "execution_count": 7,
   "metadata": {
    "collapsed": false
   },
   "outputs": [
    {
     "name": "stdout",
     "output_type": "stream",
     "text": [
      "8.539 million taxpayers using itemized deductions\n",
      "150.262 million taxpayers using the standard deduction\n",
      "Average MTR on wage income: 0.2189\n",
      "Average MTR on long-term gains: 0.1501\n",
      "Average MTR on short-term gains: 0.3002\n",
      "Average MTR on interest: 0.0982\n",
      "Average MTR on qualified dividends: 0.1254\n",
      "Average MTR on pass-through income: 0.2274\n",
      "Average MTR on sole proprietorships: 0.2497\n",
      "Average MTR on partnership/S-corp: 0.2147\n",
      "Number paying no income tax: 61.042 million\n"
     ]
    }
   ],
   "source": [
    "diagnose1(calc_all)"
   ]
  },
  {
   "cell_type": "code",
   "execution_count": 8,
   "metadata": {
    "collapsed": false
   },
   "outputs": [
    {
     "name": "stdout",
     "output_type": "stream",
     "text": [
      "8.432 million taxpayers using itemized deductions\n",
      "150.372 million taxpayers using the standard deduction\n",
      "Average MTR on wage income: 0.2211\n",
      "Average MTR on long-term gains: 0.1555\n",
      "Average MTR on short-term gains: 0.311\n",
      "Average MTR on interest: 0.1171\n",
      "Average MTR on qualified dividends: 0.1268\n",
      "Average MTR on pass-through income: 0.2289\n",
      "Average MTR on sole proprietorships: 0.2502\n",
      "Average MTR on partnership/S-corp: 0.2167\n",
      "Number paying no income tax: 60.757 million\n"
     ]
    }
   ],
   "source": [
    "diagnose1(calc_all_beh)"
   ]
  },
  {
   "cell_type": "code",
   "execution_count": 18,
   "metadata": {
    "collapsed": false
   },
   "outputs": [
    {
     "name": "stdout",
     "output_type": "stream",
     "text": [
      "Number with lower EMTR on wages: 70.861 million\n",
      "Number with higher EMTR on wages: 36.092 million\n",
      "Number with lower EMTR on gains: 52.959 million\n",
      "Number with higher EMTR on gains: 55.786 million\n",
      "Number receiving a tax cut: 66.983 million\n"
     ]
    }
   ],
   "source": [
    "diagnose2(calc_cl, calc_all)"
   ]
  },
  {
   "cell_type": "code",
   "execution_count": 19,
   "metadata": {
    "collapsed": false
   },
   "outputs": [
    {
     "name": "stdout",
     "output_type": "stream",
     "text": [
      "Number with lower EMTR on wages: 69.293 million\n",
      "Number with higher EMTR on wages: 34.302 million\n",
      "Number with lower EMTR on gains: 52.996 million\n",
      "Number with higher EMTR on gains: 55.865 million\n",
      "Number receiving a tax cut: 62.508 million\n"
     ]
    }
   ],
   "source": [
    "diagnose2(calc_cl, calc_all_beh)"
   ]
  },
  {
   "cell_type": "markdown",
   "metadata": {},
   "source": [
    "# Average tax rates"
   ]
  },
  {
   "cell_type": "code",
   "execution_count": 9,
   "metadata": {
    "collapsed": true
   },
   "outputs": [],
   "source": [
    "def getAGI(calc1):\n",
    "    return np.asarray(np.where(calc1.records.c00100 < 0, 0., calc1.records.c00100))\n",
    "\n",
    "def getAvgRate(calc1):\n",
    "    agi1 = getAGI(calc1) + 0.001\n",
    "    avgRate1 = np.asarray(calc1.records._combined) / agi1\n",
    "    avgRate2 = np.where(avgRate1 > 1, 1.0, avgRate1)\n",
    "    avgRate3 = np.where(avgRate2 < 0, 0., avgRate2)\n",
    "    return avgRate3\n",
    "\n",
    "def group_avgRate(calc, bins):\n",
    "    agi = getAGI(calc)\n",
    "    rate = getAvgRate(calc)\n",
    "    wgt = calc.records.s006\n",
    "    assert bins >= 1 and type(bins)==int\n",
    "    size = int(219814 / bins)\n",
    "    \n",
    "    all_together = zip(agi, rate, wgt)\n",
    "    all_together.sort()\n",
    "    all_apart = zip(*all_together)\n",
    "    agi_sorted = np.asarray(all_apart[0])\n",
    "    rate_sorted = np.asarray(all_apart[1])\n",
    "    wgt_sorted = np.asarray(all_apart[2])\n",
    "    \n",
    "    avgList = [0] * bins\n",
    "    wgtList = [0] * bins\n",
    "    \n",
    "    for i in range(bins):\n",
    "        #avgList[i] = (rate_sorted[(i*size):((i+1)*size)] * wgt_sorted[(i*size):((i+1)*size)]).sum()\n",
    "        #wgtList[i] =  wgt_sorted[(i*size):((i+1)*size)].sum()\n",
    "        #avgList[i] = np.percentile(rate_sorted[(i*size):((i+1)*size)], 75)\n",
    "        avgList[i] = np.std(rate_sorted[(i*size):((i+1)*size)])\n",
    "        wgtList[i] = 1\n",
    "    \n",
    "    avgFinal = np.asarray(avgList) / np.asarray(wgtList)\n",
    "    return avgFinal\n",
    "\n",
    "def group_avgRate_v2(calc, bins):\n",
    "    agi = getAGI(calc)\n",
    "    tax = calc.records._iitax\n",
    "    wgt = calc.records.s006\n",
    "    ided_ind = np.where(calc_cl.records.s006 != 99999999999, True, False)\n",
    "    #ided_ind = (calc_cl.records.c04470 > calc_cl.records._standard)\n",
    "    assert bins >= 1 and type(bins)==int\n",
    "    size = int(len(tax) / bins)\n",
    "    \n",
    "    all_together = zip(agi, tax, wgt, ided_ind)\n",
    "    all_together.sort()\n",
    "    all_apart = zip(*all_together)\n",
    "    agi_sorted = np.asarray(all_apart[0])\n",
    "    tax_sorted = np.asarray(all_apart[1])\n",
    "    wgt_sorted = np.asarray(all_apart[2])\n",
    "    ided_ind_sorted = np.asarray(all_apart[3])\n",
    "    \n",
    "    taxList = [0] * bins\n",
    "    agiList = [0] * bins\n",
    "    \n",
    "    for i in range(bins):\n",
    "        #taxList[i] = np.where(ided_ind_sorted[(i*size):((i+1)*size)], tax_sorted[(i*size):((i+1)*size)] * wgt_sorted[(i*size):((i+1)*size)], 0).sum()\n",
    "        #agiList[i] = np.where(ided_ind_sorted[(i*size):((i+1)*size)], agi_sorted[(i*size):((i+1)*size)] * wgt_sorted[(i*size):((i+1)*size)], 0).sum()\n",
    "        #taxList[i] = np.where(ided_ind_sorted[(i*size):((i+1)*size)], wgt_sorted[(i*size):((i+1)*size)], 0).sum()\n",
    "        taxList[i] = np.where(ided_ind_sorted[(i*size):((i+1)*size)], agi_sorted[(i*size):((i+1)*size)] * wgt_sorted[(i*size):((i+1)*size)], 0).sum()\n",
    "        agiList[i] = 1\n",
    "        \n",
    "    avgFinal = np.asarray(taxList) / np.asarray(agiList)\n",
    "    return avgFinal"
   ]
  },
  {
   "cell_type": "code",
   "execution_count": 25,
   "metadata": {
    "collapsed": false
   },
   "outputs": [
    {
     "name": "stdout",
     "output_type": "stream",
     "text": [
      "0.170655433777\n",
      "0.0548999661829\n",
      "0.0608864508001\n",
      "0.0744311651164\n",
      "0.0802289930955\n",
      "\n",
      "\n",
      "0.204166002523\n",
      "0.044309357578\n",
      "0.0479182629841\n",
      "0.0546505735646\n",
      "0.0527439738519\n",
      "\n",
      "\n",
      "0.170348165444\n",
      "0.0550909517804\n",
      "0.0608891658046\n",
      "0.0740903550653\n",
      "0.0765334693071\n"
     ]
    }
   ],
   "source": [
    "xx1 = group_avgRate(calc_cl, 5)\n",
    "for x in xx1:\n",
    "    print x\n",
    "print '\\n'\n",
    "yy1 = group_avgRate(calc_all_beh, 5)\n",
    "for y in yy1:\n",
    "    print y\n",
    "print '\\n'\n",
    "ww1 = group_avgRate(calc_bush_beh, 5)\n",
    "for z in ww1:\n",
    "    print z"
   ]
  },
  {
   "cell_type": "code",
   "execution_count": 8,
   "metadata": {
    "collapsed": false,
    "scrolled": false
   },
   "outputs": [
    {
     "name": "stdout",
     "output_type": "stream",
     "text": [
      "-0.0561916225469\n",
      "-0.0144714389652\n",
      "0.0800931549588\n",
      "0.130250910131\n",
      "0.262877782476\n",
      "\n",
      "\n",
      "-0.0525087804479\n",
      "-0.0143323923741\n",
      "0.0788437689422\n",
      "0.137145366817\n",
      "0.250710349451\n",
      "\n",
      "\n",
      "-0.0569293882822\n",
      "-0.0144509227779\n",
      "0.0800955587095\n",
      "0.13057094758\n",
      "0.230326237072\n"
     ]
    }
   ],
   "source": [
    "xx2 = group_avgRate_v2(calc_cl, 5)\n",
    "for x in xx2:\n",
    "    print x\n",
    "print '\\n'\n",
    "yy2 = group_avgRate_v2(calc_all_beh, 5)\n",
    "for y in yy2:\n",
    "    print y\n",
    "print '\\n'\n",
    "ww2 = group_avgRate_v2(calc_bush_beh, 5)\n",
    "for z in ww2:\n",
    "    print z"
   ]
  },
  {
   "cell_type": "code",
   "execution_count": 10,
   "metadata": {
    "collapsed": false,
    "scrolled": false
   },
   "outputs": [
    {
     "name": "stdout",
     "output_type": "stream",
     "text": [
      "325323505574.0\n",
      "285809611044.0\n",
      "256977626610.0\n",
      "168417552660.0\n",
      "134238610300.0\n",
      "135780565206.0\n",
      "159381318086.0\n",
      "149066568242.0\n",
      "113480105521.0\n",
      "96849332959.4\n",
      "111221749716.0\n",
      "117979641953.0\n",
      "99797731478.5\n",
      "65566179799.3\n",
      "69616625434.2\n",
      "78899805689.5\n",
      "92740431151.7\n",
      "114080109935.0\n",
      "166887394205.0\n",
      "400253721875.0\n",
      "\n",
      "\n",
      "332881068975.0\n",
      "292102410360.0\n",
      "243552724438.0\n",
      "158663746900.0\n",
      "145416740562.0\n",
      "146464268824.0\n",
      "174654059733.0\n",
      "154542278351.0\n",
      "118109190766.0\n",
      "116445013433.0\n",
      "120340104553.0\n",
      "127934515161.0\n",
      "103686491162.0\n",
      "74292587566.5\n",
      "81030159885.4\n",
      "91753591203.4\n",
      "110420001367.0\n",
      "135838667776.0\n",
      "189244409939.0\n",
      "465642335184.0\n",
      "\n",
      "\n",
      "325130387530.0\n",
      "290227610724.0\n",
      "243252905419.0\n",
      "172906587493.0\n",
      "137073327472.0\n",
      "140472250665.0\n",
      "172175951651.0\n",
      "155519710503.0\n",
      "118242691141.0\n",
      "115161415802.0\n",
      "122965177783.0\n",
      "129712284081.0\n",
      "102951467631.0\n",
      "74111465070.8\n",
      "82276816434.2\n",
      "92572740155.9\n",
      "113324282674.0\n",
      "142450106807.0\n",
      "191727600288.0\n",
      "480115541860.0\n"
     ]
    }
   ],
   "source": [
    "xx2 = group_avgRate_v2(calc_cl, 100)[80:]\n",
    "for x in xx2:\n",
    "    print x\n",
    "print '\\n'\n",
    "yy2 = group_avgRate_v2(calc_all_beh, 100)[80:]\n",
    "for y in yy2:\n",
    "    print y\n",
    "print '\\n'\n",
    "ww2 = group_avgRate_v2(calc_bush_beh, 100)[80:]\n",
    "for z in ww2:\n",
    "    print z"
   ]
  },
  {
   "cell_type": "markdown",
   "metadata": {},
   "source": [
    "## Advance calculators to 2026, recalculate average rates"
   ]
  },
  {
   "cell_type": "code",
   "execution_count": 11,
   "metadata": {
    "collapsed": false
   },
   "outputs": [
    {
     "name": "stdout",
     "output_type": "stream",
     "text": [
      "Done\n"
     ]
    }
   ],
   "source": [
    "calc_cl_adv = copy.deepcopy(calc_cl)\n",
    "calc_bush_adv = copy.deepcopy(calc_bush)\n",
    "calc_all_adv = copy.deepcopy(calc_all)\n",
    "for i in range(9):\n",
    "    calc_cl_adv.increment_year()\n",
    "    calc_bush_adv.increment_year()\n",
    "    calc_all_adv.increment_year()\n",
    "assert calc_cl_adv.current_year == 2026\n",
    "assert calc_bush_adv.current_year == 2026\n",
    "assert calc_all_adv.current_year == 2026\n",
    "calc_cl_adv.calc_all()\n",
    "calc_bush_adv.calc_all()\n",
    "calc_all_adv.calc_all()\n",
    "calc_bush_adv_beh = Behavior.response(calc_cl_adv, calc_bush_adv)\n",
    "calc_all_adv_beh = Behavior.response(calc_cl_adv, calc_all_adv)\n",
    "print \"Done\""
   ]
  },
  {
   "cell_type": "code",
   "execution_count": 16,
   "metadata": {
    "collapsed": false
   },
   "outputs": [
    {
     "name": "stdout",
     "output_type": "stream",
     "text": [
      "0.27527807894\n",
      "0.106997221491\n",
      "0.0890136000387\n",
      "0.0918924585287\n",
      "0.0842191643614\n",
      "\n",
      "\n",
      "0.298470793555\n",
      "0.100688460277\n",
      "0.0781618278006\n",
      "0.0753323592867\n",
      "0.0618929170907\n",
      "\n",
      "\n",
      "0.275166079786\n",
      "0.10714679842\n",
      "0.0890930545446\n",
      "0.0914609976901\n",
      "0.0886631710347\n"
     ]
    }
   ],
   "source": [
    "xx3 = group_avgRate(calc_cl_adv, 5)\n",
    "for x in xx3:\n",
    "    print x\n",
    "print '\\n'\n",
    "yy3 = group_avgRate(calc_all_adv_beh, 5)\n",
    "for y in yy3:\n",
    "    print y\n",
    "print '\\n'\n",
    "ww3 = group_avgRate(calc_bush_adv_beh, 5)\n",
    "for z in ww3:\n",
    "    print z"
   ]
  },
  {
   "cell_type": "code",
   "execution_count": 17,
   "metadata": {
    "collapsed": false
   },
   "outputs": [
    {
     "name": "stdout",
     "output_type": "stream",
     "text": [
      "0.0767977098015\n",
      "0.131503859339\n",
      "0.204552064376\n",
      "0.257377491173\n",
      "0.318178168698\n",
      "\n",
      "\n",
      "0.0729914608927\n",
      "0.131755081888\n",
      "0.205901971434\n",
      "0.269202696469\n",
      "0.310970262779\n",
      "\n",
      "\n",
      "0.0761971755516\n",
      "0.131529450363\n",
      "0.204556515907\n",
      "0.257536243003\n",
      "0.282028951461\n"
     ]
    }
   ],
   "source": [
    "xx4 = group_avgRate_v2(calc_cl_adv, 5)\n",
    "for x in xx4:\n",
    "    print x\n",
    "print '\\n'\n",
    "yy4 = group_avgRate_v2(calc_all_adv_beh, 5)\n",
    "for y in yy4:\n",
    "    print y\n",
    "print '\\n'\n",
    "ww4 = group_avgRate_v2(calc_bush_adv_beh, 5)\n",
    "for z in ww4:\n",
    "    print z"
   ]
  },
  {
   "cell_type": "code",
   "execution_count": null,
   "metadata": {
    "collapsed": true
   },
   "outputs": [],
   "source": []
  },
  {
   "cell_type": "markdown",
   "metadata": {
    "collapsed": true
   },
   "source": [
    "# Plotting"
   ]
  },
  {
   "cell_type": "code",
   "execution_count": 5,
   "metadata": {
    "collapsed": true
   },
   "outputs": [],
   "source": [
    "def getMTR(calc1):\n",
    "    return np.asarray(calc1.mtr('e00200p')[1])\n",
    "\n",
    "def getMTR_cg(calc1):\n",
    "    return np.asarray(calc1.mtr('p23250')[1])\n",
    "\n",
    "def getAGI(calc1):\n",
    "    return np.asarray(np.where(calc1.records.c00100 < 0, 0., calc1.records.c00100))\n",
    "\n",
    "def getAvgRate(calc1):\n",
    "    agi1 = getAGI(calc1) + 0.001\n",
    "    avgRate1 = np.asarray(calc1.records._combined) / np.asarray((getAGI(calc1)))\n",
    "    avgRate2 = np.where(avgRate1 > 1, 1.0, avgRate1)\n",
    "    avgRate3 = np.where(avgRate2 < 0, 0., avgRate2)\n",
    "    return avgRate3\n",
    "\n",
    "def itemizers(calc1):\n",
    "    ided = np.where(calc1.records.c04470 > calc1.records._standard, 1, 0)\n",
    "    return ided\n",
    "\n",
    "def group_evenly(calc1):\n",
    "    mtr = getMTR(calc1)\n",
    "    mtrCG = getMTR_cg(calc1)\n",
    "    agi = getAGI(calc1)\n",
    "    avgRate = getAvgRate(calc1)\n",
    "    ided = itemizers(calc1)\n",
    "    wgt = np.asarray(copy.deepcopy(calc1.records.s006))\n",
    "    \n",
    "    all_together = zip(agi, mtr, mtrCG, avgRate, ided, wgt)\n",
    "    all_together.sort()\n",
    "    all_apart = zip(*all_together)\n",
    "    agi_sorted = np.asarray(all_apart[0])\n",
    "    mtr_sorted = np.asarray(all_apart[1])\n",
    "    mtrCG_sorted = np.asarray(all_apart[2])\n",
    "    avgRate_sorted = np.asarray(all_apart[3])\n",
    "    ided_sorted = np.asarray(all_apart[4])\n",
    "    wgt_sorted = np.asarray(all_apart[5])\n",
    "    \n",
    "    mtrList = [0] * 98\n",
    "    mtrCGList = [0] * 98\n",
    "    agiList = [0] * 98\n",
    "    avgRateList = [0] * 98\n",
    "    idedList = [0] * 98\n",
    "    wgtList = [0] * 98\n",
    "    \n",
    "    for i in range(98):\n",
    "        agiList[i] = (agi_sorted[(i*2243):((i+1)*2243)] * wgt_sorted[(i*2243):((i+1)*2243)]).sum()\n",
    "        mtrList[i] = (mtr_sorted[(i*2243):((i+1)*2243)] * wgt_sorted[(i*2243):((i+1)*2243)]).sum()\n",
    "        mtrCGList[i] = (mtrCG_sorted[(i*2243):((i+1)*2243)] * wgt_sorted[(i*2243):((i+1)*2243)]).sum()\n",
    "        avgRateList[i] = (avgRate_sorted[(i*2243):((i+1)*2243)] * wgt_sorted[(i*2243):((i+1)*2243)]).sum()\n",
    "        idedList[i] = (ided_sorted[(i*2243):((i+1)*2243)] * wgt_sorted[(i*2243):((i+1)*2243)]).sum()\n",
    "        wgtList[i] =  wgt_sorted[(i*2243):((i+1)*2243)].sum()\n",
    "    \n",
    "    \n",
    "    agiFinal = np.asarray(agiList) / np.asarray(wgtList)\n",
    "    mtrFinal = np.asarray(mtrList) / np.asarray(wgtList)\n",
    "    mtrCGFinal = np.asarray(mtrCGList) / np.asarray(wgtList)\n",
    "    avgRateFinal = np.asarray(avgRateList) / np.asarray(wgtList)\n",
    "    idedFinal = np.asarray(idedList) / np.asarray(wgtList)\n",
    "    return agiFinal, mtrFinal, mtrCGFinal, avgRateFinal, idedFinal\n",
    "\n",
    "def plot_evenly(calc_baseline, calc_reform, Type):\n",
    "    assert Type in ('mtr', 'mtrcg', 'avgrate', 'ided')\n",
    "    baseline = group_evenly(calc_baseline)\n",
    "    reform = group_evenly(calc_reform)\n",
    "    \n",
    "    ydata_baseline = []\n",
    "    ydata_reform = []\n",
    "    title = \"\"\n",
    "    ylab = \"\"\n",
    "    if Type == 'mtr':\n",
    "        title = 'Marginal tax rate on wages'\n",
    "        ydata_baseline = baseline[1]\n",
    "        ydata_reform = reform[1]\n",
    "        ylabel = 'MTR'\n",
    "    elif Type == 'mtrcg':\n",
    "        title = 'Marginal tax rate on capital gains'\n",
    "        ydata_baseline = baseline[2]\n",
    "        ydata_reform = reform[2]\n",
    "        ylabel = 'MTR'\n",
    "    elif Type == 'avgrate':\n",
    "        title = \"Average tax rate\"\n",
    "        ydata_baseline = baseline[3]\n",
    "        ydata_reform = reform[3]\n",
    "        ylabel = 'Average rate'\n",
    "    else: \n",
    "        title = 'Probability of itemizing'\n",
    "        ylabel = 'Fraction itemizing'\n",
    "        ydata_baseline = baseline[4]\n",
    "        ydata_reform = reform[4]\n",
    "    \n",
    "    plt.plot(ydata_baseline)\n",
    "    plt.plot(ydata_reform)\n",
    "    #plt.plot(ydata_baseline[25:76])\n",
    "    #plt.plot(ydata_reform[25:76])\n",
    "    plt.legend(['Baseline', 'Reform'], loc='upper left')\n",
    "    plt.title(title)\n",
    "    plt.xlabel('AGI quantile')\n",
    "    plt.ylabel(ylabel)\n"
   ]
  },
  {
   "cell_type": "code",
   "execution_count": 6,
   "metadata": {
    "collapsed": false
   },
   "outputs": [
    {
     "data": {
      "image/png": "[encoded data removed]",
      "text/plain": [
       "<matplotlib.figure.Figure at 0x10d36e80>"
      ]
     },
     "metadata": {},
     "output_type": "display_data"
    }
   ],
   "source": [
    "plot_evenly(calc_cl, calc_all_beh, 'mtr')"
   ]
  },
  {
   "cell_type": "code",
   "execution_count": 7,
   "metadata": {
    "collapsed": false
   },
   "outputs": [
    {
     "name": "stdout",
     "output_type": "stream",
     "text": [
      "-0.076815177111\n",
      "-0.0699869230406\n",
      "0.0\n",
      "0.0\n",
      "-0.00578298954826\n",
      "-0.0294290416202\n",
      "-0.0337468204574\n",
      "-0.0454826639996\n",
      "-0.0649002084955\n",
      "-0.060264237332\n",
      "-0.0811846239937\n",
      "-0.0678969906908\n",
      "-0.0516333352785\n",
      "-0.0558315890492\n",
      "-0.05743782633\n",
      "-0.0259170544323\n",
      "-0.00986718986361\n",
      "-0.0164358488456\n",
      "-0.00435826134375\n",
      "0.00615017260373\n",
      "0.0239659858309\n",
      "0.01832772021\n",
      "0.0337553124266\n",
      "0.0554208010161\n",
      "0.0909880363773\n",
      "0.106501547095\n",
      "0.113818765853\n",
      "0.117470343869\n",
      "0.132962548212\n",
      "0.150945050843\n",
      "0.156686560394\n",
      "0.156429274553\n",
      "0.161340231757\n",
      "0.165369535127\n",
      "0.167186991666\n",
      "0.170957713492\n",
      "0.177664780761\n",
      "0.186100343243\n",
      "0.181498373681\n",
      "0.177561471991\n",
      "0.167633484768\n",
      "0.173266631828\n",
      "0.173762585039\n",
      "0.160000865623\n",
      "0.16669748481\n",
      "0.190601328894\n",
      "0.189654273461\n",
      "0.186171353788\n",
      "0.186647245334\n",
      "0.185834988423\n",
      "0.188181426131\n",
      "0.182618900958\n",
      "0.187596671633\n",
      "0.182924859039\n",
      "0.188513637308\n",
      "0.185884868666\n",
      "0.186878561604\n",
      "0.187198686588\n",
      "0.186813973402\n",
      "0.180853269359\n",
      "0.175071764386\n",
      "0.1739441106\n",
      "0.174982942642\n",
      "0.183975087178\n",
      "0.195482232081\n",
      "0.213950077324\n",
      "0.234000993376\n",
      "0.240807693003\n",
      "0.243209560067\n",
      "0.24607783882\n",
      "0.247171331462\n",
      "0.248037602118\n",
      "0.242646408865\n",
      "0.25935752313\n",
      "0.25394655507\n",
      "0.257735303183\n",
      "0.270941839077\n",
      "0.28502834139\n",
      "0.311319070773\n",
      "0.329574570269\n",
      "0.333420958714\n",
      "0.332432724769\n",
      "0.336892436031\n",
      "0.32426677329\n",
      "0.346883356178\n",
      "0.365538147446\n",
      "0.371098288923\n",
      "0.372111355416\n",
      "0.373727530672\n",
      "0.37522489363\n",
      "0.3766079394\n",
      "0.369842216382\n",
      "0.37303284805\n",
      "0.370683715619\n",
      "0.368388586349\n",
      "0.367697668687\n",
      "0.369018235198\n",
      "0.369213385797\n"
     ]
    }
   ],
   "source": [
    "x1 = group_evenly(calc_cl)[1]\n",
    "for x in x1:\n",
    "    print x"
   ]
  },
  {
   "cell_type": "code",
   "execution_count": 8,
   "metadata": {
    "collapsed": false
   },
   "outputs": [
    {
     "name": "stdout",
     "output_type": "stream",
     "text": [
      "-0.0770038306994\n",
      "-0.0701696516334\n",
      "0.0\n",
      "0.0\n",
      "-0.001848267962\n",
      "-0.0253242027328\n",
      "-0.0291781652025\n",
      "-0.0415840562204\n",
      "-0.0580783753137\n",
      "-0.0574125217266\n",
      "-0.0760445824985\n",
      "-0.0753241748903\n",
      "-0.0739761801099\n",
      "-0.0753933949684\n",
      "-0.0711156557727\n",
      "-0.0535149941778\n",
      "-0.0360600316635\n",
      "-0.032673394606\n",
      "0.00371375991094\n",
      "0.0116911053082\n",
      "0.0453253395318\n",
      "0.0285513240804\n",
      "0.042591001088\n",
      "0.0519718431405\n",
      "0.0973892425302\n",
      "0.115753157727\n",
      "0.112183048815\n",
      "0.116747141422\n",
      "0.116077313305\n",
      "0.159401353638\n",
      "0.166520429108\n",
      "0.154345090974\n",
      "0.151685031892\n",
      "0.160229422696\n",
      "0.162727401888\n",
      "0.16027892149\n",
      "0.16127978035\n",
      "0.161985131643\n",
      "0.168885974164\n",
      "0.165219962212\n",
      "0.149948650531\n",
      "0.146635492373\n",
      "0.148774173881\n",
      "0.135992693074\n",
      "0.133019128806\n",
      "0.141962113075\n",
      "0.191164936992\n",
      "0.188828656651\n",
      "0.175202460075\n",
      "0.174214787038\n",
      "0.172969606087\n",
      "0.171772636657\n",
      "0.17062292178\n",
      "0.167831994061\n",
      "0.172454120803\n",
      "0.176129900401\n",
      "0.17538702563\n",
      "0.173430801032\n",
      "0.17199230009\n",
      "0.168082019038\n",
      "0.157919836987\n",
      "0.153249606728\n",
      "0.151626223242\n",
      "0.140109950214\n",
      "0.228644534544\n",
      "0.230311716825\n",
      "0.230990125311\n",
      "0.232167186887\n",
      "0.23317002008\n",
      "0.235043155572\n",
      "0.234177923708\n",
      "0.234315659666\n",
      "0.248720177563\n",
      "0.264290436537\n",
      "0.260668801035\n",
      "0.240688161507\n",
      "0.242993529823\n",
      "0.24223466344\n",
      "0.284269976173\n",
      "0.302043761224\n",
      "0.305817547736\n",
      "0.30736176631\n",
      "0.303574560223\n",
      "0.303452911156\n",
      "0.3035526789\n",
      "0.305694644729\n",
      "0.308523340013\n",
      "0.306817378766\n",
      "0.306662520335\n",
      "0.307341705773\n",
      "0.308444162692\n",
      "0.305081440186\n",
      "0.306187649522\n",
      "0.307250969676\n",
      "0.308853579255\n",
      "0.310041203363\n",
      "0.313119622464\n",
      "0.317506120314\n"
     ]
    }
   ],
   "source": [
    "x2 = group_evenly(calc_all_beh)[1]\n",
    "for x in x2:\n",
    "    print x"
   ]
  },
  {
   "cell_type": "code",
   "execution_count": null,
   "metadata": {
    "collapsed": true
   },
   "outputs": [],
   "source": []
  }
 ],
 "metadata": {
  "kernelspec": {
   "display_name": "Python 2",
   "language": "python",
   "name": "python2"
  },
  "language_info": {
   "codemirror_mode": {
    "name": "ipython",
    "version": 2
   },
   "file_extension": ".py",
   "mimetype": "text/x-python",
   "name": "python",
   "nbconvert_exporter": "python",
   "pygments_lexer": "ipython2",
   "version": "2.7.12"
  }
 },
 "nbformat": 4,
 "nbformat_minor": 0
}
