{
 "cells": [
  {
   "cell_type": "code",
   "execution_count": 1,
   "metadata": {
    "collapsed": true
   },
   "outputs": [],
   "source": [
    "import sys\n",
    "sys.path.append(\"../../\")\n",
    "from taxcalc import *\n",
    "import pandas as pd\n",
    "import numpy as np\n",
    "import copy"
   ]
  },
  {
   "cell_type": "code",
   "execution_count": 2,
   "metadata": {
    "collapsed": true
   },
   "outputs": [],
   "source": [
    "CBO_growth = {2013: {'_factor_target': [0.022, \n",
    "                                        0.024,\n",
    "                                        0.024,\n",
    "                                        0.025,\n",
    "                                        0.026,\n",
    "                                        0.023,\n",
    "                                        0.018,\n",
    "                                        0.019,\n",
    "                                        0.021,\n",
    "                                        0.021,\n",
    "                                        0.021,\n",
    "                                        0.02,\n",
    "                                        0.02,\n",
    "                                        0.02]\n",
    "                     }\n",
    "              }\n",
    "behavior_traits = {2017: {'_BE_inc': [0.0], '_BE_sub': [0.4], '_BE_cg': [-3.487]}}"
   ]
  },
  {
   "cell_type": "markdown",
   "metadata": {},
   "source": [
    "# Create the policies and calculators"
   ]
  },
  {
   "cell_type": "code",
   "execution_count": 3,
   "metadata": {
    "collapsed": false
   },
   "outputs": [
    {
     "name": "stdout",
     "output_type": "stream",
     "text": [
      "You loaded data for 2009.\n",
      "Your data have been extrapolated to 2013.\n",
      "Done\n"
     ]
    }
   ],
   "source": [
    "policy_cl = Policy()\n",
    "behavior_cl = Behavior()\n",
    "records_cl = Records(\"../../puf.csv\")\n",
    "calc_cl = Calculator(policy_cl, records_cl, behavior_traits)\n",
    "calc_cl.growth.update_economic_growth(CBO_growth)\n",
    "for i in range(4):\n",
    "    calc_cl.increment_year()\n",
    "assert calc_cl.current_year == 2017\n",
    "calc_cl.calc_all()\n",
    "print \"Done\""
   ]
  },
  {
   "cell_type": "code",
   "execution_count": 4,
   "metadata": {
    "collapsed": false
   },
   "outputs": [
    {
     "name": "stdout",
     "output_type": "stream",
     "text": [
      "You loaded data for 2009.\n",
      "Your data have been extrapolated to 2013.\n",
      "Done\n"
     ]
    }
   ],
   "source": [
    "policy_amt = Policy()\n",
    "behavior_amt = Behavior()\n",
    "records_amt = Records(\"../../puf.csv\")\n",
    "reform_amt = {\n",
    "    2017: {\n",
    "        '_AMT_trt1': [0.0],\n",
    "        '_AMT_trt2': [0.0]\n",
    "    }\n",
    "}\n",
    "policy_amt.implement_reform(reform_amt)\n",
    "calc_amt = Calculator(policy_amt, records_amt, behavior_amt)\n",
    "calc_amt.growth.update_economic_growth(CBO_growth)\n",
    "for i in range(4):\n",
    "    calc_amt.increment_year()\n",
    "assert calc_amt.current_year == 2017\n",
    "calc_amt.calc_all()\n",
    "calc_amt.behavior.update_behavior(behavior_traits)\n",
    "calc_amt_beh = Behavior.response(calc_cl, calc_amt)\n",
    "print \"Done\""
   ]
  },
  {
   "cell_type": "code",
   "execution_count": 25,
   "metadata": {
    "collapsed": false
   },
   "outputs": [
    {
     "name": "stdout",
     "output_type": "stream",
     "text": [
      "You loaded data for 2009.\n",
      "Your data have been extrapolated to 2013.\n",
      "Done\n"
     ]
    }
   ],
   "source": [
    "policy_bush = Policy()\n",
    "behavior_bush = Behavior()\n",
    "records_bush = Records(\"../../puf.csv\")\n",
    "reform_bush = {\n",
    "    2017: {\n",
    "        '_II_rt7': [0.35],\n",
    "        '_CG_rt3': [0.15],\n",
    "        '_II_prt': [0.0],\n",
    "        '_ID_prt': [0.0]\n",
    "    }\n",
    "}\n",
    "policy_bush.implement_reform(reform_bush)\n",
    "calc_bush = Calculator(policy_bush, records_bush, behavior_bush)\n",
    "calc_bush.growth.update_economic_growth(CBO_growth)\n",
    "for i in range(4):\n",
    "    calc_bush.increment_year()\n",
    "assert calc_bush.current_year == 2017\n",
    "calc_bush.calc_all()\n",
    "calc_bush.behavior.update_behavior(behavior_traits)\n",
    "calc_bush_beh = Behavior.response(calc_cl, calc_bush)\n",
    "print \"Done\""
   ]
  },
  {
   "cell_type": "code",
   "execution_count": 4,
   "metadata": {
    "collapsed": false
   },
   "outputs": [
    {
     "name": "stdout",
     "output_type": "stream",
     "text": [
      "You loaded data for 2009.\n",
      "Your data have been extrapolated to 2013.\n",
      "Done\n"
     ]
    }
   ],
   "source": [
    "policy_all = Policy()\n",
    "behavior_all = Behavior()\n",
    "records_all = Records(\"../../puf.csv\")\n",
    "reform_all = {\n",
    "    2017: {\n",
    "        '_II_rt1': [0.12],\n",
    "        '_II_rt2': [0.12],\n",
    "        '_II_rt3': [0.25],\n",
    "        '_II_rt4': [0.25],\n",
    "        '_II_rt5': [0.33],\n",
    "        '_II_rt6': [0.33],\n",
    "        '_II_rt7': [0.33],\n",
    "        '_AMT_trt1': [0.0],\n",
    "        '_AMT_trt2': [0.0],\n",
    "        '_STD': [[12000, 24000, 12000, 18000, 24000, 12000, 1050]],\n",
    "        '_STD_Aged': [[0,0,0,0,0,0],\n",
    "                      [0,0,0,0,0,0],\n",
    "                      [0,0,0,0,0,0],\n",
    "                      [0,0,0,0,0,0]],\n",
    "        '_II_em': [0,0,0,0],\n",
    "        '_CTC_ps': [[75000, 150000, 75000, 75000, 75000, 75000]],\n",
    "        '_II_credit': [[500, 500, 500, 500, 500, 500]],\n",
    "        '_II_credit_ps': [[75000, 150000, 75000, 75000, 75000, 75000]],\n",
    "        '_II_credit_prt': [0.05],\n",
    "        '_ID_StateLocalTax_HC': [1.0],\n",
    "        '_ID_Medical_HC': [1.0],\n",
    "        '_ID_Casualty_HC': [1.0],\n",
    "        '_ID_Miscellaneous_HC': [1.0],\n",
    "        '_ID_RealEstate_HC': [1.0],\n",
    "        '_ALD_Investment_ec': [0.5],        \n",
    "        '_CG_as_II': [1],\n",
    "        '_NIIT_trt': [0.0],\n",
    "        '_PT_rt1': [0.12],\n",
    "        '_PT_rt2': [0.12],\n",
    "        '_PT_rt3': [0.25],\n",
    "        '_PT_rt4': [0.25],\n",
    "        '_PT_rt5': [0.25],\n",
    "        '_PT_rt6': [0.25],\n",
    "        '_PT_rt7': [0.25],\n",
    "    }\n",
    "}\n",
    "policy_all.implement_reform(reform_all)\n",
    "calc_all = Calculator(policy_all, records_all, behavior_all)\n",
    "calc_all.growth.update_economic_growth(CBO_growth)\n",
    "for i in range(4):\n",
    "    calc_all.increment_year()\n",
    "assert calc_all.current_year == 2017\n",
    "calc_all.calc_all()\n",
    "calc_all.behavior.update_behavior(behavior_traits)\n",
    "calc_all_beh = Behavior.response(calc_cl, calc_all)\n",
    "print \"Done\""
   ]
  },
  {
   "cell_type": "markdown",
   "metadata": {},
   "source": [
    "# Iterator and revenue impact"
   ]
  },
  {
   "cell_type": "code",
   "execution_count": 24,
   "metadata": {
    "collapsed": true
   },
   "outputs": [],
   "source": [
    "def static_path_change(calcx, calcy):\n",
    "    static_path = [0] * 10\n",
    "    calc1 = copy.deepcopy(calcx)\n",
    "    calc2 = copy.deepcopy(calcy)\n",
    "    for i in range(10):\n",
    "        calc1.calc_all()\n",
    "        calc2.calc_all()\n",
    "        calc1_combined = (calc1.records._combined * calc1.records.s006)\n",
    "        calc2_combined = (calc2.records._combined * calc2.records.s006)\n",
    "        static_path[i] = (calc2_combined - calc1_combined).sum() / 10**9\n",
    "        if calc1.current_year < 2026:\n",
    "            calc1.increment_year()\n",
    "            calc2.increment_year()\n",
    "    return static_path"
   ]
  },
  {
   "cell_type": "code",
   "execution_count": 8,
   "metadata": {
    "collapsed": false
   },
   "outputs": [
    {
     "name": "stdout",
     "output_type": "stream",
     "text": [
      "Path assuming no behavioral response\n",
      "-131.843584362\n",
      "-132.198655917\n",
      "-130.985800385\n",
      "-131.678278683\n",
      "-133.913164122\n",
      "-136.899484006\n",
      "-140.901096815\n",
      "-145.926118821\n",
      "-151.907940963\n",
      "-159.267877981\n"
     ]
    }
   ],
   "source": [
    "path1 = static_path_change(calc_cl, calc_all)\n",
    "print 'Path assuming no behavioral response'\n",
    "for x in path1:\n",
    "    print x"
   ]
  },
  {
   "cell_type": "code",
   "execution_count": 9,
   "metadata": {
    "collapsed": false
   },
   "outputs": [
    {
     "name": "stdout",
     "output_type": "stream",
     "text": [
      "Path with behavioral response\n",
      "-72.5617007519\n",
      "-71.0588341713\n",
      "-68.2000962959\n",
      "-66.2603337797\n",
      "-65.2341484462\n",
      "-64.6321439775\n",
      "-64.8104868233\n",
      "-65.9967283282\n",
      "-67.9847547448\n",
      "-71.1858239708\n"
     ]
    }
   ],
   "source": [
    "path2 = static_path_change(calc_cl, calc_all_beh)\n",
    "print 'Path with behavioral response'\n",
    "for x in path2:\n",
    "    print x"
   ]
  },
  {
   "cell_type": "code",
   "execution_count": 10,
   "metadata": {
    "collapsed": false
   },
   "outputs": [
    {
     "name": "stdout",
     "output_type": "stream",
     "text": [
      "Path assuming no behavioral response, compared against just AMT repeal\n",
      "-90.0502072348\n",
      "-87.6839315762\n",
      "-83.8213174612\n",
      "-81.5829360926\n",
      "-80.7560193346\n",
      "-80.3251794505\n",
      "-80.8665726192\n",
      "-82.4002213804\n",
      "-84.7642609467\n",
      "-88.3829007171\n"
     ]
    }
   ],
   "source": [
    "path3 = static_path_change(calc_amt, calc_all)\n",
    "print 'Path assuming no behavioral response, compared against just AMT repeal'\n",
    "for x in path3:\n",
    "    print x"
   ]
  },
  {
   "cell_type": "code",
   "execution_count": 12,
   "metadata": {
    "collapsed": false
   },
   "outputs": [
    {
     "name": "stdout",
     "output_type": "stream",
     "text": [
      "Path with behavioral response, compared against just AMT repeal\n",
      "-32.4253917904\n",
      "-28.2718366115\n",
      "-22.8144670774\n",
      "-17.9984388032\n",
      "-14.0537611256\n",
      "-10.1639263913\n",
      "-7.08105847759\n",
      "-5.04099095517\n",
      "-3.64693012625\n",
      "-3.38600160145\n"
     ]
    }
   ],
   "source": [
    "path4 = static_path_change(calc_amt_beh, calc_all_beh)\n",
    "print 'Path with behavioral response, compared against just AMT repeal'\n",
    "for x in path4:\n",
    "    print x"
   ]
  },
  {
   "cell_type": "code",
   "execution_count": 26,
   "metadata": {
    "collapsed": false
   },
   "outputs": [
    {
     "name": "stdout",
     "output_type": "stream",
     "text": [
      "Path assuming no behavioral response, compared against pre-2009 law\n",
      "-81.8368908136\n",
      "-80.3660078371\n",
      "-77.6635469778\n",
      "-76.379298125\n",
      "-76.2326639694\n",
      "-76.647068846\n",
      "-77.5915667533\n",
      "-79.3603892768\n",
      "-81.7206836572\n",
      "-85.0040415736\n"
     ]
    }
   ],
   "source": [
    "path5 = static_path_change(calc_bush, calc_all)\n",
    "print 'Path assuming no behavioral response, compared against pre-2009 law'\n",
    "for x in path5:\n",
    "    print x"
   ]
  },
  {
   "cell_type": "code",
   "execution_count": 27,
   "metadata": {
    "collapsed": false
   },
   "outputs": [
    {
     "name": "stdout",
     "output_type": "stream",
     "text": [
      "Path with behavioral response, compared against pre-2009 law\n",
      "-50.3514650272\n",
      "-48.3333378884\n",
      "-45.200405687\n",
      "-42.7046446834\n",
      "-40.7756342297\n",
      "-39.1578447839\n",
      "-37.9263631349\n",
      "-37.4881800966\n",
      "-37.5632347193\n",
      "-38.4155558429\n"
     ]
    }
   ],
   "source": [
    "path6 = static_path_change(calc_bush_beh, calc_all_beh)\n",
    "print 'Path with behavioral response, compared against pre-2009 law'\n",
    "for x in path6:\n",
    "    print x"
   ]
  },
  {
   "cell_type": "markdown",
   "metadata": {},
   "source": [
    "# Diagnostics"
   ]
  },
  {
   "cell_type": "code",
   "execution_count": 7,
   "metadata": {
    "collapsed": true
   },
   "outputs": [],
   "source": [
    "def taxableGain(calc):\n",
    "    tg = np.maximum(0., np.minimum(calc.records.c23650, calc.records.p23250)) + calc.records.e01100\n",
    "    return tg\n",
    "\n",
    "def num_ided(calc):\n",
    "    ided = calc.records.s006[(calc.records.c04470 > 0.) * (calc.records.c00100 > 0.)].sum()\n",
    "    return ided\n",
    "def num_std(calc):\n",
    "    std = calc.records.s006[(calc.records._standard > 0.) * (calc.records.c00100 > 0.)].sum()\n",
    "    return std\n",
    "def wavgMTR_wages(calc):\n",
    "    mtr = ((calc.mtr('e00200p')[1] * calc.records.e00200 * calc.records.s006).sum() / \n",
    "                   (calc.records.e00200 * calc.records.s006).sum())\n",
    "    return mtr\n",
    "def wavgMTR_cg(calc):\n",
    "    gain = taxableGain(calc)\n",
    "    mtr = ((calc.mtr('p23250')[1] * gain * calc.records.s006).sum() / \n",
    "                 (gain * calc.records.s006).sum())\n",
    "    return mtr\n",
    "def wavgMTR_int(calc):\n",
    "    mtr = ((calc.mtr('e00300')[1] * calc.records.c00300 * calc.records.s006).sum() / \n",
    "                   (calc.records.c00300 * calc.records.s006).sum())\n",
    "    return mtr\n",
    "def wavgMTR_div(calc):\n",
    "    mtr = ((calc.mtr('e00650')[1] * calc.records.c00650 * calc.records.s006).sum() / \n",
    "                   (calc.records.c00650 * calc.records.s006).sum())\n",
    "    return mtr\n",
    "def wavgMTR_stcg(calc):\n",
    "    gain = taxableGain(calc)\n",
    "    mtr = ((calc.mtr('p22250')[1] * gain * calc.records.s006).sum() / \n",
    "                 (gain * calc.records.s006).sum())\n",
    "    return mtr\n",
    "def wavgMTR_passthru(calc):\n",
    "    passthruInc = np.asarray(calc.records.c00900 + calc.records.c26270)\n",
    "    mtr_c = calc.mtr('e00900p')[1]\n",
    "    mtr_e = calc.mtr('e02000')[1]    \n",
    "    wtot = mtr_c * calc.records.c00900 + mtr_e * calc.records.c26270\n",
    "    mtr = (wtot * calc.records.s006).sum() / (passthruInc * calc.records.s006).sum()\n",
    "    return mtr\n",
    "def wavgMTR_sp(calc):\n",
    "    agi = np.where(calc.records.c00100 < 0., 0., calc.records.c00100)\n",
    "    mtr = ((calc.mtr('e00900p')[1] * calc.records.c00900 * calc.records.s006).sum() / \n",
    "           (calc.records.c00900 * calc.records.s006).sum())\n",
    "    return mtr\n",
    "def wavgMTR_schE(calc):\n",
    "    mtr = ((calc.mtr('e02000')[1] * calc.records.c26270 * calc.records.s006).sum() / \n",
    "                   (calc.records.c26270 * calc.records.s006).sum())\n",
    "    return mtr\n",
    "def no_inc_tax(calc):\n",
    "    count = calc.records.s006[calc.records._iitax < 0.0001].sum()\n",
    "    return count\n",
    "\n",
    "def lwrMTR_wages(calc1, calc2):\n",
    "    #calc1 is baseline, calc2 is reform\n",
    "    diff = calc2.records.s006[(calc2.mtr('e00200p')[2] < calc1.mtr('e00200p')[2])].sum()\n",
    "    return diff\n",
    "def lwrMTR_cg(calc1, calc2):\n",
    "    #calc1 is baseline, calc2 is reform\n",
    "    diff = calc2.records.s006[(calc2.mtr('p23250')[2] < calc1.mtr('p23250')[2])].sum()\n",
    "    return diff\n",
    "def hgrMTR_wages(calc1, calc2):\n",
    "    #calc1 is baseline, calc2 is reform\n",
    "    diff = calc2.records.s006[(calc2.mtr('e00200p')[2] > calc1.mtr('e00200p')[2])].sum()\n",
    "    return diff\n",
    "def hgrMTR_cg(calc1, calc2):\n",
    "    #calc1 is baseline, calc2 is reform\n",
    "    diff = calc2.records.s006[(calc2.mtr('p23250')[2] > calc1.mtr('p23250')[2])].sum()\n",
    "    return diff\n",
    "def num_taxcut(calc1, calc2):\n",
    "    #calc1 is baseline, calc2 is reform\n",
    "    diff = calc2.records.s006[calc1.records._combined > calc2.records._combined + 0.0001].sum()\n",
    "    return diff\n",
    "\n",
    "def diagnose1(calc):\n",
    "    print str(round(num_ided(calc) / 1000) / 1000.0) + \" million taxpayers using itemized deductions\"\n",
    "    print str(round(num_std(calc) / 1000) / 1000.0) + \" million taxpayers using the standard deduction\"\n",
    "    print \"Average MTR on wage income: \" + str(round(wavgMTR_wages(calc) * 10000) / 10000.0)\n",
    "    print \"Average MTR on long-term gains: \" + str(round(wavgMTR_cg(calc) * 10000) / 10000.0)\n",
    "    print \"Average MTR on short-term gains: \" + str(round(wavgMTR_stcg(calc) * 10000) / 10000.0)\n",
    "    print \"Average MTR on interest: \" + str(round(wavgMTR_int(calc) * 10000) / 10000.0)\n",
    "    print \"Average MTR on qualified dividends: \" + str(round(wavgMTR_div(calc) * 10000) / 10000.0)\n",
    "    #print \"Average MTR on pass-through income: \" + str(round(wavgMTR_passthru(calc) * 10000) / 10000.0)\n",
    "    #print \"Average MTR on sole proprietorships: \" + str(round(wavgMTR_sp(calc) * 10000) / 10000.0)\n",
    "    #print \"Average MTR on partnership/S-corp: \" + str(round(wavgMTR_schE(calc) * 10000) / 10000.0)\n",
    "    print \"Number paying no income tax: \" + str(round(no_inc_tax(calc) / 1000) / 1000.0) + \" million\"\n",
    "    \n",
    "def diagnose2(calc1, calc2):\n",
    "    #calc1 is baseline, calc2 is reform\n",
    "    print \"Number with lower EMTR on wages: \" + str(round(lwrMTR_wages(calc1, calc2) / 1000) / 1000.0) + \" million\"\n",
    "    print \"Number with higher EMTR on wages: \" + str(round(hgrMTR_wages(calc1, calc2) / 1000) / 1000.0) + \" million\"\n",
    "    print \"Number with lower EMTR on gains: \" + str(round(lwrMTR_cg(calc1, calc2) / 1000) / 1000.0) + \" million\"\n",
    "    print \"Number with higher EMTR on gains: \" + str(round(hgrMTR_cg(calc1, calc2) / 1000) / 1000.0) + \" million\"\n",
    "    print \"Number receiving a tax cut: \" + str(round(num_taxcut(calc1, calc2) / 1000) / 1000.0) + \" million\""
   ]
  },
  {
   "cell_type": "code",
   "execution_count": 8,
   "metadata": {
    "collapsed": false,
    "scrolled": false
   },
   "outputs": [
    {
     "name": "stdout",
     "output_type": "stream",
     "text": [
      "45.419 million taxpayers using itemized deductions\n",
      "113.603 million taxpayers using the standard deduction\n",
      "Average MTR on wage income: 0.2365\n",
      "Average MTR on long-term gains: 0.222\n",
      "Average MTR on short-term gains: 0.3136\n",
      "Average MTR on interest: 0.2378\n",
      "Average MTR on qualified dividends: 0.1756\n",
      "Number paying no income tax: 66.972 million\n"
     ]
    }
   ],
   "source": [
    "diagnose1(calc_cl)"
   ]
  },
  {
   "cell_type": "code",
   "execution_count": 9,
   "metadata": {
    "collapsed": false
   },
   "outputs": [
    {
     "name": "stdout",
     "output_type": "stream",
     "text": [
      "8.553 million taxpayers using itemized deductions\n",
      "150.383 million taxpayers using the standard deduction\n",
      "Average MTR on wage income: 0.2221\n",
      "Average MTR on long-term gains: 0.1499\n",
      "Average MTR on short-term gains: 0.1499\n",
      "Average MTR on interest: 0.097\n",
      "Average MTR on qualified dividends: 0.124\n",
      "Number paying no income tax: 61.276 million\n"
     ]
    }
   ],
   "source": [
    "diagnose1(calc_all)"
   ]
  },
  {
   "cell_type": "code",
   "execution_count": 11,
   "metadata": {
    "collapsed": false
   },
   "outputs": [
    {
     "name": "stdout",
     "output_type": "stream",
     "text": [
      "8.413 million taxpayers using itemized deductions\n",
      "150.524 million taxpayers using the standard deduction\n",
      "Average MTR on wage income: 0.2236\n",
      "Average MTR on long-term gains: 0.1555\n",
      "Average MTR on short-term gains: 0.1555\n",
      "Average MTR on interest: 0.115\n",
      "Average MTR on qualified dividends: 0.125\n",
      "Number paying no income tax: 60.942 million\n"
     ]
    }
   ],
   "source": [
    "diagnose1(calc_all_beh)"
   ]
  },
  {
   "cell_type": "code",
   "execution_count": 10,
   "metadata": {
    "collapsed": false
   },
   "outputs": [
    {
     "name": "stdout",
     "output_type": "stream",
     "text": [
      "Number with lower EMTR on wages: 70.159 million\n",
      "Number with higher EMTR on wages: 37.489 million\n",
      "Number with lower EMTR on gains: 51.989 million\n",
      "Number with higher EMTR on gains: 56.083 million\n",
      "Number receiving a tax cut: 68.556 million\n"
     ]
    }
   ],
   "source": [
    "diagnose2(calc_cl, calc_all)"
   ]
  },
  {
   "cell_type": "code",
   "execution_count": 12,
   "metadata": {
    "collapsed": false
   },
   "outputs": [
    {
     "name": "stdout",
     "output_type": "stream",
     "text": [
      "Number with lower EMTR on wages: 68.979 million\n",
      "Number with higher EMTR on wages: 35.478 million\n",
      "Number with lower EMTR on gains: 52.259 million\n",
      "Number with higher EMTR on gains: 55.997 million\n",
      "Number receiving a tax cut: 64.834 million\n"
     ]
    }
   ],
   "source": [
    "diagnose2(calc_cl, calc_all_beh)"
   ]
  },
  {
   "cell_type": "markdown",
   "metadata": {},
   "source": [
    "# Average tax rates"
   ]
  },
  {
   "cell_type": "code",
   "execution_count": 43,
   "metadata": {
    "collapsed": true
   },
   "outputs": [],
   "source": [
    "def getAGI(calc1):\n",
    "    return np.asarray(np.where(calc1.records.c00100 < 0, 0., calc1.records.c00100))\n",
    "\n",
    "def getAvgRate(calc1):\n",
    "    agi1 = getAGI(calc1) + 0.001\n",
    "    avgRate1 = np.asarray(calc1.records._combined) / agi1\n",
    "    avgRate2 = np.where(avgRate1 > 1, 1.0, avgRate1)\n",
    "    avgRate3 = np.where(avgRate2 < 0, 0., avgRate2)\n",
    "    return avgRate3\n",
    "\n",
    "def group_avgRate(calc, bins):\n",
    "    agi = getAGI(calc)\n",
    "    rate = getAvgRate(calc)\n",
    "    wgt = calc.records.s006\n",
    "    assert bins >= 1 and type(bins)==int\n",
    "    size = int(219814 / bins)\n",
    "    \n",
    "    all_together = zip(agi, rate, wgt)\n",
    "    all_together.sort()\n",
    "    all_apart = zip(*all_together)\n",
    "    agi_sorted = np.asarray(all_apart[0])\n",
    "    rate_sorted = np.asarray(all_apart[1])\n",
    "    wgt_sorted = np.asarray(all_apart[2])\n",
    "    \n",
    "    avgList = [0] * bins\n",
    "    wgtList = [0] * bins\n",
    "    \n",
    "    for i in range(bins):\n",
    "        #avgList[i] = (rate_sorted[(i*size):((i+1)*size)] * wgt_sorted[(i*size):((i+1)*size)]).sum()\n",
    "        #wgtList[i] =  wgt_sorted[(i*size):((i+1)*size)].sum()\n",
    "        #avgList[i] = np.percentile(rate_sorted[(i*size):((i+1)*size)], 75)\n",
    "        avgList[i] = np.std(rate_sorted[(i*size):((i+1)*size)])\n",
    "        wgtList[i] = 1\n",
    "    \n",
    "    avgFinal = np.asarray(avgList) / np.asarray(wgtList)\n",
    "    return avgFinal\n",
    "\n",
    "def group_avgRate_v2(calc, bins):\n",
    "    agi = getAGI(calc)\n",
    "    tax = calc.records._combined\n",
    "    wgt = calc.records.s006\n",
    "    ided_ind = np.where(calc_cl.records.s006 != 99999999999, True, False)\n",
    "    #ided_ind = (calc_xx.records.c04470 > calc_xx.records._standard)\n",
    "    assert bins >= 1 and type(bins)==int\n",
    "    size = int(len(tax) / bins)\n",
    "    \n",
    "    all_together = zip(agi, tax, wgt, ided_ind)\n",
    "    all_together.sort()\n",
    "    all_apart = zip(*all_together)\n",
    "    agi_sorted = np.asarray(all_apart[0])\n",
    "    tax_sorted = np.asarray(all_apart[1])\n",
    "    wgt_sorted = np.asarray(all_apart[2])\n",
    "    ided_ind_sorted = np.asarray(all_apart[3])\n",
    "    \n",
    "    taxList = [0] * bins\n",
    "    agiList = [0] * bins\n",
    "    \n",
    "    for i in range(bins):\n",
    "        taxList[i] = np.where(ided_ind_sorted[(i*size):((i+1)*size)], tax_sorted[(i*size):((i+1)*size)] * wgt_sorted[(i*size):((i+1)*size)], 0).sum()\n",
    "        agiList[i] = np.where(ided_ind_sorted[(i*size):((i+1)*size)], agi_sorted[(i*size):((i+1)*size)] * wgt_sorted[(i*size):((i+1)*size)], 0).sum()\n",
    "        #taxList[i] = np.where(ided_ind_sorted[(i*size):((i+1)*size)], wgt_sorted[(i*size):((i+1)*size)], 0).sum()\n",
    "        #agiList[i] = 1\n",
    "        \n",
    "    avgFinal = np.asarray(taxList) / np.asarray(agiList)\n",
    "    return avgFinal"
   ]
  },
  {
   "cell_type": "code",
   "execution_count": 44,
   "metadata": {
    "collapsed": false
   },
   "outputs": [
    {
     "name": "stdout",
     "output_type": "stream",
     "text": [
      "0.276974353372\n",
      "0.108690130832\n",
      "0.0874219958091\n",
      "0.0902778140939\n",
      "0.0833352823784\n",
      "\n",
      "\n",
      "0.300183922959\n",
      "0.104496801548\n",
      "0.076300185059\n",
      "0.0745371420013\n",
      "0.0614508617176\n",
      "\n",
      "\n",
      "nan\n",
      "nan\n",
      "nan\n",
      "nan\n",
      "nan\n"
     ]
    }
   ],
   "source": [
    "xx1 = group_avgRate(calc_cl, 5)\n",
    "for x in xx1:\n",
    "    print x\n",
    "print '\\n'\n",
    "yy1 = group_avgRate(calc_all_beh, 5)\n",
    "for y in yy1:\n",
    "    print y\n",
    "print '\\n'\n",
    "ww1 = group_avgRate(calc_bush_beh, 5)\n",
    "for z in ww1:\n",
    "    print z"
   ]
  },
  {
   "cell_type": "code",
   "execution_count": 29,
   "metadata": {
    "collapsed": false
   },
   "outputs": [
    {
     "name": "stdout",
     "output_type": "stream",
     "text": [
      "-0.0561916225469\n",
      "-0.0144714389652\n",
      "0.0800931549588\n",
      "0.130250910131\n",
      "0.262877782476\n",
      "\n",
      "\n",
      "-0.0513046340257\n",
      "-0.0153601772687\n",
      "0.078014847844\n",
      "0.134463763565\n",
      "0.247891668729\n",
      "\n",
      "\n",
      "nan\n",
      "nan\n",
      "0.00601237292611\n",
      "nan\n",
      "nan\n"
     ]
    }
   ],
   "source": [
    "xx2 = group_avgRate_v2(calc_cl, 5)\n",
    "for x in xx2:\n",
    "    print x\n",
    "print '\\n'\n",
    "yy2 = group_avgRate_v2(calc_all_beh, 5)\n",
    "for y in yy2:\n",
    "    print y\n",
    "print '\\n'\n",
    "zz2 = group_avgRate_v2(calc_bush_beh, 5)\n",
    "for z in zz2:\n",
    "    print z"
   ]
  },
  {
   "cell_type": "code",
   "execution_count": null,
   "metadata": {
    "collapsed": true
   },
   "outputs": [],
   "source": []
  },
  {
   "cell_type": "code",
   "execution_count": null,
   "metadata": {
    "collapsed": true
   },
   "outputs": [],
   "source": []
  },
  {
   "cell_type": "code",
   "execution_count": null,
   "metadata": {
    "collapsed": true
   },
   "outputs": [],
   "source": []
  }
 ],
 "metadata": {
  "kernelspec": {
   "display_name": "Python 2",
   "language": "python",
   "name": "python2"
  },
  "language_info": {
   "codemirror_mode": {
    "name": "ipython",
    "version": 2
   },
   "file_extension": ".py",
   "mimetype": "text/x-python",
   "name": "python",
   "nbconvert_exporter": "python",
   "pygments_lexer": "ipython2",
   "version": "2.7.12"
  }
 },
 "nbformat": 4,
 "nbformat_minor": 0
}
