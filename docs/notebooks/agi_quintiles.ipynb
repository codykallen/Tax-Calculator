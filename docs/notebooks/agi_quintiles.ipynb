{
 "cells": [
  {
   "cell_type": "code",
   "execution_count": 3,
   "metadata": {
    "collapsed": true
   },
   "outputs": [],
   "source": [
    "import sys\n",
    "sys.path.append(\"../../\")\n",
    "from taxcalc import *\n",
    "import pandas as pd\n",
    "import numpy as np\n",
    "import copy"
   ]
  },
  {
   "cell_type": "code",
   "execution_count": 4,
   "metadata": {
    "collapsed": false
   },
   "outputs": [
    {
     "name": "stdout",
     "output_type": "stream",
     "text": [
      "You loaded data for 2009.\n",
      "Your data include the following unused variables that will be ignored:\n",
      "  filer\n",
      "Your data have been extrapolated to 2013.\n",
      "Done\n"
     ]
    }
   ],
   "source": [
    "policy_cl = Policy()\n",
    "behavior_cl = Behavior()\n",
    "records_cl = Records(\"../../puf.csv\")\n",
    "calc_cl = Calculator(policy_cl, records_cl, behavior_cl)\n",
    "#for i in range(1):\n",
    "#    calc_cl.increment_year()\n",
    "#assert calc_cl.current_year == 2017\n",
    "calc_cl.calc_all()\n",
    "print \"Done\""
   ]
  },
  {
   "cell_type": "code",
   "execution_count": 5,
   "metadata": {
    "collapsed": true
   },
   "outputs": [],
   "source": [
    "def extract_percentile_value(measure1, wgt, pctl):\n",
    "    # Extracts the observation at the low end of the given percentile\n",
    "    # Percentile must be in decimal form\n",
    "    assert pctl >=0 and pctl <=1\n",
    "    total = sum(wgt)\n",
    "    paired = zip(measure1, wgt)\n",
    "    paired.sort()\n",
    "    paired_sorted = zip(*paired)\n",
    "    measure1_s = paired_sorted[0]\n",
    "    wgt_s = paired_sorted[1]\n",
    "    wgt_sum = 0\n",
    "    i = 0\n",
    "    while wgt_sum < total * pctl:\n",
    "        wgt_sum += wgt_s[i]\n",
    "        i += 1\n",
    "    pctl_entry = measure1_s[i - 1]\n",
    "    return pctl_entry\n"
   ]
  },
  {
   "cell_type": "code",
   "execution_count": 6,
   "metadata": {
    "collapsed": false
   },
   "outputs": [
    {
     "name": "stdout",
     "output_type": "stream",
     "text": [
      "Median income for 2013: 27249.7709508\n"
     ]
    }
   ],
   "source": [
    "print 'Median income for 2013: ' + str(extract_percentile_value(calc_cl.records.c00100, calc_cl.records.s006, 0.5))"
   ]
  },
  {
   "cell_type": "code",
   "execution_count": 7,
   "metadata": {
    "collapsed": false
   },
   "outputs": [
    {
     "name": "stdout",
     "output_type": "stream",
     "text": [
      "Median income for 2014: 28021.8127634\n"
     ]
    }
   ],
   "source": [
    "calc_cl_2014 = copy.deepcopy(calc_cl)\n",
    "calc_cl_2014.increment_year()\n",
    "calc_cl_2014.calc_all()\n",
    "print 'Median income for 2014: ' + str(extract_percentile_value(calc_cl_2014.records.c00100, calc_cl_2014.records.s006, 0.5))"
   ]
  },
  {
   "cell_type": "code",
   "execution_count": 8,
   "metadata": {
    "collapsed": false
   },
   "outputs": [
    {
     "name": "stdout",
     "output_type": "stream",
     "text": [
      "Median income for 2015: 28877.4729853\n"
     ]
    }
   ],
   "source": [
    "calc_cl_2015 = copy.deepcopy(calc_cl_2014)\n",
    "calc_cl_2015.increment_year()\n",
    "calc_cl_2015.calc_all()\n",
    "print 'Median income for 2015: ' + str(extract_percentile_value(calc_cl_2015.records.c00100, calc_cl_2015.records.s006, 0.5))"
   ]
  },
  {
   "cell_type": "code",
   "execution_count": 9,
   "metadata": {
    "collapsed": false
   },
   "outputs": [
    {
     "name": "stdout",
     "output_type": "stream",
     "text": [
      "Median income for 2016: 29798.8871337\n"
     ]
    }
   ],
   "source": [
    "calc_cl_2016 = copy.deepcopy(calc_cl_2015)\n",
    "calc_cl_2016.increment_year()\n",
    "calc_cl_2016.calc_all()\n",
    "print 'Median income for 2016: ' + str(extract_percentile_value(calc_cl_2016.records.c00100, calc_cl_2016.records.s006, 0.5))"
   ]
  },
  {
   "cell_type": "code",
   "execution_count": 10,
   "metadata": {
    "collapsed": false
   },
   "outputs": [
    {
     "name": "stdout",
     "output_type": "stream",
     "text": [
      "Income at the 20th percentile: 5894.092008\n",
      "Income at the 40th percentile: 18536.7079408\n",
      "Income at the 60th percentile: 38659.2278936\n",
      "Income at the 80th percentile: 77975.1050716\n"
     ]
    }
   ],
   "source": [
    "print 'Income at the 20th percentile: ' + str(extract_percentile_value(calc_cl.records.c00100, calc_cl.records.s006, 0.2))\n",
    "print 'Income at the 40th percentile: ' + str(extract_percentile_value(calc_cl.records.c00100, calc_cl.records.s006, 0.4))\n",
    "print 'Income at the 60th percentile: ' + str(extract_percentile_value(calc_cl.records.c00100, calc_cl.records.s006, 0.6))\n",
    "print 'Income at the 80th percentile: ' + str(extract_percentile_value(calc_cl.records.c00100, calc_cl.records.s006, 0.8))"
   ]
  },
  {
   "cell_type": "code",
   "execution_count": null,
   "metadata": {
    "collapsed": true
   },
   "outputs": [],
   "source": []
  }
 ],
 "metadata": {
  "kernelspec": {
   "display_name": "Python 2",
   "language": "python",
   "name": "python2"
  },
  "language_info": {
   "codemirror_mode": {
    "name": "ipython",
    "version": 2
   },
   "file_extension": ".py",
   "mimetype": "text/x-python",
   "name": "python",
   "nbconvert_exporter": "python",
   "pygments_lexer": "ipython2",
   "version": "2.7.12"
  }
 },
 "nbformat": 4,
 "nbformat_minor": 0
}
