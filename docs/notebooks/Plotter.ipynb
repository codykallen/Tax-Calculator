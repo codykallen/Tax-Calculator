{
 "cells": [
  {
   "cell_type": "code",
   "execution_count": 1,
   "metadata": {
    "collapsed": true
   },
   "outputs": [],
   "source": [
    "import sys\n",
    "sys.path.append(\"../../\")\n",
    "from taxcalc import *\n",
    "import pandas as pd\n",
    "import numpy as np\n",
    "import copy\n",
    "import matplotlib.pyplot as plt \n",
    "from matplotlib.transforms import BlendedGenericTransform\n",
    "%matplotlib inline"
   ]
  },
  {
   "cell_type": "code",
   "execution_count": 2,
   "metadata": {
    "collapsed": true
   },
   "outputs": [],
   "source": [
    "CBO_growth = {2013: {'_factor_target': [0.022, \n",
    "                                        0.024,\n",
    "                                        0.024,\n",
    "                                        0.025,\n",
    "                                        0.026,\n",
    "                                        0.023,\n",
    "                                        0.018,\n",
    "                                        0.019,\n",
    "                                        0.021,\n",
    "                                        0.021,\n",
    "                                        0.021,\n",
    "                                        0.02,\n",
    "                                        0.02,\n",
    "                                        0.02]\n",
    "                     }\n",
    "              }"
   ]
  },
  {
   "cell_type": "code",
   "execution_count": 3,
   "metadata": {
    "collapsed": false
   },
   "outputs": [
    {
     "name": "stdout",
     "output_type": "stream",
     "text": [
      "You loaded data for 2009.\n",
      "Your data have been extrapolated to 2013.\n",
      "Done\n"
     ]
    }
   ],
   "source": [
    "# Current law baseline\n",
    "policy_cl = Policy()\n",
    "behavior_cl = Behavior()\n",
    "records_cl = Records(\"../../specialpuf.csv\")\n",
    "calc_cl = Calculator(policy_cl, records_cl, behavior_cl)\n",
    "calc_cl.growth.update_economic_growth(CBO_growth)\n",
    "for i in range(4):\n",
    "    calc_cl.increment_year()\n",
    "assert calc_cl.current_year == 2017\n",
    "calc_cl.calc_all()\n",
    "print \"Done\""
   ]
  },
  {
   "cell_type": "code",
   "execution_count": 4,
   "metadata": {
    "collapsed": false
   },
   "outputs": [
    {
     "name": "stdout",
     "output_type": "stream",
     "text": [
      "You loaded data for 2009.\n",
      "Your data have been extrapolated to 2013.\n",
      "Done\n"
     ]
    }
   ],
   "source": [
    "policy_all = Policy()\n",
    "behavior_all = Behavior()\n",
    "records_all = Records(\"../../specialpuf.csv\")\n",
    "reform_all = {\n",
    "    2017: {\n",
    "        '_II_rt1': [0.12],\n",
    "        '_II_rt2': [0.12],\n",
    "        '_II_rt3': [0.25],\n",
    "        '_II_rt4': [0.25],\n",
    "        '_II_rt5': [0.33],\n",
    "        '_II_rt6': [0.33],\n",
    "        '_II_rt7': [0.33],\n",
    "        '_AMT_trt1': [0.0],\n",
    "        '_AMT_trt2': [0.0],\n",
    "        '_STD': [[12000, 24000, 12000, 18000, 24000, 12000, 1050]],\n",
    "        '_STD_Aged': [[0,0,0,0,0,0],\n",
    "                      [0,0,0,0,0,0],\n",
    "                      [0,0,0,0,0,0],\n",
    "                      [0,0,0,0,0,0]],\n",
    "        '_II_em': [0,0,0,0],\n",
    "        '_CTC_ps': [[75000, 150000, 75000, 75000, 75000, 75000]],\n",
    "        '_II_credit': [[500, 500, 500, 500, 500, 500]],\n",
    "        '_II_credit_ps': [[75000, 150000, 75000, 75000, 75000, 75000]],\n",
    "        '_II_credit_prt': [0.05],\n",
    "        '_ID_StateLocalTax_HC': [1.0],\n",
    "        '_ID_Medical_HC': [1.0],\n",
    "        '_ID_Casualty_HC': [1.0],\n",
    "        '_ID_Miscellaneous_HC': [1.0],\n",
    "        '_ID_RealEstate_HC': [1.0],\n",
    "        '_ALD_Investment_ec': [0.5],        \n",
    "        '_CG_as_II': [1],\n",
    "        '_NIIT_trt': [0.0],\n",
    "        '_PT_rt1': [0.12],\n",
    "        '_PT_rt2': [0.12],\n",
    "        '_PT_rt3': [0.25],\n",
    "        '_PT_rt4': [0.25],\n",
    "        '_PT_rt5': [0.25],\n",
    "        '_PT_rt6': [0.25],\n",
    "        '_PT_rt7': [0.25],\n",
    "    }\n",
    "}\n",
    "policy_all.implement_reform(reform_all)\n",
    "calc_all = Calculator(policy_all, records_all, behavior_all)\n",
    "calc_all.growth.update_economic_growth(CBO_growth)\n",
    "for i in range(4):\n",
    "    calc_all.increment_year()\n",
    "assert calc_all.current_year == 2017\n",
    "calc_all.calc_all()\n",
    "print \"Done\""
   ]
  },
  {
   "cell_type": "code",
   "execution_count": 27,
   "metadata": {
    "collapsed": true
   },
   "outputs": [],
   "source": [
    "def getMTR(calc, incr, bins):\n",
    "    calc1 = copy.deepcopy(calc)\n",
    "    mtrList = [0] * (bins + 1)\n",
    "    for i in range(bins + 1):\n",
    "        calc1.records.e00200p[0] = i * incr + 1\n",
    "        calc1.records.e00200[0] = i * incr + 1\n",
    "        calc1.calc_all()\n",
    "        mtrList[i] = calc1.mtr('e00200p')[1][0]\n",
    "    return mtrList\n",
    "\n",
    "mtr_base = getMTR(calc_cl, 1000, 300)\n",
    "mtr_reform = getMTR(calc_all, 1000, 300)"
   ]
  },
  {
   "cell_type": "code",
   "execution_count": 28,
   "metadata": {
    "collapsed": false
   },
   "outputs": [
    {
     "data": {
      "text/plain": [
       "<matplotlib.legend.Legend at 0xda85b00>"
      ]
     },
     "execution_count": 28,
     "metadata": {},
     "output_type": "execute_result"
    },
    {
     "data": {
      "image/png": "[encoded data removed]",
      "text/plain": [
       "<matplotlib.figure.Figure at 0xd71f160>"
      ]
     },
     "metadata": {},
     "output_type": "display_data"
    }
   ],
   "source": [
    "plt.plot(range(0, 301, 1), mtr_base, label='Current law')\n",
    "plt.plot(range(0, 301, 1), mtr_reform, label='Reform')\n",
    "#plt.title('Marginal tax rate on wage income' + '\\n' + 'Married with two kids')\n",
    "plt.title('Marginal tax rate on wage income' + '\\n' + 'Single with one kid')\n",
    "#plt.title('Marginal tax rate on wage income' + '\\n' + 'Single with no kids')\n",
    "plt.xlabel('Wage and salary income ($thousands)')\n",
    "plt.legend(['Current law', 'Reform'], loc='lower right')"
   ]
  },
  {
   "cell_type": "code",
   "execution_count": 25,
   "metadata": {
    "collapsed": false
   },
   "outputs": [],
   "source": [
    "calc_cl.records.MARS[0] = 1\n",
    "calc_all.records.MARS[0] = 1\n",
    "calc_cl.records.n24[0] = 0\n",
    "calc_all.records.n24[0] = 0"
   ]
  },
  {
   "cell_type": "code",
   "execution_count": null,
   "metadata": {
    "collapsed": true
   },
   "outputs": [],
   "source": []
  }
 ],
 "metadata": {
  "kernelspec": {
   "display_name": "Python 2",
   "language": "python",
   "name": "python2"
  },
  "language_info": {
   "codemirror_mode": {
    "name": "ipython",
    "version": 2
   },
   "file_extension": ".py",
   "mimetype": "text/x-python",
   "name": "python",
   "nbconvert_exporter": "python",
   "pygments_lexer": "ipython2",
   "version": "2.7.12"
  }
 },
 "nbformat": 4,
 "nbformat_minor": 0
}
