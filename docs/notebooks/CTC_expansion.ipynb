{
 "cells": [
  {
   "cell_type": "code",
   "execution_count": null,
   "metadata": {
    "collapsed": false
   },
   "outputs": [],
   "source": [
    "import sys\n",
    "sys.path.append(\"../../\")\n",
    "from taxcalc import *\n",
    "import pandas as pd\n",
    "import numpy as np\n",
    "import copy\n",
    "import matplotlib.pyplot as plt \n",
    "from matplotlib.transforms import BlendedGenericTransform\n",
    "%matplotlib inline"
   ]
  },
  {
   "cell_type": "code",
   "execution_count": 8,
   "metadata": {
    "collapsed": true
   },
   "outputs": [],
   "source": [
    "CBO_growth = {2013: {'_factor_target': [0.022, \n",
    "                                        0.024,\n",
    "                                        0.024,\n",
    "                                        0.025,\n",
    "                                        0.026,\n",
    "                                        0.023,\n",
    "                                        0.018,\n",
    "                                        0.019,\n",
    "                                        0.021,\n",
    "                                        0.021,\n",
    "                                        0.021,\n",
    "                                        0.02,\n",
    "                                        0.02,\n",
    "                                        0.02]\n",
    "                     }\n",
    "              }"
   ]
  },
  {
   "cell_type": "code",
   "execution_count": 9,
   "metadata": {
    "collapsed": false
   },
   "outputs": [
    {
     "name": "stdout",
     "output_type": "stream",
     "text": [
      "You loaded data for 2009.\n",
      "Your data have been extrapolated to 2013.\n",
      "Done\n"
     ]
    }
   ],
   "source": [
    "# Current law baseline\n",
    "policy_cl = Policy()\n",
    "behavior_cl = Behavior()\n",
    "records_cl = Records(\"../../puf.csv\")\n",
    "calc_cl = Calculator(policy_cl, records_cl, behavior_cl)\n",
    "calc_cl.growth.update_economic_growth(CBO_growth)\n",
    "for i in range(4):\n",
    "    calc_cl.increment_year()\n",
    "assert calc_cl.current_year == 2017\n",
    "calc_cl.calc_all()\n",
    "print \"Done\""
   ]
  },
  {
   "cell_type": "code",
   "execution_count": 10,
   "metadata": {
    "collapsed": false
   },
   "outputs": [
    {
     "name": "stdout",
     "output_type": "stream",
     "text": [
      "You loaded data for 2009.\n",
      "Your data have been extrapolated to 2013.\n",
      "Done\n"
     ]
    }
   ],
   "source": [
    "# CTC expansion\n",
    "policy_t = Policy()\n",
    "behavior_t = Behavior()\n",
    "records_t = Records(\"../../puf.csv\")\n",
    "reform_t = {\n",
    "    2017: {\n",
    "        '_ACTC_Income_thd': [0],\n",
    "        '_ACTC_rt': [0.45],\n",
    "        '_II_credit': [[1000, 1000, 1000, 1000, 1000, 1000]],\n",
    "        '_II_credit_ps': [[75000, 110000, 55000, 75000, 75000, 55000]],\n",
    "        '_II_credit_prt': [0.05]\n",
    "    }\n",
    "}\n",
    "policy_t.implement_reform(reform_t)\n",
    "calc_t = Calculator(policy_t, records_t, behavior_t)\n",
    "calc_t.growth.update_economic_growth(CBO_growth)\n",
    "for i in range(4):\n",
    "    calc_t.increment_year()\n",
    "assert calc_t.current_year == 2017\n",
    "calc_t.calc_all()\n",
    "print \"Done\""
   ]
  },
  {
   "cell_type": "code",
   "execution_count": null,
   "metadata": {
    "collapsed": false
   },
   "outputs": [],
   "source": [
    "policy_repeal = Policy()\n",
    "behavior_repeal = Behavior()\n",
    "records_repeal = Records(\"../../puf.csv\")\n",
    "reform_repeal = {\n",
    "    2017: {\n",
    "        '_CTC_c': [0]\n",
    "    }\n",
    "}\n",
    "policy_repeal.implement_reform(reform_repeal)\n",
    "calc_repeal = Calculator(policy_repeal, records_repeal, behavior_repeal)\n",
    "calc_repeal.growth.update_economic_growth(CBO_growth)\n",
    "for i in range(4):\n",
    "    calc_repeal.increment_year()\n",
    "assert calc_repeal.current_year == 2017\n",
    "calc_repeal.calc_all()\n",
    "print \"Done\""
   ]
  },
  {
   "cell_type": "code",
   "execution_count": 11,
   "metadata": {
    "collapsed": false
   },
   "outputs": [
    {
     "name": "stdout",
     "output_type": "stream",
     "text": [
      "10804531758.3\n",
      "10.8045317583\n"
     ]
    }
   ],
   "source": [
    "combined_cl = calc_cl.records._combined * calc_cl.records.s006\n",
    "combined_t = calc_t.records._combined * calc_t.records.s006\n",
    "\n",
    "diff = (combined_t - combined_cl).sum()\n",
    "print diff\n",
    "print diff / 10**9"
   ]
  },
  {
   "cell_type": "code",
   "execution_count": 12,
   "metadata": {
    "collapsed": true
   },
   "outputs": [],
   "source": [
    "def ten_years(calc_base, calc_ref):\n",
    "    calc1 = copy.deepcopy(calc_base)\n",
    "    calc2 = copy.deepcopy(calc_ref)\n",
    "    diff = [0] * 10\n",
    "    for i in range(10):\n",
    "        comb1 = calc1.records._combined * calc1.records.s006\n",
    "        comb2 = calc2.records._combined * calc2.records.s006\n",
    "        diff[i] = (comb2 - comb1).sum() / 10**9\n",
    "        if calc1.current_year < 2026:\n",
    "            calc1.increment_year()\n",
    "            calc2.increment_year()\n",
    "            calc1.calc_all()\n",
    "            calc2.calc_all()\n",
    "    return diff"
   ]
  },
  {
   "cell_type": "code",
   "execution_count": null,
   "metadata": {
    "collapsed": false
   },
   "outputs": [],
   "source": [
    "path_repeal = ten_years(calc_cl, calc_repeal)\n",
    "for x in path_repeal:\n",
    "    print x\n",
    "print '\\n' + str(sum(path_repeal))"
   ]
  },
  {
   "cell_type": "code",
   "execution_count": 13,
   "metadata": {
    "collapsed": false
   },
   "outputs": [
    {
     "name": "stdout",
     "output_type": "stream",
     "text": [
      "10.8045317583\n",
      "11.4799653631\n",
      "11.7571512667\n",
      "11.9056213031\n",
      "12.3402499305\n",
      "12.5738912182\n",
      "12.8831154408\n",
      "13.2659042151\n",
      "13.2651190458\n",
      "13.432599839\n",
      "\n",
      "123.708149381\n"
     ]
    }
   ],
   "source": [
    "path_t = ten_years(calc_cl, calc_t)\n",
    "for x in path_t:\n",
    "    print x\n",
    "print '\\n' + str(sum(path_t))"
   ]
  },
  {
   "cell_type": "code",
   "execution_count": null,
   "metadata": {
    "collapsed": true
   },
   "outputs": [],
   "source": []
  },
  {
   "cell_type": "code",
   "execution_count": null,
   "metadata": {
    "collapsed": false
   },
   "outputs": [],
   "source": [
    "use_ind = [i for i in range(219814) if calc_cl.records.n24[i] == 3 and calc_cl.records.c00100[i] < 250000]\n",
    "totaltax = sum([calc_cl.records._iitax[i] * calc_cl.records.s006[i] for i in use_ind])\n",
    "totalinc = sum([calc_cl.records.c00100[i] * calc_cl.records.s006[i] for i in use_ind])\n",
    "avgRate = totaltax / totalinc\n",
    "print avgRate\n",
    "print totaltax / sum(calc_cl.records.s006)"
   ]
  },
  {
   "cell_type": "code",
   "execution_count": null,
   "metadata": {
    "collapsed": false
   },
   "outputs": [],
   "source": [
    "use_ind = [i for i in range(219814) if calc_t.records.n24[i] == 3 and calc_t.records.c00100[i] < 250000]\n",
    "totaltax = sum([calc_t.records._iitax[i] * calc_t.records.s006[i] for i in use_ind])\n",
    "totalinc = sum([calc_t.records.c00100[i] * calc_t.records.s006[i] for i in use_ind])\n",
    "avgRate = totaltax / totalinc\n",
    "print avgRate\n",
    "print totaltax / sum(calc_t.records.s006)"
   ]
  },
  {
   "cell_type": "code",
   "execution_count": null,
   "metadata": {
    "collapsed": false
   },
   "outputs": [],
   "source": [
    "x1 = sum([calc_cl.records.s006[i] for i in range(219814) if (calc_cl.records._combined[i] < calc_repeal.records._combined[i])])\n",
    "x2 = sum([calc_cl.records.s006[i] for i in range(219814) if (calc_cl.records._combined[i] > calc_t.records._combined[i]) and \n",
    "          (calc_cl.records.c00100[i] < 20000)])\n",
    "print x1\n",
    "\n"
   ]
  },
  {
   "cell_type": "code",
   "execution_count": null,
   "metadata": {
    "collapsed": true
   },
   "outputs": [],
   "source": []
  },
  {
   "cell_type": "code",
   "execution_count": null,
   "metadata": {
    "collapsed": true
   },
   "outputs": [],
   "source": []
  }
 ],
 "metadata": {
  "kernelspec": {
   "display_name": "Python 2",
   "language": "python",
   "name": "python2"
  },
  "language_info": {
   "codemirror_mode": {
    "name": "ipython",
    "version": 2
   },
   "file_extension": ".py",
   "mimetype": "text/x-python",
   "name": "python",
   "nbconvert_exporter": "python",
   "pygments_lexer": "ipython2",
   "version": "2.7.12"
  }
 },
 "nbformat": 4,
 "nbformat_minor": 0
}
