{
 "cells": [
  {
   "cell_type": "code",
   "execution_count": 1,
   "metadata": {
    "collapsed": true
   },
   "outputs": [],
   "source": [
    "import sys\n",
    "sys.path.append(\"../../\")\n",
    "from taxcalc import *\n",
    "import pandas as pd\n",
    "import numpy as np\n",
    "import copy"
   ]
  },
  {
   "cell_type": "code",
   "execution_count": 2,
   "metadata": {
    "collapsed": false
   },
   "outputs": [
    {
     "name": "stdout",
     "output_type": "stream",
     "text": [
      "You loaded data for 2009.\n",
      "Your data have been extrapolated to 2013.\n",
      "Done\n"
     ]
    }
   ],
   "source": [
    "policy_cl = Policy()\n",
    "behavior_cl = Behavior()\n",
    "records_cl = Records(\"../../puf.csv\")\n",
    "calc_cl = Calculator(policy_cl, records_cl, behavior_cl)\n",
    "for i in range(4):\n",
    "    calc_cl.increment_year()\n",
    "assert calc_cl.current_year == 2017\n",
    "calc_cl.calc_all()\n",
    "print \"Done\""
   ]
  },
  {
   "cell_type": "code",
   "execution_count": 3,
   "metadata": {
    "collapsed": false
   },
   "outputs": [
    {
     "name": "stdout",
     "output_type": "stream",
     "text": [
      "You loaded data for 2009.\n",
      "Your data have been extrapolated to 2013.\n",
      "Done\n"
     ]
    }
   ],
   "source": [
    "policy_t = Policy()\n",
    "behavior_t = Behavior()\n",
    "records_t = Records(\"../../puf.csv\")\n",
    "reform_t = {\n",
    "    2017: {\n",
    "        '_ID_cap': [100000]\n",
    "    }\n",
    "}\n",
    "policy_t.implement_reform(reform_t)\n",
    "calc_t = Calculator(policy_t, records_t, behavior_t)\n",
    "for i in range(4):\n",
    "    calc_t.increment_year()\n",
    "assert calc_t.current_year == 2017\n",
    "calc_t.calc_all()\n",
    "print \"Done\""
   ]
  },
  {
   "cell_type": "code",
   "execution_count": 4,
   "metadata": {
    "collapsed": false
   },
   "outputs": [
    {
     "name": "stdout",
     "output_type": "stream",
     "text": [
      "You loaded data for 2009.\n",
      "Your data have been extrapolated to 2013.\n",
      "Done\n"
     ]
    }
   ],
   "source": [
    "policy_rb = Policy()\n",
    "behavior_rb = Behavior()\n",
    "records_rb = Records(\"../../puf.csv\")\n",
    "reform_rb = {\n",
    "    2017: {\n",
    "        '_II_rt1': [0.12],\n",
    "        '_II_rt2': [0.12],\n",
    "        '_II_rt3': [0.25],\n",
    "        '_II_rt4': [0.25],\n",
    "        '_II_rt5': [0.33],\n",
    "        '_II_rt6': [0.33],\n",
    "        '_II_rt7': [0.33],\n",
    "        '_AMT_rt1': [0.0],\n",
    "        '_AMT_rt2': [0.0],\n",
    "        '_STD': [[12000, 24000, 12000, 18000, 24000, 12000, 1050]],\n",
    "        '_STD_Aged': [[0,0,0,0,0,0],\n",
    "                      [0,0,0,0,0,0],\n",
    "                      [0,0,0,0,0,0],\n",
    "                      [0,0,0,0,0,0]],\n",
    "        '_II_em': [0,0,0,0],\n",
    "        '_CTC_ps': [[75000, 150000, 75000, 75000, 75000, 75000]],\n",
    "        '_DependentCredit_c': [500],\n",
    "        '_ID_StateLocalTax_hc': [1.0],\n",
    "        '_ID_Medical_hc': [1.0],\n",
    "        '_ID_Casualty_hc': [1.0],\n",
    "        '_ID_Miscellaneous_hc': [1.0],\n",
    "        '_ID_RealEstate_hc': [1.0],\n",
    "        '_ALD_Investment_ec_rt': [0.5],\n",
    "        '_ALD_Investment_ec_base_all': [False],\n",
    "        '_CG_nodiff': [True],\n",
    "        '_NIIT_rt': [0.0],\n",
    "        '_PT_rt1': [0.12],\n",
    "        '_PT_rt2': [0.12],\n",
    "        '_PT_rt3': [0.25],\n",
    "        '_PT_rt4': [0.25],\n",
    "        '_PT_rt5': [0.25],\n",
    "        '_PT_rt6': [0.25],\n",
    "        '_PT_rt7': [0.25]\n",
    "    }\n",
    "}\n",
    "policy_rb.implement_reform(reform_rb)\n",
    "calc_rb = Calculator(policy_rb, records_rb, behavior_rb)\n",
    "for i in range(4):\n",
    "    calc_rb.increment_year()\n",
    "assert calc_rb.current_year == 2017\n",
    "calc_rb.calc_all()\n",
    "print \"Done\""
   ]
  },
  {
   "cell_type": "code",
   "execution_count": 5,
   "metadata": {
    "collapsed": false
   },
   "outputs": [
    {
     "name": "stdout",
     "output_type": "stream",
     "text": [
      "You loaded data for 2009.\n",
      "Your data have been extrapolated to 2013.\n",
      "Done\n"
     ]
    }
   ],
   "source": [
    "policy_rbmini = Policy()\n",
    "behavior_rbmini = Behavior()\n",
    "records_rbmini = Records(\"../../puf.csv\")\n",
    "reform_rbmini = {\n",
    "    2017: {\n",
    "        '_II_rt1': [0.10],\n",
    "        '_II_rt2': [0.15],\n",
    "        '_II_rt3': [0.25],\n",
    "        '_II_rt4': [0.28],\n",
    "        '_II_rt5': [0.33],\n",
    "        '_II_rt6': [0.33],\n",
    "        '_II_rt7': [0.33],\n",
    "        '_NIIT_rt': [0.0]\n",
    "    }\n",
    "}\n",
    "policy_rbmini.implement_reform(reform_rbmini)\n",
    "calc_rbmini = Calculator(policy_rbmini, records_rbmini, behavior_rbmini)\n",
    "for i in range(4):\n",
    "    calc_rbmini.increment_year()\n",
    "assert calc_rbmini.current_year == 2017\n",
    "calc_rbmini.calc_all()\n",
    "print \"Done\""
   ]
  },
  {
   "cell_type": "code",
   "execution_count": 6,
   "metadata": {
    "collapsed": false
   },
   "outputs": [
    {
     "name": "stdout",
     "output_type": "stream",
     "text": [
      "21.2874809545\n",
      "-264.097529071\n",
      "-55.3041014605\n"
     ]
    }
   ],
   "source": [
    "def getRevenueImpact(calc_base, calc_reform):\n",
    "    comb_base = calc_base.records._combined * calc_base.records.s006\n",
    "    comb_reform = calc_reform.records._combined * calc_reform.records.s006\n",
    "    diff = (comb_reform - comb_base).sum() / 10**9\n",
    "    return diff\n",
    "\n",
    "print getRevenueImpact(calc_cl, calc_t)\n",
    "print getRevenueImpact(calc_cl, calc_rb)\n",
    "print getRevenueImpact(calc_cl, calc_rbmini)"
   ]
  },
  {
   "cell_type": "code",
   "execution_count": 8,
   "metadata": {
    "collapsed": false
   },
   "outputs": [],
   "source": [
    "ided_ind = [i for i in range(219814) if calc_cl.records.c04470[i] > calc_cl.records._standard[i]]\n",
    "highided_bin = np.where((((calc_cl.records.MARS == 2) & (calc_cl.records.c04470 >= 200000)) |\n",
    "                         ((calc_cl.records.MARS != 2) & (calc_cl.records.c04470 >= 100000))) == True, 1, 0)\n",
    "highided_ind = [i for i in ided_ind if highided_bin[i] == 1]\n",
    "\n",
    "def num_ided(calc):\n",
    "    num = np.where(calc.records.c04470 > calc.records._standard, calc.records.s006, 0).sum()\n",
    "    return num\n",
    "def amt_ided(calc):\n",
    "    amt = np.where(calc.records.c04470 > calc.records._standard, calc.records.c04470 * calc.records.s006, 0).sum()\n",
    "    return amt\n",
    "def amt_highided(calc):\n",
    "    amth = sum([calc.records.c04470[i] * calc.records.s006[i] for i in highided_ind])\n",
    "    return amth\n",
    "def mtr_highided(calc):\n",
    "    mtr_all = calc.mtr('e00200p')[1]\n",
    "    wmtr = (sum([mtr_all[i] * calc.records.e00200[i] * calc.records.s006[i] for i in highided_ind]) /\n",
    "            sum([calc.records.e00200[i] * calc.records.s006[i] for i in highided_ind]))\n",
    "    return wmtr\n",
    "def avgRate_highided(calc):\n",
    "    totaltax = [calc.records._combined[i] * calc.records.s006[i] for i in highided_ind]\n",
    "    totalagi = [calc.records.c00100[i] * calc.records.s006[i] for i in highided_ind]\n",
    "    avg = sum(totaltax) / sum(totalagi)\n",
    "    return avg"
   ]
  },
  {
   "cell_type": "code",
   "execution_count": 9,
   "metadata": {
    "collapsed": false,
    "scrolled": true
   },
   "outputs": [
    {
     "name": "stdout",
     "output_type": "stream",
     "text": [
      "45766.0477169\n",
      "329.11759954\n",
      "1363.58819699\n",
      "119.244022136\n",
      "0.384119126539\n",
      "0.314768324568\n"
     ]
    }
   ],
   "source": [
    "print num_ided(calc_cl) / 1000.\n",
    "print sum([calc_cl.records.s006[i] for i in highided_ind]) / 1000.\n",
    "print amt_ided(calc_cl) / 10**9\n",
    "print amt_highided(calc_cl) / 10**9\n",
    "print mtr_highided(calc_cl)\n",
    "print avgRate_highided(calc_cl)"
   ]
  },
  {
   "cell_type": "code",
   "execution_count": 10,
   "metadata": {
    "collapsed": false
   },
   "outputs": [
    {
     "name": "stdout",
     "output_type": "stream",
     "text": [
      "45740.0403343\n",
      "1288.90366445\n",
      "44.5583631128\n",
      "0.378012311686\n",
      "0.34514289187\n"
     ]
    }
   ],
   "source": [
    "print num_ided(calc_t) / 1000.\n",
    "print amt_ided(calc_t) / 10**9\n",
    "print amt_highided(calc_t) / 10**9\n",
    "print mtr_highided(calc_t)\n",
    "print avgRate_highided(calc_t)"
   ]
  },
  {
   "cell_type": "code",
   "execution_count": 10,
   "metadata": {
    "collapsed": false
   },
   "outputs": [
    {
     "name": "stdout",
     "output_type": "stream",
     "text": [
      "8366820.10287\n",
      "254.063370028\n",
      "28.0035198135\n",
      "0.312275887651\n"
     ]
    }
   ],
   "source": [
    "print num_ided(calc_rb)\n",
    "print amt_ided(calc_rb) / 10**9\n",
    "print amt_highided(calc_rb) / 10**9\n",
    "print mtr_highided(calc_rb)\n",
    "print avgRate_highided(calc_rb)"
   ]
  },
  {
   "cell_type": "code",
   "execution_count": 11,
   "metadata": {
    "collapsed": false
   },
   "outputs": [
    {
     "name": "stdout",
     "output_type": "stream",
     "text": [
      "59.3345094954\n",
      "16.2100075905\n",
      "37.1882237575\n"
     ]
    }
   ],
   "source": [
    "print sum([calc_cl.records.e18400[i] * calc_cl.records.s006[i] for i in highided_ind]) / 10**9\n",
    "print sum([calc_cl.records.e19200[i] * calc_cl.records.s006[i] for i in highided_ind]) / 10**9\n",
    "print sum([(calc_cl.records.e19800[i] + calc_cl.records.e20100[i]) * calc_cl.records.s006[i] for i in highided_ind]) / 10**9\n"
   ]
  },
  {
   "cell_type": "code",
   "execution_count": 4,
   "metadata": {
    "collapsed": false
   },
   "outputs": [
    {
     "name": "stdout",
     "output_type": "stream",
     "text": [
      "0.26682132891\n"
     ]
    }
   ],
   "source": [
    "print 46 / sum(calc_cl.records.s006) * 10**6"
   ]
  },
  {
   "cell_type": "code",
   "execution_count": 7,
   "metadata": {
    "collapsed": true
   },
   "outputs": [],
   "source": [
    "def static_path_change(calcx, calcy):\n",
    "    static_path = [0] * 10\n",
    "    calc1 = copy.deepcopy(calcx)\n",
    "    calc2 = copy.deepcopy(calcy)\n",
    "    for i in range(10):\n",
    "        calc1.calc_all()\n",
    "        calc2.calc_all()\n",
    "        calc1_combined = (calc1.records._combined * calc1.records.s006)\n",
    "        calc2_combined = (calc2.records._combined * calc2.records.s006)\n",
    "        static_path[i] = (calc2_combined - calc1_combined).sum() / 10**9\n",
    "        if calc1.current_year < 2026:\n",
    "            calc1.increment_year()\n",
    "            calc2.increment_year()\n",
    "    return static_path"
   ]
  },
  {
   "cell_type": "code",
   "execution_count": 8,
   "metadata": {
    "collapsed": false
   },
   "outputs": [
    {
     "name": "stdout",
     "output_type": "stream",
     "text": [
      "273.785442079\n"
     ]
    }
   ],
   "source": [
    "print sum(static_path_change(calc_cl, calc_t))"
   ]
  },
  {
   "cell_type": "code",
   "execution_count": 9,
   "metadata": {
    "collapsed": false
   },
   "outputs": [
    {
     "name": "stdout",
     "output_type": "stream",
     "text": [
      "-662.206342845\n"
     ]
    }
   ],
   "source": [
    "print sum(static_path_change(calc_cl, calc_rbmini))"
   ]
  },
  {
   "cell_type": "code",
   "execution_count": 16,
   "metadata": {
    "collapsed": false
   },
   "outputs": [
    {
     "name": "stdout",
     "output_type": "stream",
     "text": [
      "2129470.29003\n",
      "2414661.55061\n",
      "0.649525661036\n"
     ]
    }
   ],
   "source": [
    "print sum([calc_cl.records.c00100[i] * calc_cl.records.s006[i] for i in highided_ind]) / sum([calc_cl.records.s006[i] for i in highided_ind])\n",
    "print np.percentile([calc_cl.records.c00100[i] for i in highided_ind], 50)\n",
    "print sum([calc_cl.records.s006[i] for i in highided_ind if calc_cl.records.c00100[i] > 434700]) / sum([calc_cl.records.s006[i] for i in highided_ind])"
   ]
  },
  {
   "cell_type": "code",
   "execution_count": 23,
   "metadata": {
    "collapsed": false
   },
   "outputs": [
    {
     "name": "stdout",
     "output_type": "stream",
     "text": [
      "43375.6987034\n"
     ]
    }
   ],
   "source": [
    "print np.percentile([calc_cl.records.c04470[i] for i in range(219814) if (calc_cl.records.MARS[i] == 2 and calc_cl.records.c04470[i] > calc_cl.records._standard[i])], 50)"
   ]
  },
  {
   "cell_type": "code",
   "execution_count": 26,
   "metadata": {
    "collapsed": false
   },
   "outputs": [
    {
     "name": "stdout",
     "output_type": "stream",
     "text": [
      "15375.8406758\n"
     ]
    }
   ],
   "source": [
    "def extract_percentile(measure1, wgt, pctl):\n",
    "    # Extracts the observation at the low end of the given percentile\n",
    "    # Percentile must be in decimal form\n",
    "    assert pctl >=0 and pctl <=1\n",
    "    total = sum(wgt)\n",
    "    paired = zip(measure1, wgt)\n",
    "    paired.sort()\n",
    "    paired_sorted = zip(*paired)\n",
    "    measure1_s = paired_sorted[0]\n",
    "    wgt_s = paired_sorted[1]\n",
    "    wgt_sum = 0\n",
    "    i = 0\n",
    "    while wgt_sum < total * pctl:\n",
    "        wgt_sum += wgt_s[i]\n",
    "        i += 1\n",
    "    pctl_entry = measure1_s[i - 1]\n",
    "    return pctl_entry\n",
    "wgt1 = [calc_cl.records.s006[i] for i in range(219814) if (calc_cl.records.MARS[i] == 1 and calc_cl.records.c04470[i] > calc_cl.records._standard[i])]\n",
    "ided1 = [calc_cl.records.c04470[i] for i in range(219814) if (calc_cl.records.MARS[i] ==1  and calc_cl.records.c04470[i] > calc_cl.records._standard[i])]\n",
    "print extract_percentile(ided1, wgt1, 0.5)"
   ]
  },
  {
   "cell_type": "code",
   "execution_count": null,
   "metadata": {
    "collapsed": true
   },
   "outputs": [],
   "source": []
  },
  {
   "cell_type": "code",
   "execution_count": null,
   "metadata": {
    "collapsed": true
   },
   "outputs": [],
   "source": []
  }
 ],
 "metadata": {
  "kernelspec": {
   "display_name": "Python 2",
   "language": "python",
   "name": "python2"
  },
  "language_info": {
   "codemirror_mode": {
    "name": "ipython",
    "version": 2
   },
   "file_extension": ".py",
   "mimetype": "text/x-python",
   "name": "python",
   "nbconvert_exporter": "python",
   "pygments_lexer": "ipython2",
   "version": "2.7.12"
  }
 },
 "nbformat": 4,
 "nbformat_minor": 0
}
