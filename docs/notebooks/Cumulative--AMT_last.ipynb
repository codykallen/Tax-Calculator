{
 "cells": [
  {
   "cell_type": "code",
   "execution_count": 1,
   "metadata": {
    "collapsed": true
   },
   "outputs": [],
   "source": [
    "import sys\n",
    "sys.path.append(\"../../\")\n",
    "from taxcalc import *\n",
    "import pandas as pd\n",
    "import numpy as np\n",
    "import copy"
   ]
  },
  {
   "cell_type": "code",
   "execution_count": 3,
   "metadata": {
    "collapsed": true
   },
   "outputs": [],
   "source": [
    "CBO_growth = {2013: {'_factor_target': [0.022, \n",
    "                                        0.024,\n",
    "                                        0.024,\n",
    "                                        0.025,\n",
    "                                        0.026,\n",
    "                                        0.023,\n",
    "                                        0.018,\n",
    "                                        0.019,\n",
    "                                        0.021,\n",
    "                                        0.021,\n",
    "                                        0.021,\n",
    "                                        0.02,\n",
    "                                        0.02,\n",
    "                                        0.02]\n",
    "                     }\n",
    "              }\n",
    "behavior_traits = {2017: {'_BE_inc': [0.0], '_BE_sub': [0.4], '_BE_cg': [-3.487]}}"
   ]
  },
  {
   "cell_type": "markdown",
   "metadata": {},
   "source": [
    "# Cumulative construction of reform plan aspects"
   ]
  },
  {
   "cell_type": "code",
   "execution_count": 4,
   "metadata": {
    "collapsed": false
   },
   "outputs": [
    {
     "name": "stdout",
     "output_type": "stream",
     "text": [
      "You loaded data for 2009.\n",
      "Your data have been extrapolated to 2013.\n",
      "Done\n"
     ]
    }
   ],
   "source": [
    "# Current law baseline\n",
    "policy_cl = Policy()\n",
    "behavior_cl = Behavior()\n",
    "records_cl = Records(\"../../puf.csv\")\n",
    "calc_cl = Calculator(policy_cl, records_cl, behavior_traits)\n",
    "calc_cl.growth.update_economic_growth(CBO_growth)\n",
    "for i in range(4):\n",
    "    calc_cl.increment_year()\n",
    "assert calc_cl.current_year == 2017\n",
    "calc_cl.calc_all()\n",
    "print \"Done\""
   ]
  },
  {
   "cell_type": "code",
   "execution_count": 4,
   "metadata": {
    "collapsed": false
   },
   "outputs": [
    {
     "name": "stdout",
     "output_type": "stream",
     "text": [
      "You loaded data for 2009.\n",
      "Your data have been extrapolated to 2013.\n",
      "Done\n"
     ]
    }
   ],
   "source": [
    "# Reform income tax rates\n",
    "policy_inc = Policy()\n",
    "behavior_inc = Behavior()\n",
    "records_inc = Records(\"../../puf.csv\")\n",
    "reform_inc = {\n",
    "    2017: {\n",
    "        '_II_rt1': [0.12],\n",
    "        '_II_rt2': [0.12],\n",
    "        '_II_rt3': [0.25],\n",
    "        '_II_rt4': [0.25],\n",
    "        '_II_rt5': [0.33],\n",
    "        '_II_rt6': [0.33],\n",
    "        '_II_rt7': [0.33]\n",
    "    }\n",
    "}\n",
    "policy_inc.implement_reform(reform_inc)\n",
    "calc_inc = Calculator(policy_inc, records_inc, behavior_inc)\n",
    "calc_inc.growth.update_economic_growth(CBO_growth)\n",
    "for i in range(4):\n",
    "    calc_inc.increment_year()\n",
    "assert calc_inc.current_year == 2017\n",
    "calc_inc.calc_all()\n",
    "calc_inc.behavior.update_behavior(behavior_traits)\n",
    "calc_inc_beh = Behavior.response(calc_cl, calc_inc)\n",
    "print \"Done\""
   ]
  },
  {
   "cell_type": "code",
   "execution_count": 5,
   "metadata": {
    "collapsed": false
   },
   "outputs": [
    {
     "name": "stdout",
     "output_type": "stream",
     "text": [
      "You loaded data for 2009.\n",
      "Your data have been extrapolated to 2013.\n",
      "Done\n"
     ]
    }
   ],
   "source": [
    "# Reform pass-through tax rates\n",
    "policy_pt = Policy()\n",
    "behavior_pt = Behavior()\n",
    "records_pt = Records(\"../../puf.csv\")\n",
    "reform_pt = {\n",
    "    2017: {\n",
    "        '_II_rt1': [0.12],\n",
    "        '_II_rt2': [0.12],\n",
    "        '_II_rt3': [0.25],\n",
    "        '_II_rt4': [0.25],\n",
    "        '_II_rt5': [0.33],\n",
    "        '_II_rt6': [0.33],\n",
    "        '_II_rt7': [0.33],\n",
    "        '_PT_rt1': [0.12],\n",
    "        '_PT_rt2': [0.12],\n",
    "        '_PT_rt3': [0.25],\n",
    "        '_PT_rt4': [0.25],\n",
    "        '_PT_rt5': [0.25],\n",
    "        '_PT_rt6': [0.25],\n",
    "        '_PT_rt7': [0.25]\n",
    "    }\n",
    "}\n",
    "policy_pt.implement_reform(reform_pt)\n",
    "calc_pt = Calculator(policy_pt, records_pt, behavior_pt)\n",
    "calc_pt.growth.update_economic_growth(CBO_growth)\n",
    "for i in range(4):\n",
    "    calc_pt.increment_year()\n",
    "assert calc_pt.current_year == 2017\n",
    "calc_pt.calc_all()\n",
    "calc_pt.behavior.update_behavior(behavior_traits)\n",
    "calc_pt_beh = Behavior.response(calc_cl, calc_pt)\n",
    "print \"Done\""
   ]
  },
  {
   "cell_type": "code",
   "execution_count": 4,
   "metadata": {
    "collapsed": false
   },
   "outputs": [
    {
     "name": "stdout",
     "output_type": "stream",
     "text": [
      "You loaded data for 2009.\n",
      "Your data have been extrapolated to 2013.\n",
      "Done\n"
     ]
    }
   ],
   "source": [
    "# Exclude half of ltcg, qdivs and interest from taxation\n",
    "policy_inv = Policy()\n",
    "behavior_inv = Behavior()\n",
    "records_inv = Records(\"../../puf.csv\")\n",
    "reform_inv = {\n",
    "    2017: {\n",
    "        '_II_rt1': [0.12],\n",
    "        '_II_rt2': [0.12],\n",
    "        '_II_rt3': [0.25],\n",
    "        '_II_rt4': [0.25],\n",
    "        '_II_rt5': [0.33],\n",
    "        '_II_rt6': [0.33],\n",
    "        '_II_rt7': [0.33],\n",
    "        '_PT_rt1': [0.12],\n",
    "        '_PT_rt2': [0.12],\n",
    "        '_PT_rt3': [0.25],\n",
    "        '_PT_rt4': [0.25],\n",
    "        '_PT_rt5': [0.25],\n",
    "        '_PT_rt6': [0.25],\n",
    "        '_PT_rt7': [0.25],\n",
    "        '_ALD_Investment_ec': [0.5],        \n",
    "        '_CG_as_II': [1],\n",
    "        '_NIIT_trt': [0.0]\n",
    "    }\n",
    "}\n",
    "policy_inv.implement_reform(reform_inv)\n",
    "calc_inv = Calculator(policy_inv, records_inv, behavior_inv)\n",
    "calc_inv.growth.update_economic_growth(CBO_growth)\n",
    "for i in range(4):\n",
    "    calc_inv.increment_year()\n",
    "assert calc_inv.current_year == 2017\n",
    "calc_inv.calc_all()\n",
    "calc_inv.behavior.update_behavior(behavior_traits)\n",
    "calc_inv_beh = Behavior.response(calc_cl, calc_inv)\n",
    "print \"Done\""
   ]
  },
  {
   "cell_type": "code",
   "execution_count": 5,
   "metadata": {
    "collapsed": false
   },
   "outputs": [
    {
     "name": "stdout",
     "output_type": "stream",
     "text": [
      "You loaded data for 2009.\n",
      "Your data have been extrapolated to 2013.\n",
      "Done\n"
     ]
    }
   ],
   "source": [
    "# Expand the standard deduction, repeal the personal exemption, repeal the add'l standard deduction for the aged and blind,\n",
    "# increase CTC phase-out threshold for married filers, add $500 non-refundable credit for dependents\n",
    "policy_sd = Policy()\n",
    "behavior_sd = Behavior()\n",
    "records_sd = Records(\"../../puf.csv\")\n",
    "reform_sd = {\n",
    "    2017: {\n",
    "        '_II_rt1': [0.12],\n",
    "        '_II_rt2': [0.12],\n",
    "        '_II_rt3': [0.25],\n",
    "        '_II_rt4': [0.25],\n",
    "        '_II_rt5': [0.33],\n",
    "        '_II_rt6': [0.33],\n",
    "        '_II_rt7': [0.33],\n",
    "        '_PT_rt1': [0.12],\n",
    "        '_PT_rt2': [0.12],\n",
    "        '_PT_rt3': [0.25],\n",
    "        '_PT_rt4': [0.25],\n",
    "        '_PT_rt5': [0.25],\n",
    "        '_PT_rt6': [0.25],\n",
    "        '_PT_rt7': [0.25],\n",
    "        '_ALD_Investment_ec': [0.5],        \n",
    "        '_CG_as_II': [1],\n",
    "        '_NIIT_trt': [0.0],\n",
    "        '_STD': [[12000, 24000, 12000, 18000, 24000, 12000, 1050]],\n",
    "        '_STD_Aged': [[0,0,0,0,0,0],\n",
    "                      [0,0,0,0,0,0],\n",
    "                      [0,0,0,0,0,0],\n",
    "                      [0,0,0,0,0,0]],\n",
    "        '_II_em': [0,0,0,0],\n",
    "        '_CTC_ps': [[75000, 150000, 75000, 75000, 75000, 75000]],\n",
    "        '_II_credit': [[500, 500, 500, 500, 500, 500]],\n",
    "        '_II_credit_ps': [[75000, 150000, 75000, 75000, 75000, 75000]],\n",
    "        '_II_credit_prt': [0.05]\n",
    "    }\n",
    "}\n",
    "policy_sd.implement_reform(reform_sd)\n",
    "calc_sd = Calculator(policy_sd, records_sd, behavior_sd)\n",
    "calc_sd.growth.update_economic_growth(CBO_growth)\n",
    "for i in range(4):\n",
    "    calc_sd.increment_year()\n",
    "assert calc_sd.current_year == 2017\n",
    "calc_sd.calc_all()\n",
    "calc_sd.behavior.update_behavior(behavior_traits)\n",
    "calc_sd_beh = Behavior.response(calc_cl, calc_sd)\n",
    "print \"Done\""
   ]
  },
  {
   "cell_type": "code",
   "execution_count": 5,
   "metadata": {
    "collapsed": false
   },
   "outputs": [
    {
     "name": "stdout",
     "output_type": "stream",
     "text": [
      "You loaded data for 2009.\n",
      "Your data have been extrapolated to 2013.\n",
      "Done\n"
     ]
    }
   ],
   "source": [
    "# Repeal all itemized deductions except for mortgage interest and charity\n",
    "policy_ided = Policy()\n",
    "behavior_ided = Behavior()\n",
    "records_ided = Records(\"../../puf.csv\")\n",
    "reform_ided = {\n",
    "    2017: {\n",
    "        '_II_rt1': [0.12],\n",
    "        '_II_rt2': [0.12],\n",
    "        '_II_rt3': [0.25],\n",
    "        '_II_rt4': [0.25],\n",
    "        '_II_rt5': [0.33],\n",
    "        '_II_rt6': [0.33],\n",
    "        '_II_rt7': [0.33],\n",
    "        '_PT_rt1': [0.12],\n",
    "        '_PT_rt2': [0.12],\n",
    "        '_PT_rt3': [0.25],\n",
    "        '_PT_rt4': [0.25],\n",
    "        '_PT_rt5': [0.25],\n",
    "        '_PT_rt6': [0.25],\n",
    "        '_PT_rt7': [0.25],\n",
    "        '_ALD_Investment_ec': [0.5],        \n",
    "        '_CG_as_II': [1],\n",
    "        '_NIIT_trt': [0.0],\n",
    "        '_STD': [[12000, 24000, 12000, 18000, 24000, 12000, 1050]],\n",
    "        '_STD_Aged': [[0,0,0,0,0,0],\n",
    "                      [0,0,0,0,0,0],\n",
    "                      [0,0,0,0,0,0],\n",
    "                      [0,0,0,0,0,0]],\n",
    "        '_II_em': [0,0,0,0],\n",
    "        '_CTC_ps': [[75000, 150000, 75000, 75000, 75000, 75000]],\n",
    "        '_II_credit': [[500, 500, 500, 500, 500, 500]],\n",
    "        '_II_credit_ps': [[75000, 150000, 75000, 75000, 75000, 75000]],\n",
    "        '_II_credit_prt': [0.05],\n",
    "        '_ID_StateLocalTax_HC': [1.0],\n",
    "        '_ID_Medical_HC': [1.0],\n",
    "        '_ID_Casualty_HC': [1.0],\n",
    "        '_ID_Miscellaneous_HC': [1.0],\n",
    "        '_ID_RealEstate_HC': [1.0],\n",
    "        '_ALD_Investment_ec': [0.5]\n",
    "    }\n",
    "}\n",
    "policy_ided.implement_reform(reform_ided)\n",
    "calc_ided = Calculator(policy_ided, records_ided, behavior_ided)\n",
    "calc_ided.growth.update_economic_growth(CBO_growth)\n",
    "for i in range(4):\n",
    "    calc_ided.increment_year()\n",
    "assert calc_ided.current_year == 2017\n",
    "calc_ided.calc_all()\n",
    "calc_ided.behavior.update_behavior(behavior_traits)\n",
    "calc_ided_beh = Behavior.response(calc_cl, calc_ided)\n",
    "print \"Done\""
   ]
  },
  {
   "cell_type": "code",
   "execution_count": 6,
   "metadata": {
    "collapsed": false
   },
   "outputs": [
    {
     "name": "stdout",
     "output_type": "stream",
     "text": [
      "You loaded data for 2009.\n",
      "Your data have been extrapolated to 2013.\n",
      "Done\n"
     ]
    }
   ],
   "source": [
    "# Repeal the AMT\n",
    "policy_amt = Policy()\n",
    "behavior_amt = Behavior()\n",
    "records_amt = Records(\"../../puf.csv\")\n",
    "reform_amt = {\n",
    "    2017: {\n",
    "        '_AMT_trt1': [0.0],\n",
    "        '_AMT_trt2': [0.0],\n",
    "        '_II_rt1': [0.12],\n",
    "        '_II_rt2': [0.12],\n",
    "        '_II_rt3': [0.25],\n",
    "        '_II_rt4': [0.25],\n",
    "        '_II_rt5': [0.33],\n",
    "        '_II_rt6': [0.33],\n",
    "        '_II_rt7': [0.33],\n",
    "        '_PT_rt1': [0.12],\n",
    "        '_PT_rt2': [0.12],\n",
    "        '_PT_rt3': [0.25],\n",
    "        '_PT_rt4': [0.25],\n",
    "        '_PT_rt5': [0.25],\n",
    "        '_PT_rt6': [0.25],\n",
    "        '_PT_rt7': [0.25],\n",
    "        '_ALD_Investment_ec': [0.5],        \n",
    "        '_CG_as_II': [1],\n",
    "        '_NIIT_trt': [0.0],\n",
    "        '_STD': [[12000, 24000, 12000, 18000, 24000, 12000, 1050]],\n",
    "        '_STD_Aged': [[0,0,0,0,0,0],\n",
    "                      [0,0,0,0,0,0],\n",
    "                      [0,0,0,0,0,0],\n",
    "                      [0,0,0,0,0,0]],\n",
    "        '_II_em': [0,0,0,0],\n",
    "        '_CTC_ps': [[75000, 150000, 75000, 75000, 75000, 75000]],\n",
    "        '_II_credit': [[500, 500, 500, 500, 500, 500]],\n",
    "        '_II_credit_ps': [[75000, 150000, 75000, 75000, 75000, 75000]],\n",
    "        '_II_credit_prt': [0.05],\n",
    "        '_ID_StateLocalTax_HC': [1.0],\n",
    "        '_ID_Medical_HC': [1.0],\n",
    "        '_ID_Casualty_HC': [1.0],\n",
    "        '_ID_Miscellaneous_HC': [1.0],\n",
    "        '_ID_RealEstate_HC': [1.0],\n",
    "        '_ALD_Investment_ec': [0.5]\n",
    "    }\n",
    "}\n",
    "policy_amt.implement_reform(reform_amt)\n",
    "calc_amt = Calculator(policy_amt, records_amt, behavior_amt)\n",
    "calc_amt.growth.update_economic_growth(CBO_growth)\n",
    "for i in range(4):\n",
    "    calc_amt.increment_year()\n",
    "assert calc_amt.current_year == 2017\n",
    "calc_amt.calc_all()\n",
    "calc_amt.behavior.update_behavior(behavior_traits)\n",
    "calc_amt_beh = Behavior.response(calc_cl, calc_amt)\n",
    "print \"Done\""
   ]
  },
  {
   "cell_type": "markdown",
   "metadata": {},
   "source": [
    "# Iterator and revenue impact"
   ]
  },
  {
   "cell_type": "code",
   "execution_count": 7,
   "metadata": {
    "collapsed": true
   },
   "outputs": [],
   "source": [
    "def static_path_change(calcx, calcy):\n",
    "    static_path = [0] * 10\n",
    "    calc1 = copy.deepcopy(calcx)\n",
    "    calc2 = copy.deepcopy(calcy)\n",
    "    for i in range(10):\n",
    "        calc1.calc_all()\n",
    "        calc2.calc_all()\n",
    "        calc1_combined = (calc1.records._combined * calc1.records.s006)\n",
    "        calc2_combined = (calc2.records._combined * calc2.records.s006)\n",
    "        static_path[i] = (calc2_combined - calc1_combined).sum() / 10**9\n",
    "        if calc1.current_year < 2026:\n",
    "            calc1.increment_year()\n",
    "            calc2.increment_year()\n",
    "    return static_path"
   ]
  },
  {
   "cell_type": "markdown",
   "metadata": {},
   "source": [
    "## No behavioral response"
   ]
  },
  {
   "cell_type": "code",
   "execution_count": 8,
   "metadata": {
    "collapsed": false
   },
   "outputs": [
    {
     "name": "stdout",
     "output_type": "stream",
     "text": [
      "-75.4847369696\n",
      "-79.2207433456\n",
      "-82.5465280617\n",
      "-86.3800440302\n",
      "-90.5269231884\n",
      "-94.9337248133\n",
      "-99.7075757323\n",
      "-104.595236374\n",
      "-109.700092556\n",
      "-115.081850588\n"
     ]
    }
   ],
   "source": [
    "path1 = static_path_change(calc_cl, calc_inc)\n",
    "for x in path1:\n",
    "    print x"
   ]
  },
  {
   "cell_type": "code",
   "execution_count": 9,
   "metadata": {
    "collapsed": false
   },
   "outputs": [
    {
     "name": "stdout",
     "output_type": "stream",
     "text": [
      "-36.3086389548\n",
      "-36.7253745517\n",
      "-37.049041663\n",
      "-37.6344481281\n",
      "-38.7651882071\n",
      "-40.1121148718\n",
      "-41.7899929203\n",
      "-43.8720561765\n",
      "-46.436609452\n",
      "-49.6242887434\n"
     ]
    }
   ],
   "source": [
    "path2 = static_path_change(calc_inc, calc_pt)\n",
    "for x in path2:\n",
    "    print x"
   ]
  },
  {
   "cell_type": "code",
   "execution_count": 10,
   "metadata": {
    "collapsed": false
   },
   "outputs": [
    {
     "name": "stdout",
     "output_type": "stream",
     "text": [
      "-62.6098166842\n",
      "-64.5663639293\n",
      "-65.9374722538\n",
      "-68.3919822992\n",
      "-71.3020324429\n",
      "-74.6317892416\n",
      "-78.2246359118\n",
      "-82.1635617429\n",
      "-86.5011415399\n",
      "-91.0297223842\n"
     ]
    }
   ],
   "source": [
    "path3 = static_path_change(calc_pt, calc_inv)\n",
    "for x in path3:\n",
    "    print x"
   ]
  },
  {
   "cell_type": "code",
   "execution_count": 10,
   "metadata": {
    "collapsed": false
   },
   "outputs": [
    {
     "name": "stdout",
     "output_type": "stream",
     "text": [
      "35.9287324674\n",
      "37.9303336444\n",
      "39.791623047\n",
      "41.8770238667\n",
      "44.0303608223\n",
      "46.1644685798\n",
      "48.4046596043\n",
      "50.5689972112\n",
      "52.8436535352\n",
      "55.1674742316\n"
     ]
    }
   ],
   "source": [
    "path4 = static_path_change(calc_inv, calc_sd)\n",
    "for x in path4:\n",
    "    print x"
   ]
  },
  {
   "cell_type": "code",
   "execution_count": 11,
   "metadata": {
    "collapsed": false
   },
   "outputs": [
    {
     "name": "stdout",
     "output_type": "stream",
     "text": [
      "73.2537971004\n",
      "79.0127018985\n",
      "84.7639786275\n",
      "91.0130758471\n",
      "97.5445564902\n",
      "104.570206685\n",
      "111.812493365\n",
      "119.233443493\n",
      "126.982146568\n",
      "135.023138227\n"
     ]
    }
   ],
   "source": [
    "path5 = static_path_change(calc_sd, calc_ided)\n",
    "for x in path5:\n",
    "    print x"
   ]
  },
  {
   "cell_type": "code",
   "execution_count": 7,
   "metadata": {
    "collapsed": false
   },
   "outputs": [
    {
     "name": "stdout",
     "output_type": "stream",
     "text": [
      "-32.6931311037\n",
      "-33.9095272295\n",
      "-34.9281930957\n",
      "-36.2102682066\n",
      "-37.6726246289\n",
      "-39.4794656665\n",
      "-41.3966833157\n",
      "-43.4982462566\n",
      "-45.8630224922\n",
      "-48.5905019846\n"
     ]
    }
   ],
   "source": [
    "path6 = static_path_change(calc_ided, calc_amt)\n",
    "for x in path6:\n",
    "    print x"
   ]
  },
  {
   "cell_type": "markdown",
   "metadata": {},
   "source": [
    "## With behavioral response"
   ]
  },
  {
   "cell_type": "code",
   "execution_count": 9,
   "metadata": {
    "collapsed": false
   },
   "outputs": [
    {
     "name": "stdout",
     "output_type": "stream",
     "text": [
      "-46.9241617707\n",
      "-49.2975874745\n",
      "-51.2788268395\n",
      "-53.6592242213\n",
      "-56.198730174\n",
      "-58.8972462966\n",
      "-61.9057729922\n",
      "-64.9739171066\n",
      "-68.1497346756\n",
      "-71.4760384601\n"
     ]
    }
   ],
   "source": [
    "path1b = static_path_change(calc_cl, calc_inc_beh)\n",
    "for x in path1b:\n",
    "    print x"
   ]
  },
  {
   "cell_type": "code",
   "execution_count": 10,
   "metadata": {
    "collapsed": false
   },
   "outputs": [
    {
     "name": "stdout",
     "output_type": "stream",
     "text": [
      "-23.6355527287\n",
      "-23.4023592478\n",
      "-23.0909733431\n",
      "-23.0870617626\n",
      "-23.5092957226\n",
      "-24.0494518963\n",
      "-24.9825524397\n",
      "-26.2793805821\n",
      "-27.9881081668\n",
      "-30.310820093\n"
     ]
    }
   ],
   "source": [
    "path2b = static_path_change(calc_inc_beh, calc_pt_beh)\n",
    "for x in path2b:\n",
    "    print x"
   ]
  },
  {
   "cell_type": "code",
   "execution_count": 11,
   "metadata": {
    "collapsed": false
   },
   "outputs": [
    {
     "name": "stdout",
     "output_type": "stream",
     "text": [
      "-44.6821186639\n",
      "-46.7022057694\n",
      "-48.4760889209\n",
      "-50.7447324187\n",
      "-53.2570962091\n",
      "-56.0291128048\n",
      "-58.9726145006\n",
      "-62.1576173777\n",
      "-65.6472835777\n",
      "-69.3567855779\n"
     ]
    }
   ],
   "source": [
    "path3b = static_path_change(calc_pt_beh, calc_inv_beh)\n",
    "for x in path3b:\n",
    "    print x"
   ]
  },
  {
   "cell_type": "code",
   "execution_count": 8,
   "metadata": {
    "collapsed": false
   },
   "outputs": [
    {
     "name": "stdout",
     "output_type": "stream",
     "text": [
      "37.7191813919\n",
      "40.0781853374\n",
      "42.2793083804\n",
      "44.7160343564\n",
      "47.2693370406\n",
      "49.7346115276\n",
      "52.3806100171\n",
      "54.9182352385\n",
      "57.4870736583\n",
      "59.9705076154\n"
     ]
    }
   ],
   "source": [
    "path4b = static_path_change(calc_inv_beh, calc_sd_beh)\n",
    "for x in path4b:\n",
    "    print x"
   ]
  },
  {
   "cell_type": "code",
   "execution_count": 9,
   "metadata": {
    "collapsed": false
   },
   "outputs": [
    {
     "name": "stdout",
     "output_type": "stream",
     "text": [
      "73.4712549363\n",
      "79.2796743615\n",
      "85.1031277364\n",
      "91.4497808929\n",
      "98.1000127554\n",
      "105.148918048\n",
      "112.508764628\n",
      "120.043131166\n",
      "127.928269293\n",
      "136.073766061\n"
     ]
    }
   ],
   "source": [
    "path5b = static_path_change(calc_sd_beh, calc_ided_beh)\n",
    "for x in path5b:\n",
    "    print x"
   ]
  },
  {
   "cell_type": "code",
   "execution_count": 8,
   "metadata": {
    "collapsed": false
   },
   "outputs": [
    {
     "name": "stdout",
     "output_type": "stream",
     "text": [
      "-29.7342805943\n",
      "-30.6630712896\n",
      "-31.4285417217\n",
      "-32.5019555718\n",
      "-33.7583633002\n",
      "-35.3817772678\n",
      "-37.0405498312\n",
      "-38.8934014971\n",
      "-40.9952053589\n",
      "-43.4459606626\n"
     ]
    }
   ],
   "source": [
    "path6b = static_path_change(calc_ided_beh, calc_amt_beh)\n",
    "for x in path6b:\n",
    "    print x"
   ]
  },
  {
   "cell_type": "code",
   "execution_count": null,
   "metadata": {
    "collapsed": true
   },
   "outputs": [],
   "source": []
  },
  {
   "cell_type": "code",
   "execution_count": null,
   "metadata": {
    "collapsed": true
   },
   "outputs": [],
   "source": []
  }
 ],
 "metadata": {
  "kernelspec": {
   "display_name": "Python 2",
   "language": "python",
   "name": "python2"
  },
  "language_info": {
   "codemirror_mode": {
    "name": "ipython",
    "version": 2
   },
   "file_extension": ".py",
   "mimetype": "text/x-python",
   "name": "python",
   "nbconvert_exporter": "python",
   "pygments_lexer": "ipython2",
   "version": "2.7.12"
  }
 },
 "nbformat": 4,
 "nbformat_minor": 0
}
